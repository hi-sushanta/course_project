{
  "nbformat": 4,
  "nbformat_minor": 0,
  "metadata": {
    "colab": {
      "name": "00_tensorflow_fundamental.ipynb",
      "provenance": [],
      "collapsed_sections": []
    },
    "kernelspec": {
      "name": "python3",
      "display_name": "Python 3"
    },
    "language_info": {
      "name": "python"
    }
  },
  "cells": [
    {
      "cell_type": "code",
      "execution_count": null,
      "metadata": {
        "colab": {
          "base_uri": "https://localhost:8080/"
        },
        "id": "RY-oH1m4BNnb",
        "outputId": "db299fee-3ba0-4691-c7e8-a24b1a547ba0"
      },
      "outputs": [
        {
          "output_type": "stream",
          "name": "stdout",
          "text": [
            "version of tensorflow  2.8.0\n"
          ]
        }
      ],
      "source": [
        "# import tensorflow\n",
        "import tensorflow as tf\n",
        "print(\"version of tensorflow \", tf.__version__)"
      ]
    },
    {
      "cell_type": "code",
      "source": [
        "# create tensor with tf.constant()\n",
        "scaller = tf.constant(7)\n",
        "scaller"
      ],
      "metadata": {
        "colab": {
          "base_uri": "https://localhost:8080/"
        },
        "id": "Y9PvZF5YBXeu",
        "outputId": "335ae648-5c3e-46c7-8f4b-dbc1717ab040"
      },
      "execution_count": null,
      "outputs": [
        {
          "output_type": "execute_result",
          "data": {
            "text/plain": [
              "<tf.Tensor: shape=(), dtype=int32, numpy=7>"
            ]
          },
          "metadata": {},
          "execution_count": 2
        }
      ]
    },
    {
      "cell_type": "code",
      "source": [
        "# check the number of dimansions of a tensor (ndim stands for number of dimensions)\n",
        "scaller.ndim"
      ],
      "metadata": {
        "colab": {
          "base_uri": "https://localhost:8080/"
        },
        "id": "_XpDtdo2C0OK",
        "outputId": "684be8a4-3feb-4cd7-e87f-89a9c633198d"
      },
      "execution_count": null,
      "outputs": [
        {
          "output_type": "execute_result",
          "data": {
            "text/plain": [
              "0"
            ]
          },
          "metadata": {},
          "execution_count": 3
        }
      ]
    },
    {
      "cell_type": "code",
      "source": [
        "# create a vector \n",
        "vector = tf.constant([3,9])\n",
        "vector"
      ],
      "metadata": {
        "colab": {
          "base_uri": "https://localhost:8080/"
        },
        "id": "4F6gOsMvDKrm",
        "outputId": "6aa222f5-3ff4-4806-8e64-ac241b69cad7"
      },
      "execution_count": null,
      "outputs": [
        {
          "output_type": "execute_result",
          "data": {
            "text/plain": [
              "<tf.Tensor: shape=(2,), dtype=int32, numpy=array([3, 9], dtype=int32)>"
            ]
          },
          "metadata": {},
          "execution_count": 4
        }
      ]
    },
    {
      "cell_type": "code",
      "source": [
        "# check vector dimensios\n",
        "vector.ndim"
      ],
      "metadata": {
        "colab": {
          "base_uri": "https://localhost:8080/"
        },
        "id": "9ZUpbtX1EzxH",
        "outputId": "c29a3290-35ed-4a34-bc43-40c2fb082970"
      },
      "execution_count": null,
      "outputs": [
        {
          "output_type": "execute_result",
          "data": {
            "text/plain": [
              "1"
            ]
          },
          "metadata": {},
          "execution_count": 5
        }
      ]
    },
    {
      "cell_type": "code",
      "source": [
        "# let's create matrix (more than one dimensions)\n",
        "matrix = tf.constant([[3,9],\n",
        "                     [9,3]])\n",
        "matrix"
      ],
      "metadata": {
        "colab": {
          "base_uri": "https://localhost:8080/"
        },
        "id": "QW7wS4pCE5tb",
        "outputId": "db3b8873-05f9-43a6-d136-6a9796f0fb88"
      },
      "execution_count": null,
      "outputs": [
        {
          "output_type": "execute_result",
          "data": {
            "text/plain": [
              "<tf.Tensor: shape=(2, 2), dtype=int32, numpy=\n",
              "array([[3, 9],\n",
              "       [9, 3]], dtype=int32)>"
            ]
          },
          "metadata": {},
          "execution_count": 6
        }
      ]
    },
    {
      "cell_type": "code",
      "source": [
        "# check metrix dimension\n",
        "matrix.ndim"
      ],
      "metadata": {
        "colab": {
          "base_uri": "https://localhost:8080/"
        },
        "id": "Wb566RqkFJig",
        "outputId": "03e2da41-8973-4bfc-ab40-921f9fe228b2"
      },
      "execution_count": null,
      "outputs": [
        {
          "output_type": "execute_result",
          "data": {
            "text/plain": [
              "2"
            ]
          },
          "metadata": {},
          "execution_count": 7
        }
      ]
    },
    {
      "cell_type": "code",
      "source": [
        "# create another matrix\n",
        "another_metrix = tf.constant([[3,9],\n",
        "                              [9,3],\n",
        "                              [92,99]])\n",
        "another_metrix"
      ],
      "metadata": {
        "colab": {
          "base_uri": "https://localhost:8080/"
        },
        "id": "jIgZ9T0yFbRk",
        "outputId": "490e720d-4a41-4983-d443-7fd53fa5a52b"
      },
      "execution_count": null,
      "outputs": [
        {
          "output_type": "execute_result",
          "data": {
            "text/plain": [
              "<tf.Tensor: shape=(3, 2), dtype=int32, numpy=\n",
              "array([[ 3,  9],\n",
              "       [ 9,  3],\n",
              "       [92, 99]], dtype=int32)>"
            ]
          },
          "metadata": {},
          "execution_count": 8
        }
      ]
    },
    {
      "cell_type": "code",
      "source": [
        "# let's check how many dimension in another_metrix\n",
        "another_metrix.ndim"
      ],
      "metadata": {
        "colab": {
          "base_uri": "https://localhost:8080/"
        },
        "id": "SQ9ndzs4Ftbc",
        "outputId": "e0214eba-a1f2-4a6b-c49b-d96c4134ed96"
      },
      "execution_count": null,
      "outputs": [
        {
          "output_type": "execute_result",
          "data": {
            "text/plain": [
              "2"
            ]
          },
          "metadata": {},
          "execution_count": 9
        }
      ]
    },
    {
      "cell_type": "code",
      "source": [
        "tf.shape(another_metrix)"
      ],
      "metadata": {
        "colab": {
          "base_uri": "https://localhost:8080/"
        },
        "id": "W845_ZN8GCLN",
        "outputId": "d66cd8bd-c5ef-4e9b-aeea-3082d527e4af"
      },
      "execution_count": null,
      "outputs": [
        {
          "output_type": "execute_result",
          "data": {
            "text/plain": [
              "<tf.Tensor: shape=(2,), dtype=int32, numpy=array([3, 2], dtype=int32)>"
            ]
          },
          "metadata": {},
          "execution_count": 10
        }
      ]
    },
    {
      "cell_type": "code",
      "source": [
        "# let's create tensor\n",
        "tensor = tf.constant([[[1,2,3,7],[4,5,6,7]],\n",
        "                      [[7,8,9,7],[10,11,12,7]],\n",
        "                      [[13,14,15,7],[16,17,18,7]]])\n",
        "tensor"
      ],
      "metadata": {
        "colab": {
          "base_uri": "https://localhost:8080/"
        },
        "id": "A33CgZC2GpBr",
        "outputId": "c9363e3e-1577-461c-fc38-8689dd46e6da"
      },
      "execution_count": null,
      "outputs": [
        {
          "output_type": "execute_result",
          "data": {
            "text/plain": [
              "<tf.Tensor: shape=(3, 2, 4), dtype=int32, numpy=\n",
              "array([[[ 1,  2,  3,  7],\n",
              "        [ 4,  5,  6,  7]],\n",
              "\n",
              "       [[ 7,  8,  9,  7],\n",
              "        [10, 11, 12,  7]],\n",
              "\n",
              "       [[13, 14, 15,  7],\n",
              "        [16, 17, 18,  7]]], dtype=int32)>"
            ]
          },
          "metadata": {},
          "execution_count": 11
        }
      ]
    },
    {
      "cell_type": "code",
      "source": [
        "# let's check tensor dimension\n",
        "tensor.ndim"
      ],
      "metadata": {
        "id": "sLY7f_sQH2EO",
        "colab": {
          "base_uri": "https://localhost:8080/"
        },
        "outputId": "b8b9714d-10fa-4d59-c455-9ad9c9692e3c"
      },
      "execution_count": null,
      "outputs": [
        {
          "output_type": "execute_result",
          "data": {
            "text/plain": [
              "3"
            ]
          },
          "metadata": {},
          "execution_count": 12
        }
      ]
    },
    {
      "cell_type": "markdown",
      "source": [
        "* scalar: a single number.\n",
        "* vector: a number with direction (e.g. wind speed with direction).\n",
        "* matrix: a 2-dimensional array of numbers.\n",
        "* tensor: an n-dimensional arrary of numbers (where n can be any number, a 0-dimension tensor is a scalar, a 1-dimension tensor is a vector)."
      ],
      "metadata": {
        "id": "hB4WB8h_dMG0"
      }
    },
    {
      "cell_type": "code",
      "source": [
        "# let's create tensor tf.Variable() and tf.constant()\n",
        "\n",
        "# tf.Variable is when you try to change valu in this tensor that time you change \n",
        "changeble_tensor = tf.Variable([10,7])\n",
        "unChangeble_tensor = tf.constant([10,7])\n",
        "changeble_tensor,unChangeble_tensor"
      ],
      "metadata": {
        "colab": {
          "base_uri": "https://localhost:8080/"
        },
        "id": "U3e5ifjIeR0B",
        "outputId": "4cd671b0-4d84-44b5-bbc6-53b6ed843055"
      },
      "execution_count": null,
      "outputs": [
        {
          "output_type": "execute_result",
          "data": {
            "text/plain": [
              "(<tf.Variable 'Variable:0' shape=(2,) dtype=int32, numpy=array([10,  7], dtype=int32)>,\n",
              " <tf.Tensor: shape=(2,), dtype=int32, numpy=array([10,  7], dtype=int32)>)"
            ]
          },
          "metadata": {},
          "execution_count": 13
        }
      ]
    },
    {
      "cell_type": "code",
      "source": [
        "# now you see change value in tensor but one problem that is not support assigment operator use assign method\n",
        "changeble_tensor[0].assign(7)\n",
        "changeble_tensor"
      ],
      "metadata": {
        "colab": {
          "base_uri": "https://localhost:8080/"
        },
        "id": "2Uw3FXoPgLSb",
        "outputId": "7111150f-1991-42e9-a549-f18f3e9eeaa3"
      },
      "execution_count": null,
      "outputs": [
        {
          "output_type": "execute_result",
          "data": {
            "text/plain": [
              "<tf.Variable 'Variable:0' shape=(2,) dtype=int32, numpy=array([7, 7], dtype=int32)>"
            ]
          },
          "metadata": {},
          "execution_count": 14
        }
      ]
    },
    {
      "cell_type": "code",
      "source": [
        "# same is now i am try to change constant tensor throw error becuse this tensor doesn't chenge\n",
        "# unChangeble_tensor[0].assign(1) this error show when you run this code AttributeError: 'tensorflow.python.framework.ops.EagerTensor' object has no attribute 'assign'\n",
        "# unChangeble_tensor[0] = 4 this error show whe n you run this code TypeError: 'tensorflow.python.framework.ops.EagerTensor' object does not support item assignment"
      ],
      "metadata": {
        "id": "gtXFeB9pg9aq"
      },
      "execution_count": null,
      "outputs": []
    },
    {
      "cell_type": "markdown",
      "source": [
        "### Creating Random Tensor"
      ],
      "metadata": {
        "id": "kam8AzgjhS1l"
      }
    },
    {
      "cell_type": "code",
      "source": [
        "# create two random tensor (but same value have this under)\n",
        "random_1 = tf.random.Generator.from_seed(42)\n",
        "random_1 = random_1.normal(shape=[3,2])\n",
        "random_2 = tf.random.Generator.from_seed(42)\n",
        "random_2 = random_2.normal(shape=[3,2])\n",
        "\n",
        "random_1,random_2, random_1 == random_2"
      ],
      "metadata": {
        "colab": {
          "base_uri": "https://localhost:8080/"
        },
        "id": "fc9LmCaOl7Jg",
        "outputId": "fb50bf9a-84b6-448c-cd78-49b770c321fd"
      },
      "execution_count": null,
      "outputs": [
        {
          "output_type": "execute_result",
          "data": {
            "text/plain": [
              "(<tf.Tensor: shape=(3, 2), dtype=float32, numpy=\n",
              " array([[-0.7565803 , -0.06854702],\n",
              "        [ 0.07595026, -1.2573844 ],\n",
              "        [-0.23193763, -1.8107855 ]], dtype=float32)>,\n",
              " <tf.Tensor: shape=(3, 2), dtype=float32, numpy=\n",
              " array([[-0.7565803 , -0.06854702],\n",
              "        [ 0.07595026, -1.2573844 ],\n",
              "        [-0.23193763, -1.8107855 ]], dtype=float32)>,\n",
              " <tf.Tensor: shape=(3, 2), dtype=bool, numpy=\n",
              " array([[ True,  True],\n",
              "        [ True,  True],\n",
              "        [ True,  True]])>)"
            ]
          },
          "metadata": {},
          "execution_count": 16
        }
      ]
    },
    {
      "cell_type": "code",
      "source": [
        "# another way create random tensor\n",
        "tf.random.set_seed(42)\n",
        "un_random_1 = tf.random.uniform(shape=[3,3])\n",
        "un_random_2 = tf.random.uniform(shape=[3,3])\n",
        "\n",
        "un_random_1,un_random_2 , un_random_1 == un_random_2 "
      ],
      "metadata": {
        "colab": {
          "base_uri": "https://localhost:8080/"
        },
        "id": "8uNBAQTCmZkq",
        "outputId": "5b9997b6-2807-4d5e-ba7a-3afb81b4e803"
      },
      "execution_count": null,
      "outputs": [
        {
          "output_type": "execute_result",
          "data": {
            "text/plain": [
              "(<tf.Tensor: shape=(3, 3), dtype=float32, numpy=\n",
              " array([[0.6645621 , 0.44100678, 0.3528825 ],\n",
              "        [0.46448255, 0.03366041, 0.68467236],\n",
              "        [0.74011743, 0.8724445 , 0.22632635]], dtype=float32)>,\n",
              " <tf.Tensor: shape=(3, 3), dtype=float32, numpy=\n",
              " array([[0.68789124, 0.48447883, 0.9309944 ],\n",
              "        [0.252187  , 0.73115396, 0.89256823],\n",
              "        [0.94674826, 0.7493341 , 0.34925628]], dtype=float32)>,\n",
              " <tf.Tensor: shape=(3, 3), dtype=bool, numpy=\n",
              " array([[False, False, False],\n",
              "        [False, False, False],\n",
              "        [False, False, False]])>)"
            ]
          },
          "metadata": {},
          "execution_count": 17
        }
      ]
    },
    {
      "cell_type": "code",
      "source": [
        "# shuffle a tensor (valuable for when wan't to  shuffle data )\n",
        "\n",
        "frist_random = tf.constant([[3,3],[4,4],[5,5]])\n",
        "# evrey time different order work\n",
        "tf.random.shuffle(frist_random)"
      ],
      "metadata": {
        "colab": {
          "base_uri": "https://localhost:8080/"
        },
        "id": "cUvEWeqanH0V",
        "outputId": "0494dd5e-6cdc-4ae5-ed35-d7ce134157cf"
      },
      "execution_count": null,
      "outputs": [
        {
          "output_type": "execute_result",
          "data": {
            "text/plain": [
              "<tf.Tensor: shape=(3, 2), dtype=int32, numpy=\n",
              "array([[5, 5],\n",
              "       [4, 4],\n",
              "       [3, 3]], dtype=int32)>"
            ]
          },
          "metadata": {},
          "execution_count": 18
        }
      ]
    },
    {
      "cell_type": "code",
      "source": [
        "second_random = tf.constant([[1,1],[2,2],[3,3]])\n",
        "tf.random.shuffle(second_random,seed=42)"
      ],
      "metadata": {
        "colab": {
          "base_uri": "https://localhost:8080/"
        },
        "id": "CLnNevTUstjM",
        "outputId": "39d37f62-781a-4b53-f103-1e0abf4be3d7"
      },
      "execution_count": null,
      "outputs": [
        {
          "output_type": "execute_result",
          "data": {
            "text/plain": [
              "<tf.Tensor: shape=(3, 2), dtype=int32, numpy=\n",
              "array([[1, 1],\n",
              "       [2, 2],\n",
              "       [3, 3]], dtype=int32)>"
            ]
          },
          "metadata": {},
          "execution_count": 19
        }
      ]
    },
    {
      "cell_type": "code",
      "source": [
        "# now set global label seed now every time run this code same result show\n",
        "tf.random.set_seed(42)\n",
        "tf.random.shuffle(second_random) "
      ],
      "metadata": {
        "colab": {
          "base_uri": "https://localhost:8080/"
        },
        "id": "AuSu70mOtwPv",
        "outputId": "75ce82f8-3c64-4657-b8c5-2e20d7e06c81"
      },
      "execution_count": null,
      "outputs": [
        {
          "output_type": "execute_result",
          "data": {
            "text/plain": [
              "<tf.Tensor: shape=(3, 2), dtype=int32, numpy=\n",
              "array([[2, 2],\n",
              "       [3, 3],\n",
              "       [1, 1]], dtype=int32)>"
            ]
          },
          "metadata": {},
          "execution_count": 20
        }
      ]
    },
    {
      "cell_type": "markdown",
      "source": [
        "## Another way make tensor \n"
      ],
      "metadata": {
        "id": "WKTwVNC2u8gU"
      }
    },
    {
      "cell_type": "code",
      "source": [
        "# create a tensor all element will be one\n",
        "tf.ones([10,7])"
      ],
      "metadata": {
        "colab": {
          "base_uri": "https://localhost:8080/"
        },
        "id": "_Qa6j6SUwkMR",
        "outputId": "7ec91479-9837-492c-a817-b9982462a8ad"
      },
      "execution_count": null,
      "outputs": [
        {
          "output_type": "execute_result",
          "data": {
            "text/plain": [
              "<tf.Tensor: shape=(10, 7), dtype=float32, numpy=\n",
              "array([[1., 1., 1., 1., 1., 1., 1.],\n",
              "       [1., 1., 1., 1., 1., 1., 1.],\n",
              "       [1., 1., 1., 1., 1., 1., 1.],\n",
              "       [1., 1., 1., 1., 1., 1., 1.],\n",
              "       [1., 1., 1., 1., 1., 1., 1.],\n",
              "       [1., 1., 1., 1., 1., 1., 1.],\n",
              "       [1., 1., 1., 1., 1., 1., 1.],\n",
              "       [1., 1., 1., 1., 1., 1., 1.],\n",
              "       [1., 1., 1., 1., 1., 1., 1.],\n",
              "       [1., 1., 1., 1., 1., 1., 1.]], dtype=float32)>"
            ]
          },
          "metadata": {},
          "execution_count": 21
        }
      ]
    },
    {
      "cell_type": "code",
      "source": [
        "# same is above but this time zeros\n",
        "tf.zeros([10,7])"
      ],
      "metadata": {
        "colab": {
          "base_uri": "https://localhost:8080/"
        },
        "id": "u9lNLng1wz-6",
        "outputId": "4a279927-a7a4-49b0-c870-b1eb707b9c4b"
      },
      "execution_count": null,
      "outputs": [
        {
          "output_type": "execute_result",
          "data": {
            "text/plain": [
              "<tf.Tensor: shape=(10, 7), dtype=float32, numpy=\n",
              "array([[0., 0., 0., 0., 0., 0., 0.],\n",
              "       [0., 0., 0., 0., 0., 0., 0.],\n",
              "       [0., 0., 0., 0., 0., 0., 0.],\n",
              "       [0., 0., 0., 0., 0., 0., 0.],\n",
              "       [0., 0., 0., 0., 0., 0., 0.],\n",
              "       [0., 0., 0., 0., 0., 0., 0.],\n",
              "       [0., 0., 0., 0., 0., 0., 0.],\n",
              "       [0., 0., 0., 0., 0., 0., 0.],\n",
              "       [0., 0., 0., 0., 0., 0., 0.],\n",
              "       [0., 0., 0., 0., 0., 0., 0.]], dtype=float32)>"
            ]
          },
          "metadata": {},
          "execution_count": 22
        }
      ]
    },
    {
      "cell_type": "markdown",
      "source": [
        "🔑 **Note**: A matrix or tensor is typically represented by a capital letter (e.g. X or A) where as a vector is typically represented by a lowercase letter (e.g. y or b)."
      ],
      "metadata": {
        "id": "OGj5t75Ew6b4"
      }
    },
    {
      "cell_type": "markdown",
      "source": [
        "### Turn into numpy array into tensorflow tensor array\n",
        "\n",
        " - main differece between tensor and numpy array tensor run  can be (GPU faster numerical )\n",
        "\n"
      ],
      "metadata": {
        "id": "WmFP99YCydIK"
      }
    },
    {
      "cell_type": "code",
      "source": [
        "import numpy as np\n",
        "np_array = np.arange(0,24,dtype=int)\n",
        "np_array"
      ],
      "metadata": {
        "colab": {
          "base_uri": "https://localhost:8080/"
        },
        "id": "4oDhk1OuyrPS",
        "outputId": "05b942bd-8b4b-4243-902d-8a1ab6afb6ff"
      },
      "execution_count": null,
      "outputs": [
        {
          "output_type": "execute_result",
          "data": {
            "text/plain": [
              "array([ 0,  1,  2,  3,  4,  5,  6,  7,  8,  9, 10, 11, 12, 13, 14, 15, 16,\n",
              "       17, 18, 19, 20, 21, 22, 23])"
            ]
          },
          "metadata": {},
          "execution_count": 23
        }
      ]
    },
    {
      "cell_type": "code",
      "source": [
        "# turn into tensor\n",
        "tensor = tf.constant(np_array)\n",
        "tensor ## hoooo now see tensor simple is that"
      ],
      "metadata": {
        "colab": {
          "base_uri": "https://localhost:8080/"
        },
        "id": "waKdT7Nx0vEX",
        "outputId": "f0f506b0-084d-40cf-d8ba-40e0e4c11e0e"
      },
      "execution_count": null,
      "outputs": [
        {
          "output_type": "execute_result",
          "data": {
            "text/plain": [
              "<tf.Tensor: shape=(24,), dtype=int64, numpy=\n",
              "array([ 0,  1,  2,  3,  4,  5,  6,  7,  8,  9, 10, 11, 12, 13, 14, 15, 16,\n",
              "       17, 18, 19, 20, 21, 22, 23])>"
            ]
          },
          "metadata": {},
          "execution_count": 24
        }
      ]
    },
    {
      "cell_type": "code",
      "source": [
        "# shape modified\n",
        "tensor = tf.constant(np_array,shape=[2,3,4]) # note: the shape total (2*4*3) has to match the number of elements in the array\n",
        "\n",
        "tensor"
      ],
      "metadata": {
        "colab": {
          "base_uri": "https://localhost:8080/"
        },
        "id": "bpl_PcuQ04gP",
        "outputId": "15bc6324-49df-4419-b04a-01c917edceb5"
      },
      "execution_count": null,
      "outputs": [
        {
          "output_type": "execute_result",
          "data": {
            "text/plain": [
              "<tf.Tensor: shape=(2, 3, 4), dtype=int64, numpy=\n",
              "array([[[ 0,  1,  2,  3],\n",
              "        [ 4,  5,  6,  7],\n",
              "        [ 8,  9, 10, 11]],\n",
              "\n",
              "       [[12, 13, 14, 15],\n",
              "        [16, 17, 18, 19],\n",
              "        [20, 21, 22, 23]]])>"
            ]
          },
          "metadata": {},
          "execution_count": 25
        }
      ]
    },
    {
      "cell_type": "markdown",
      "source": [
        "### Getting information from tensors (shape, rank, size)\n",
        "There will be times when you'll want to get different pieces of information from your tensors, in particuluar, you should know the following tensor vocabulary:\n",
        "\n",
        "* Shape: The length (number of elements) of each of the dimensions of a tensor.\n",
        "* Rank: The number of tensor dimensions. A scalar has rank 0, a vector has rank 1, a matrix is rank 2, a tensor has rank n.\n",
        "* Axis or Dimension: A particular dimension of a tensor.\n",
        "* Size: The total number of items in the tensor."
      ],
      "metadata": {
        "id": "4TeEl_NJ1Int"
      }
    },
    {
      "cell_type": "code",
      "source": [
        "# now see shape of tensor\n",
        "rank_4_tensor = tf.zeros(shape=[2,3,4,5])\n",
        "rank_4_tensor"
      ],
      "metadata": {
        "colab": {
          "base_uri": "https://localhost:8080/"
        },
        "id": "tpLrklUu1LTw",
        "outputId": "cab03d69-9eb2-4d13-e397-e045b7cb7b27"
      },
      "execution_count": null,
      "outputs": [
        {
          "output_type": "execute_result",
          "data": {
            "text/plain": [
              "<tf.Tensor: shape=(2, 3, 4, 5), dtype=float32, numpy=\n",
              "array([[[[0., 0., 0., 0., 0.],\n",
              "         [0., 0., 0., 0., 0.],\n",
              "         [0., 0., 0., 0., 0.],\n",
              "         [0., 0., 0., 0., 0.]],\n",
              "\n",
              "        [[0., 0., 0., 0., 0.],\n",
              "         [0., 0., 0., 0., 0.],\n",
              "         [0., 0., 0., 0., 0.],\n",
              "         [0., 0., 0., 0., 0.]],\n",
              "\n",
              "        [[0., 0., 0., 0., 0.],\n",
              "         [0., 0., 0., 0., 0.],\n",
              "         [0., 0., 0., 0., 0.],\n",
              "         [0., 0., 0., 0., 0.]]],\n",
              "\n",
              "\n",
              "       [[[0., 0., 0., 0., 0.],\n",
              "         [0., 0., 0., 0., 0.],\n",
              "         [0., 0., 0., 0., 0.],\n",
              "         [0., 0., 0., 0., 0.]],\n",
              "\n",
              "        [[0., 0., 0., 0., 0.],\n",
              "         [0., 0., 0., 0., 0.],\n",
              "         [0., 0., 0., 0., 0.],\n",
              "         [0., 0., 0., 0., 0.]],\n",
              "\n",
              "        [[0., 0., 0., 0., 0.],\n",
              "         [0., 0., 0., 0., 0.],\n",
              "         [0., 0., 0., 0., 0.],\n",
              "         [0., 0., 0., 0., 0.]]]], dtype=float32)>"
            ]
          },
          "metadata": {},
          "execution_count": 26
        }
      ]
    },
    {
      "cell_type": "code",
      "source": [
        "# now see Rank of tensor \n",
        "rank_4_tensor.ndim"
      ],
      "metadata": {
        "colab": {
          "base_uri": "https://localhost:8080/"
        },
        "id": "PHHFSaIm4YYV",
        "outputId": "c09a8cb1-f4d6-4dc1-cfdd-3cda18c616b4"
      },
      "execution_count": null,
      "outputs": [
        {
          "output_type": "execute_result",
          "data": {
            "text/plain": [
              "4"
            ]
          },
          "metadata": {},
          "execution_count": 27
        }
      ]
    },
    {
      "cell_type": "code",
      "source": [
        "# now see Axis or Dimensions of tensor\n",
        "rank_4_tensor[0]"
      ],
      "metadata": {
        "colab": {
          "base_uri": "https://localhost:8080/"
        },
        "id": "QIh0noeQ4nKp",
        "outputId": "4e183645-6661-4c75-93c2-c4ce38725524"
      },
      "execution_count": null,
      "outputs": [
        {
          "output_type": "execute_result",
          "data": {
            "text/plain": [
              "<tf.Tensor: shape=(3, 4, 5), dtype=float32, numpy=\n",
              "array([[[0., 0., 0., 0., 0.],\n",
              "        [0., 0., 0., 0., 0.],\n",
              "        [0., 0., 0., 0., 0.],\n",
              "        [0., 0., 0., 0., 0.]],\n",
              "\n",
              "       [[0., 0., 0., 0., 0.],\n",
              "        [0., 0., 0., 0., 0.],\n",
              "        [0., 0., 0., 0., 0.],\n",
              "        [0., 0., 0., 0., 0.]],\n",
              "\n",
              "       [[0., 0., 0., 0., 0.],\n",
              "        [0., 0., 0., 0., 0.],\n",
              "        [0., 0., 0., 0., 0.],\n",
              "        [0., 0., 0., 0., 0.]]], dtype=float32)>"
            ]
          },
          "metadata": {},
          "execution_count": 28
        }
      ]
    },
    {
      "cell_type": "code",
      "source": [
        "# now see Size of tensor \n",
        "tf.size(rank_4_tensor)"
      ],
      "metadata": {
        "colab": {
          "base_uri": "https://localhost:8080/"
        },
        "id": "5_Szfwa_4xVl",
        "outputId": "17c84cb7-a585-4934-a95c-3ab389383826"
      },
      "execution_count": null,
      "outputs": [
        {
          "output_type": "execute_result",
          "data": {
            "text/plain": [
              "<tf.Tensor: shape=(), dtype=int32, numpy=120>"
            ]
          },
          "metadata": {},
          "execution_count": 29
        }
      ]
    },
    {
      "cell_type": "code",
      "source": [
        "# now print all of this than look is good\n",
        "print(\"Data type of every element: \",rank_4_tensor.dtype)\n",
        "print(\"Number of Dimenstional (rank) :\",rank_4_tensor.ndim)\n",
        "print(\"Shape of tensor: \",rank_4_tensor.shape)\n",
        "print(\"Element along 0 axis : \", rank_4_tensor.shape[0])\n",
        "print(\"Element along last axis : \",rank_4_tensor.shape[-1])\n",
        "print(\"Total Element size of tensor:\",tf.size(rank_4_tensor))\n",
        "print(\"Total Elment size of tensor (but this time convert to numpy): \",tf.size(rank_4_tensor).numpy())"
      ],
      "metadata": {
        "colab": {
          "base_uri": "https://localhost:8080/"
        },
        "id": "XIdLdH7t47g7",
        "outputId": "ddfe4497-b1a4-4e62-e89c-d4e75e7c56a4"
      },
      "execution_count": null,
      "outputs": [
        {
          "output_type": "stream",
          "name": "stdout",
          "text": [
            "Data type of every element:  <dtype: 'float32'>\n",
            "Number of Dimenstional (rank) : 4\n",
            "Shape of tensor:  (2, 3, 4, 5)\n",
            "Element along 0 axis :  2\n",
            "Element along last axis :  5\n",
            "Total Element size of tensor: tf.Tensor(120, shape=(), dtype=int32)\n",
            "Total Elment size of tensor (but this time convert to numpy):  120\n"
          ]
        }
      ]
    },
    {
      "cell_type": "markdown",
      "source": [
        "### Index in tensor \n",
        "tensor index like a python list"
      ],
      "metadata": {
        "id": "vQo27jO-6SG6"
      }
    },
    {
      "cell_type": "code",
      "source": [
        "# now print every row choos 2 element\n",
        "rank_4_tensor[:2,:2,:2,:2]"
      ],
      "metadata": {
        "colab": {
          "base_uri": "https://localhost:8080/"
        },
        "id": "68qyhamw7Ouv",
        "outputId": "63a3a299-f797-4e83-a437-9cb8a34dd5ae"
      },
      "execution_count": null,
      "outputs": [
        {
          "output_type": "execute_result",
          "data": {
            "text/plain": [
              "<tf.Tensor: shape=(2, 2, 2, 2), dtype=float32, numpy=\n",
              "array([[[[0., 0.],\n",
              "         [0., 0.]],\n",
              "\n",
              "        [[0., 0.],\n",
              "         [0., 0.]]],\n",
              "\n",
              "\n",
              "       [[[0., 0.],\n",
              "         [0., 0.]],\n",
              "\n",
              "        [[0., 0.],\n",
              "         [0., 0.]]]], dtype=float32)>"
            ]
          },
          "metadata": {},
          "execution_count": 31
        }
      ]
    },
    {
      "cell_type": "code",
      "source": [
        "# create frank 2 tensor 2 dimansionl\n",
        "rank_2_tensor = tf.zeros(shape=[2,2])\n",
        "rank_2_tensor,rank_2_tensor.ndim"
      ],
      "metadata": {
        "colab": {
          "base_uri": "https://localhost:8080/"
        },
        "id": "PMx7_t6p8yYC",
        "outputId": "2c50702c-01fa-4553-f446-68db093bdbf6"
      },
      "execution_count": null,
      "outputs": [
        {
          "output_type": "execute_result",
          "data": {
            "text/plain": [
              "(<tf.Tensor: shape=(2, 2), dtype=float32, numpy=\n",
              " array([[0., 0.],\n",
              "        [0., 0.]], dtype=float32)>, 2)"
            ]
          },
          "metadata": {},
          "execution_count": 32
        }
      ]
    },
    {
      "cell_type": "code",
      "source": [
        "# get the last element of each rank 2 tensor \n",
        "rank_2_tensor[:,-1]"
      ],
      "metadata": {
        "colab": {
          "base_uri": "https://localhost:8080/"
        },
        "id": "VsoB9QF093rS",
        "outputId": "611d090f-a55a-4c2c-8e2a-1aa22cbbdf8b"
      },
      "execution_count": null,
      "outputs": [
        {
          "output_type": "execute_result",
          "data": {
            "text/plain": [
              "<tf.Tensor: shape=(2,), dtype=float32, numpy=array([0., 0.], dtype=float32)>"
            ]
          },
          "metadata": {},
          "execution_count": 33
        }
      ]
    },
    {
      "cell_type": "markdown",
      "source": [
        "You can also add dimensions to your tensor whilst keeping the same information present using tf.newaxis."
      ],
      "metadata": {
        "id": "-wp8pr8x-cl1"
      }
    },
    {
      "cell_type": "code",
      "source": [
        "# add extra dimanstion (to the end)\n",
        "rank_3_tensor = rank_2_tensor[..., tf.newaxis]\n",
        "rank_3_tensor"
      ],
      "metadata": {
        "colab": {
          "base_uri": "https://localhost:8080/"
        },
        "id": "yuTB-PuG_mrV",
        "outputId": "16f03d92-150d-4d88-9743-4915bec0ace8"
      },
      "execution_count": null,
      "outputs": [
        {
          "output_type": "execute_result",
          "data": {
            "text/plain": [
              "<tf.Tensor: shape=(2, 2, 1), dtype=float32, numpy=\n",
              "array([[[0.],\n",
              "        [0.]],\n",
              "\n",
              "       [[0.],\n",
              "        [0.]]], dtype=float32)>"
            ]
          },
          "metadata": {},
          "execution_count": 34
        }
      ]
    },
    {
      "cell_type": "code",
      "source": [
        "# another way to create extra dimandtion \n",
        "tf.expand_dims(rank_2_tensor,axis=-1) # same result above "
      ],
      "metadata": {
        "colab": {
          "base_uri": "https://localhost:8080/"
        },
        "id": "yL6vGSlpAANY",
        "outputId": "c9716edf-8739-49d1-f228-322ef27d8e81"
      },
      "execution_count": null,
      "outputs": [
        {
          "output_type": "execute_result",
          "data": {
            "text/plain": [
              "<tf.Tensor: shape=(2, 2, 1), dtype=float32, numpy=\n",
              "array([[[0.],\n",
              "        [0.]],\n",
              "\n",
              "       [[0.],\n",
              "        [0.]]], dtype=float32)>"
            ]
          },
          "metadata": {},
          "execution_count": 35
        }
      ]
    },
    {
      "cell_type": "code",
      "source": [
        "# now axis is 0 than see\n",
        "tf.expand_dims(rank_2_tensor,axis=0) # first "
      ],
      "metadata": {
        "colab": {
          "base_uri": "https://localhost:8080/"
        },
        "id": "yKIB9GodAZWA",
        "outputId": "8ecdb9e7-21e9-4b62-b17f-e63648c0e815"
      },
      "execution_count": null,
      "outputs": [
        {
          "output_type": "execute_result",
          "data": {
            "text/plain": [
              "<tf.Tensor: shape=(1, 2, 2), dtype=float32, numpy=\n",
              "array([[[0., 0.],\n",
              "        [0., 0.]]], dtype=float32)>"
            ]
          },
          "metadata": {},
          "execution_count": 36
        }
      ]
    },
    {
      "cell_type": "code",
      "source": [
        "# now axis is one\n",
        "tf.expand_dims(rank_2_tensor, axis=1)"
      ],
      "metadata": {
        "colab": {
          "base_uri": "https://localhost:8080/"
        },
        "id": "fg6ebQIuAk5_",
        "outputId": "8f0139f8-06b3-42c7-f307-93714b549a35"
      },
      "execution_count": null,
      "outputs": [
        {
          "output_type": "execute_result",
          "data": {
            "text/plain": [
              "<tf.Tensor: shape=(2, 1, 2), dtype=float32, numpy=\n",
              "array([[[0., 0.]],\n",
              "\n",
              "       [[0., 0.]]], dtype=float32)>"
            ]
          },
          "metadata": {},
          "execution_count": 37
        }
      ]
    },
    {
      "cell_type": "markdown",
      "source": [
        "### Manipluting tensor (tensor operation)\n",
        "#### Basic operation `+`,`-`,`*`,`/`"
      ],
      "metadata": {
        "id": "4dNO1BSdAvOf"
      }
    },
    {
      "cell_type": "code",
      "source": [
        "# multiplication , additatio, subtraction, divide\n",
        "tensor = tf.constant([[3,9],[33,99]])\n",
        "tensor * 10, tensor + 10, tensor - 10, tensor/10"
      ],
      "metadata": {
        "colab": {
          "base_uri": "https://localhost:8080/"
        },
        "id": "C5pKk8Z6CZ5i",
        "outputId": "f5438da8-4b56-4459-bf65-ef76275b689a"
      },
      "execution_count": null,
      "outputs": [
        {
          "output_type": "execute_result",
          "data": {
            "text/plain": [
              "(<tf.Tensor: shape=(2, 2), dtype=int32, numpy=\n",
              " array([[ 30,  90],\n",
              "        [330, 990]], dtype=int32)>,\n",
              " <tf.Tensor: shape=(2, 2), dtype=int32, numpy=\n",
              " array([[ 13,  19],\n",
              "        [ 43, 109]], dtype=int32)>,\n",
              " <tf.Tensor: shape=(2, 2), dtype=int32, numpy=\n",
              " array([[-7, -1],\n",
              "        [23, 89]], dtype=int32)>,\n",
              " <tf.Tensor: shape=(2, 2), dtype=float64, numpy=\n",
              " array([[0.3, 0.9],\n",
              "        [3.3, 9.9]])>)"
            ]
          },
          "metadata": {},
          "execution_count": 38
        }
      ]
    },
    {
      "cell_type": "code",
      "source": [
        "# same use in tensorflow buil-in-function but this time use GPU than lot faster than python operator\n",
        "tf.multiply(tensor,10), tf.add(tensor,10)"
      ],
      "metadata": {
        "colab": {
          "base_uri": "https://localhost:8080/"
        },
        "id": "-X9PZyO-CqmB",
        "outputId": "bf8b4c29-0418-4da5-c880-443703b662b3"
      },
      "execution_count": null,
      "outputs": [
        {
          "output_type": "execute_result",
          "data": {
            "text/plain": [
              "(<tf.Tensor: shape=(2, 2), dtype=int32, numpy=\n",
              " array([[ 30,  90],\n",
              "        [330, 990]], dtype=int32)>,\n",
              " <tf.Tensor: shape=(2, 2), dtype=int32, numpy=\n",
              " array([[ 13,  19],\n",
              "        [ 43, 109]], dtype=int32)>)"
            ]
          },
          "metadata": {},
          "execution_count": 39
        }
      ]
    },
    {
      "cell_type": "code",
      "source": [
        "tf.subtract(tensor,10)"
      ],
      "metadata": {
        "colab": {
          "base_uri": "https://localhost:8080/"
        },
        "id": "TTUxYo72CwSe",
        "outputId": "20b7d1ee-19a9-4e44-a3bf-f27a1e56b5aa"
      },
      "execution_count": null,
      "outputs": [
        {
          "output_type": "execute_result",
          "data": {
            "text/plain": [
              "<tf.Tensor: shape=(2, 2), dtype=int32, numpy=\n",
              "array([[-7, -1],\n",
              "       [23, 89]], dtype=int32)>"
            ]
          },
          "metadata": {},
          "execution_count": 40
        }
      ]
    },
    {
      "cell_type": "code",
      "source": [
        "tf.divide(tensor,10)"
      ],
      "metadata": {
        "colab": {
          "base_uri": "https://localhost:8080/"
        },
        "id": "1YGOQaF9DlSp",
        "outputId": "98b25da5-7639-48d3-8c16-0732182dd067"
      },
      "execution_count": null,
      "outputs": [
        {
          "output_type": "execute_result",
          "data": {
            "text/plain": [
              "<tf.Tensor: shape=(2, 2), dtype=float64, numpy=\n",
              "array([[0.3, 0.9],\n",
              "       [3.3, 9.9]])>"
            ]
          },
          "metadata": {},
          "execution_count": 41
        }
      ]
    },
    {
      "cell_type": "code",
      "source": [
        "# but not change orginal tensor\n",
        "tensor"
      ],
      "metadata": {
        "colab": {
          "base_uri": "https://localhost:8080/"
        },
        "id": "dh0h-ptaDyiD",
        "outputId": "dc3ba62e-bf55-49e5-9a51-00fcf0a05315"
      },
      "execution_count": null,
      "outputs": [
        {
          "output_type": "execute_result",
          "data": {
            "text/plain": [
              "<tf.Tensor: shape=(2, 2), dtype=int32, numpy=\n",
              "array([[ 3,  9],\n",
              "       [33, 99]], dtype=int32)>"
            ]
          },
          "metadata": {},
          "execution_count": 42
        }
      ]
    },
    {
      "cell_type": "markdown",
      "source": [
        "### Matrix mutliplication\n",
        "One of the most common operations in machine learning algorithms is matrix multiplication.\n",
        "\n",
        "TensorFlow implements this matrix multiplication functionality in the tf.matmul() method.\n",
        "\n",
        "The main two rules for matrix multiplication to remember are:\n",
        "\n",
        "1. The inner dimensions must match:\n",
        "   * (3, 5) @ (3, 5) won't work\n",
        "   * (5, 3) @ (3, 5) will work\n",
        "   * (3, 5) @ (5, 3) will work\n",
        "2. The resulting matrix has the shape of the outer dimensions:\n",
        "\n",
        "  * (5, 3) @ (3, 5) -> (5, 5)\n",
        "\n",
        "  * (3, 5) @ (5, 3) -> (3, 3)\n",
        "\n",
        "🔑 **Note**: '@' in Python is the symbol for matrix multiplication.\n",
        "\n"
      ],
      "metadata": {
        "id": "bwUO2X0-pRHv"
      }
    },
    {
      "cell_type": "code",
      "source": [
        "# matrix multiplication in tensor flow function use\n",
        "print(tensor)\n",
        "tensor_2 = tf.constant([[3,9],[9,3]])\n",
        "tf.matmul(tensor,tensor_2)"
      ],
      "metadata": {
        "colab": {
          "base_uri": "https://localhost:8080/"
        },
        "id": "wraxa2-8kilW",
        "outputId": "24a66b35-f9b6-430c-a22b-c0fb2e2478cd"
      },
      "execution_count": null,
      "outputs": [
        {
          "output_type": "stream",
          "name": "stdout",
          "text": [
            "tf.Tensor(\n",
            "[[ 3  9]\n",
            " [33 99]], shape=(2, 2), dtype=int32)\n"
          ]
        },
        {
          "output_type": "execute_result",
          "data": {
            "text/plain": [
              "<tf.Tensor: shape=(2, 2), dtype=int32, numpy=\n",
              "array([[ 90,  54],\n",
              "       [990, 594]], dtype=int32)>"
            ]
          },
          "metadata": {},
          "execution_count": 43
        }
      ]
    },
    {
      "cell_type": "code",
      "source": [
        "tensor_1 = tf.constant([[1,2,1],[0,1,0],[2,3,4]])\n",
        "tensor_2 = tf.constant([[2,5],[6,7] ,[1,8]])\n",
        "tensor_1,tensor_2"
      ],
      "metadata": {
        "colab": {
          "base_uri": "https://localhost:8080/"
        },
        "id": "wHv4SKJSnRz5",
        "outputId": "b9c9073a-082c-404b-e3b5-0cc615029700"
      },
      "execution_count": null,
      "outputs": [
        {
          "output_type": "execute_result",
          "data": {
            "text/plain": [
              "(<tf.Tensor: shape=(3, 3), dtype=int32, numpy=\n",
              " array([[1, 2, 1],\n",
              "        [0, 1, 0],\n",
              "        [2, 3, 4]], dtype=int32)>,\n",
              " <tf.Tensor: shape=(3, 2), dtype=int32, numpy=\n",
              " array([[2, 5],\n",
              "        [6, 7],\n",
              "        [1, 8]], dtype=int32)>)"
            ]
          },
          "metadata": {},
          "execution_count": 44
        }
      ]
    },
    {
      "cell_type": "code",
      "source": [
        "# now multiplication to tensor function\n",
        "tf.matmul(tensor_1,tensor_2) "
      ],
      "metadata": {
        "id": "gEkFaf5DovQR",
        "colab": {
          "base_uri": "https://localhost:8080/"
        },
        "outputId": "0b8ddde5-6483-4a92-98c9-e6322d15c7fd"
      },
      "execution_count": null,
      "outputs": [
        {
          "output_type": "execute_result",
          "data": {
            "text/plain": [
              "<tf.Tensor: shape=(3, 2), dtype=int32, numpy=\n",
              "array([[15, 27],\n",
              "       [ 6,  7],\n",
              "       [26, 63]], dtype=int32)>"
            ]
          },
          "metadata": {},
          "execution_count": 45
        }
      ]
    },
    {
      "cell_type": "code",
      "source": [
        "# now multiplication to python style\n",
        "tensor_1 @ tensor_2"
      ],
      "metadata": {
        "colab": {
          "base_uri": "https://localhost:8080/"
        },
        "id": "GrBYvla5xdtF",
        "outputId": "5a01f906-61dd-4e78-826a-51910fb07f80"
      },
      "execution_count": null,
      "outputs": [
        {
          "output_type": "execute_result",
          "data": {
            "text/plain": [
              "<tf.Tensor: shape=(3, 2), dtype=int32, numpy=\n",
              "array([[15, 27],\n",
              "       [ 6,  7],\n",
              "       [26, 63]], dtype=int32)>"
            ]
          },
          "metadata": {},
          "execution_count": 46
        }
      ]
    },
    {
      "cell_type": "code",
      "source": [
        "# create (3,2) tensor \n",
        "tensor_1 = tf.constant([[3,3],[4,2],[5,6]])\n",
        "\n",
        "# create (3,2) tensor\n",
        "tensor_2 = tf.constant([[3,2],[4,6],[3,3]])\n",
        "\n",
        "# shape see\n",
        "tensor_1.shape,tensor_2.shape"
      ],
      "metadata": {
        "colab": {
          "base_uri": "https://localhost:8080/"
        },
        "id": "BwhcWSTwwEte",
        "outputId": "e379d807-8d11-4f3c-c0c0-ca520cdd1bd7"
      },
      "execution_count": null,
      "outputs": [
        {
          "output_type": "execute_result",
          "data": {
            "text/plain": [
              "(TensorShape([3, 2]), TensorShape([3, 2]))"
            ]
          },
          "metadata": {},
          "execution_count": 47
        }
      ]
    },
    {
      "cell_type": "code",
      "source": [
        "# now try to multiply to matrix but 2 different way one tensorflow way and another pythor way\n",
        "# frist way tensor flow and show error\n",
        "# tf.matmul(tensor_1,tensor_2) run this code show this error InvalidArgumentError: Matrix size-incompatible: In[0]: [3,2], In[1]: [3,2] [Op:MatMul]\n",
        "# second way python style\n",
        "#  tensor_1 @ tensor_2 run this code same error show above."
      ],
      "metadata": {
        "id": "QEYEeHeixP9L"
      },
      "execution_count": null,
      "outputs": []
    },
    {
      "cell_type": "markdown",
      "source": [
        "*tf*.reshape() - allows us to reshape a tensor into a defined shape.\n",
        "\n",
        "tf.transpose() - switches the dimensions of a given tensor."
      ],
      "metadata": {
        "id": "TexMByeAyLRF"
      }
    },
    {
      "cell_type": "code",
      "source": [
        "# example of two function work transpose \n",
        "tensor_1,tf.transpose(tensor_1)"
      ],
      "metadata": {
        "colab": {
          "base_uri": "https://localhost:8080/"
        },
        "id": "aj3DXr1byzxC",
        "outputId": "39fb1629-cc5a-4b62-d094-5cb1f377363b"
      },
      "execution_count": null,
      "outputs": [
        {
          "output_type": "execute_result",
          "data": {
            "text/plain": [
              "(<tf.Tensor: shape=(3, 2), dtype=int32, numpy=\n",
              " array([[3, 3],\n",
              "        [4, 2],\n",
              "        [5, 6]], dtype=int32)>, <tf.Tensor: shape=(2, 3), dtype=int32, numpy=\n",
              " array([[3, 4, 5],\n",
              "        [3, 2, 6]], dtype=int32)>)"
            ]
          },
          "metadata": {},
          "execution_count": 49
        }
      ]
    },
    {
      "cell_type": "code",
      "source": [
        "# work on shape \n",
        "tensor_1, tf.reshape(tensor_1,shape=[2,3])"
      ],
      "metadata": {
        "colab": {
          "base_uri": "https://localhost:8080/"
        },
        "id": "3PLCcYdXy-G8",
        "outputId": "477fa33c-dc32-47d0-cb91-0155b497a4ff"
      },
      "execution_count": null,
      "outputs": [
        {
          "output_type": "execute_result",
          "data": {
            "text/plain": [
              "(<tf.Tensor: shape=(3, 2), dtype=int32, numpy=\n",
              " array([[3, 3],\n",
              "        [4, 2],\n",
              "        [5, 6]], dtype=int32)>, <tf.Tensor: shape=(2, 3), dtype=int32, numpy=\n",
              " array([[3, 3, 4],\n",
              "        [2, 5, 6]], dtype=int32)>)"
            ]
          },
          "metadata": {},
          "execution_count": 50
        }
      ]
    },
    {
      "cell_type": "markdown",
      "source": [
        "### The dot product\n",
        "Multiplying matrices by eachother is also referred to as the dot product.\n",
        "\n",
        "You can perform the `tf.matmul()` operation using `tf.tensordot()`.\n",
        "\n"
      ],
      "metadata": {
        "id": "LenH54yMzRcc"
      }
    },
    {
      "cell_type": "code",
      "source": [
        "# use tf.tensordot()\n",
        "tf.tensordot(tf.transpose(tensor_1),tensor_2,axes=1)"
      ],
      "metadata": {
        "colab": {
          "base_uri": "https://localhost:8080/"
        },
        "id": "rcQo6fIO3RrU",
        "outputId": "5f93b66a-f866-48c4-b05b-b2ec791eca44"
      },
      "execution_count": null,
      "outputs": [
        {
          "output_type": "execute_result",
          "data": {
            "text/plain": [
              "<tf.Tensor: shape=(2, 2), dtype=int32, numpy=\n",
              "array([[40, 45],\n",
              "       [35, 36]], dtype=int32)>"
            ]
          },
          "metadata": {},
          "execution_count": 51
        }
      ]
    },
    {
      "cell_type": "code",
      "source": [
        "tf.tensordot(tf.reshape(tensor_1,shape=[2,3]),tensor_2,axes=1)"
      ],
      "metadata": {
        "colab": {
          "base_uri": "https://localhost:8080/"
        },
        "id": "6qgOs-rg39Q8",
        "outputId": "eb46e35a-52bc-4df6-de39-4e0150d4a409"
      },
      "execution_count": null,
      "outputs": [
        {
          "output_type": "execute_result",
          "data": {
            "text/plain": [
              "<tf.Tensor: shape=(2, 2), dtype=int32, numpy=\n",
              "array([[33, 36],\n",
              "       [44, 52]], dtype=int32)>"
            ]
          },
          "metadata": {},
          "execution_count": 52
        }
      ]
    },
    {
      "cell_type": "code",
      "source": [
        "print(\"Normal tensor 1 : \\n\")\n",
        "print(tensor_1)\n",
        "print(\"Transpose tensor 1: \")\n",
        "print(tf.transpose(tensor_1))\n",
        "print(\"reshape tensor 1: \")\n",
        "print(tf.reshape(tensor_1, shape=[2,3]))"
      ],
      "metadata": {
        "colab": {
          "base_uri": "https://localhost:8080/"
        },
        "id": "0sobMA7-4TX-",
        "outputId": "53509f1e-9a98-46c3-9b4d-3c81d6b08c38"
      },
      "execution_count": null,
      "outputs": [
        {
          "output_type": "stream",
          "name": "stdout",
          "text": [
            "Normal tensor 1 : \n",
            "\n",
            "tf.Tensor(\n",
            "[[3 3]\n",
            " [4 2]\n",
            " [5 6]], shape=(3, 2), dtype=int32)\n",
            "Transpose tensor 1: \n",
            "tf.Tensor(\n",
            "[[3 4 5]\n",
            " [3 2 6]], shape=(2, 3), dtype=int32)\n",
            "reshape tensor 1: \n",
            "tf.Tensor(\n",
            "[[3 3 4]\n",
            " [2 5 6]], shape=(2, 3), dtype=int32)\n"
          ]
        }
      ]
    },
    {
      "cell_type": "markdown",
      "source": [
        "### Changing the datatype of a tensor\n",
        "Some time you alter defult dtype  of your tensor\n",
        "\n",
        "This is common when you want to compute using less precision (e.g. 16-bit floating point numbers vs. 32-bit floating point numbers).\n",
        "\n",
        "Computing with less precision is useful on devices with less computing capacity such as mobile devices (because the less bits, the less space the computations require).\n",
        "\n",
        "You can change the datatype of a tensor using tf.cast()."
      ],
      "metadata": {
        "id": "57fxtSFG4xY8"
      }
    },
    {
      "cell_type": "code",
      "source": [
        "# create defult tensorflow dtype32\n",
        "A = tf.constant([3.0,3.4,4.3])\n",
        "A.dtype"
      ],
      "metadata": {
        "colab": {
          "base_uri": "https://localhost:8080/"
        },
        "id": "lQBh_WJJ6scF",
        "outputId": "6d543038-1d6d-4940-8f33-3e1f11f92870"
      },
      "execution_count": null,
      "outputs": [
        {
          "output_type": "execute_result",
          "data": {
            "text/plain": [
              "tf.float32"
            ]
          },
          "metadata": {},
          "execution_count": 54
        }
      ]
    },
    {
      "cell_type": "code",
      "source": [
        "B = tf.constant([3,4,5])\n",
        "B.dtype"
      ],
      "metadata": {
        "colab": {
          "base_uri": "https://localhost:8080/"
        },
        "id": "5jeaUJ8465Lq",
        "outputId": "c37efdbd-1b66-4d5b-8094-e81bd32f6137"
      },
      "execution_count": null,
      "outputs": [
        {
          "output_type": "execute_result",
          "data": {
            "text/plain": [
              "tf.int32"
            ]
          },
          "metadata": {},
          "execution_count": 55
        }
      ]
    },
    {
      "cell_type": "code",
      "source": [
        "# now change defult data type is  tf.int32 to tf.int16\n",
        "B = tf.cast(B,dtype=tf.int16)\n",
        "B"
      ],
      "metadata": {
        "colab": {
          "base_uri": "https://localhost:8080/"
        },
        "id": "hbYvhJxl69uk",
        "outputId": "268eac47-fc66-468d-ed81-8328ce5885df"
      },
      "execution_count": null,
      "outputs": [
        {
          "output_type": "execute_result",
          "data": {
            "text/plain": [
              "<tf.Tensor: shape=(3,), dtype=int16, numpy=array([3, 4, 5], dtype=int16)>"
            ]
          },
          "metadata": {},
          "execution_count": 56
        }
      ]
    },
    {
      "cell_type": "code",
      "source": [
        "# now change defult data type is tf.float.32 to tf.float16\n",
        "A = tf.cast(A, dtype=tf.float16)\n",
        "A"
      ],
      "metadata": {
        "colab": {
          "base_uri": "https://localhost:8080/"
        },
        "id": "T3b-oAw67RDf",
        "outputId": "46c9a6ba-d56c-4287-db11-f0e91300b57e"
      },
      "execution_count": null,
      "outputs": [
        {
          "output_type": "execute_result",
          "data": {
            "text/plain": [
              "<tf.Tensor: shape=(3,), dtype=float16, numpy=array([3. , 3.4, 4.3], dtype=float16)>"
            ]
          },
          "metadata": {},
          "execution_count": 57
        }
      ]
    },
    {
      "cell_type": "code",
      "source": [
        "# you also change int32 to float32\n",
        "C = tf.cast(B,dtype=tf.float32)\n",
        "C"
      ],
      "metadata": {
        "colab": {
          "base_uri": "https://localhost:8080/"
        },
        "id": "rJkg9nNI7j9n",
        "outputId": "e80d46b1-db04-4be9-ca1b-85487c227a0a"
      },
      "execution_count": null,
      "outputs": [
        {
          "output_type": "execute_result",
          "data": {
            "text/plain": [
              "<tf.Tensor: shape=(3,), dtype=float32, numpy=array([3., 4., 5.], dtype=float32)>"
            ]
          },
          "metadata": {},
          "execution_count": 58
        }
      ]
    },
    {
      "cell_type": "markdown",
      "source": [
        "### Getting the absolute value\n",
        "some time all value to tensor will be positive"
      ],
      "metadata": {
        "id": "tufAsXFi8T9r"
      }
    },
    {
      "cell_type": "code",
      "source": [
        "D = tf.constant([-3,-2])\n",
        "D"
      ],
      "metadata": {
        "colab": {
          "base_uri": "https://localhost:8080/"
        },
        "id": "iF9IxBkx_VCW",
        "outputId": "052c1bfe-98e5-43b3-ada8-328ba6a3eb02"
      },
      "execution_count": null,
      "outputs": [
        {
          "output_type": "execute_result",
          "data": {
            "text/plain": [
              "<tf.Tensor: shape=(2,), dtype=int32, numpy=array([-3, -2], dtype=int32)>"
            ]
          },
          "metadata": {},
          "execution_count": 59
        }
      ]
    },
    {
      "cell_type": "code",
      "source": [
        "# now get absolute value in tensor\n",
        "tf.abs(D)"
      ],
      "metadata": {
        "colab": {
          "base_uri": "https://localhost:8080/"
        },
        "id": "ynVXpWBB_b7J",
        "outputId": "e89e17d7-ae37-42e7-bd54-0ee15b908187"
      },
      "execution_count": null,
      "outputs": [
        {
          "output_type": "execute_result",
          "data": {
            "text/plain": [
              "<tf.Tensor: shape=(2,), dtype=int32, numpy=array([3, 2], dtype=int32)>"
            ]
          },
          "metadata": {},
          "execution_count": 60
        }
      ]
    },
    {
      "cell_type": "markdown",
      "source": [
        "\n",
        "### Finding the min, max, mean, sum (aggregation)\n",
        "\n",
        "1. minium value function is (`tf.reduce_min()`).\n",
        "2. maximum value function is (`tf.reduce_max()`).\n",
        "3. mean value function is (`tf.reduce_mean()`).\n",
        "4. sum value function is (`tf.reduce_sum()`).\n"
      ],
      "metadata": {
        "id": "9YXqXphD_iXG"
      }
    },
    {
      "cell_type": "code",
      "source": [
        "# create random  tensor\n",
        "tensor = tf.constant(np.random.randint(0,100,size=50))\n",
        "tensor"
      ],
      "metadata": {
        "colab": {
          "base_uri": "https://localhost:8080/"
        },
        "id": "HKWzU7Rk_nzW",
        "outputId": "63b502ce-45d9-4093-84bd-fedb465f8743"
      },
      "execution_count": null,
      "outputs": [
        {
          "output_type": "execute_result",
          "data": {
            "text/plain": [
              "<tf.Tensor: shape=(50,), dtype=int64, numpy=\n",
              "array([22, 64, 95, 74, 79, 66, 38, 81, 59, 26, 60, 49,  8, 92, 88, 48, 99,\n",
              "       57, 52, 40, 94, 48, 67, 32, 22, 85, 24,  8, 50,  3, 25, 87, 38,  5,\n",
              "       75, 97, 10, 23, 88, 79, 84, 95, 15, 18,  9, 19, 37, 76, 55, 72])>"
            ]
          },
          "metadata": {},
          "execution_count": 61
        }
      ]
    },
    {
      "cell_type": "code",
      "source": [
        "# get minimum value tensor\n",
        "tf.reduce_min(tensor)"
      ],
      "metadata": {
        "colab": {
          "base_uri": "https://localhost:8080/"
        },
        "id": "eWA3fFcsHrR3",
        "outputId": "c41e14ae-f09a-4f1d-ad67-0279d0acae8a"
      },
      "execution_count": null,
      "outputs": [
        {
          "output_type": "execute_result",
          "data": {
            "text/plain": [
              "<tf.Tensor: shape=(), dtype=int64, numpy=3>"
            ]
          },
          "metadata": {},
          "execution_count": 62
        }
      ]
    },
    {
      "cell_type": "code",
      "source": [
        "# get maximum value in tensor\n",
        "tf.reduce_max(tensor)"
      ],
      "metadata": {
        "colab": {
          "base_uri": "https://localhost:8080/"
        },
        "id": "67ixnuKDBCcD",
        "outputId": "29478d84-878b-44ab-f6d8-dd3c796148ae"
      },
      "execution_count": null,
      "outputs": [
        {
          "output_type": "execute_result",
          "data": {
            "text/plain": [
              "<tf.Tensor: shape=(), dtype=int64, numpy=99>"
            ]
          },
          "metadata": {},
          "execution_count": 63
        }
      ]
    },
    {
      "cell_type": "code",
      "source": [
        "# gen mean value in  tensor\n",
        "tf.reduce_mean(tensor)"
      ],
      "metadata": {
        "colab": {
          "base_uri": "https://localhost:8080/"
        },
        "id": "_Cr8D-qdBOia",
        "outputId": "198209dc-2c5c-4c60-d4b2-9f8d759be379"
      },
      "execution_count": null,
      "outputs": [
        {
          "output_type": "execute_result",
          "data": {
            "text/plain": [
              "<tf.Tensor: shape=(), dtype=int64, numpy=52>"
            ]
          },
          "metadata": {},
          "execution_count": 64
        }
      ]
    },
    {
      "cell_type": "code",
      "source": [
        "# get sum value in tensor\n",
        "tf.reduce_sum(tensor)"
      ],
      "metadata": {
        "colab": {
          "base_uri": "https://localhost:8080/"
        },
        "id": "aMlc_lq5BVKP",
        "outputId": "1cee64aa-8d99-47fa-e115-128c243af2e7"
      },
      "execution_count": null,
      "outputs": [
        {
          "output_type": "execute_result",
          "data": {
            "text/plain": [
              "<tf.Tensor: shape=(), dtype=int64, numpy=2637>"
            ]
          },
          "metadata": {},
          "execution_count": 65
        }
      ]
    },
    {
      "cell_type": "code",
      "source": [
        "# use standard division in tensorflow \n",
        "tensor = tf.cast(tensor,dtype=tf.float32)\n",
        "tf.math.reduce_std(tensor)"
      ],
      "metadata": {
        "colab": {
          "base_uri": "https://localhost:8080/"
        },
        "id": "NcinCBuIBcKi",
        "outputId": "ee2b58d9-3868-46e4-91b7-ab885341f077"
      },
      "execution_count": null,
      "outputs": [
        {
          "output_type": "execute_result",
          "data": {
            "text/plain": [
              "<tf.Tensor: shape=(), dtype=float32, numpy=29.645782>"
            ]
          },
          "metadata": {},
          "execution_count": 66
        }
      ]
    },
    {
      "cell_type": "code",
      "source": [
        "# find the tensorflow varieance in tenosorflow probability\n",
        "import tensorflow_probability as tfp\n",
        "tfp.stats.variance(tensor)"
      ],
      "metadata": {
        "colab": {
          "base_uri": "https://localhost:8080/"
        },
        "id": "mURLmJ_nC6hG",
        "outputId": "65f2cca5-dc84-4129-d170-e508f04f13ee"
      },
      "execution_count": null,
      "outputs": [
        {
          "output_type": "execute_result",
          "data": {
            "text/plain": [
              "<tf.Tensor: shape=(), dtype=float32, numpy=878.87244>"
            ]
          },
          "metadata": {},
          "execution_count": 67
        }
      ]
    },
    {
      "cell_type": "code",
      "source": [
        "# create new tensor \n",
        "tf.random.set_seed(42)\n",
        "tensor = tf.random.uniform(shape=[50])\n",
        "tensor"
      ],
      "metadata": {
        "colab": {
          "base_uri": "https://localhost:8080/"
        },
        "id": "EAx6_TXPKach",
        "outputId": "b5653231-59fe-4325-e85d-4c39768693dd"
      },
      "execution_count": null,
      "outputs": [
        {
          "output_type": "execute_result",
          "data": {
            "text/plain": [
              "<tf.Tensor: shape=(50,), dtype=float32, numpy=\n",
              "array([0.6645621 , 0.44100678, 0.3528825 , 0.46448255, 0.03366041,\n",
              "       0.68467236, 0.74011743, 0.8724445 , 0.22632635, 0.22319686,\n",
              "       0.3103881 , 0.7223358 , 0.13318717, 0.5480639 , 0.5746088 ,\n",
              "       0.8996835 , 0.00946367, 0.5212307 , 0.6345445 , 0.1993283 ,\n",
              "       0.72942245, 0.54583454, 0.10756552, 0.6767061 , 0.6602763 ,\n",
              "       0.33695042, 0.60141766, 0.21062577, 0.8527372 , 0.44062173,\n",
              "       0.9485276 , 0.23752594, 0.81179297, 0.5263394 , 0.494308  ,\n",
              "       0.21612847, 0.8457197 , 0.8718841 , 0.3083862 , 0.6868038 ,\n",
              "       0.23764038, 0.7817228 , 0.9671384 , 0.06870162, 0.79873943,\n",
              "       0.66028714, 0.5871513 , 0.16461694, 0.7381023 , 0.32054043],\n",
              "      dtype=float32)>"
            ]
          },
          "metadata": {},
          "execution_count": 68
        }
      ]
    },
    {
      "cell_type": "code",
      "source": [
        "# find positional maximum value in tensor\n",
        "tf.argmax(tensor)"
      ],
      "metadata": {
        "id": "FCmzwalTDFnG",
        "colab": {
          "base_uri": "https://localhost:8080/"
        },
        "outputId": "8534cfb3-855e-432e-abd3-5ed42939c416"
      },
      "execution_count": null,
      "outputs": [
        {
          "output_type": "execute_result",
          "data": {
            "text/plain": [
              "<tf.Tensor: shape=(), dtype=int64, numpy=42>"
            ]
          },
          "metadata": {},
          "execution_count": 69
        }
      ]
    },
    {
      "cell_type": "code",
      "source": [
        "# find the maxium value get in index\n",
        "print(tensor[tf.argmax(tensor)])"
      ],
      "metadata": {
        "colab": {
          "base_uri": "https://localhost:8080/"
        },
        "id": "6RWDxG2eKTES",
        "outputId": "a94d646c-7238-4a6e-d0d5-118971a346c1"
      },
      "execution_count": null,
      "outputs": [
        {
          "output_type": "stream",
          "name": "stdout",
          "text": [
            "tf.Tensor(0.9671384, shape=(), dtype=float32)\n"
          ]
        }
      ]
    },
    {
      "cell_type": "code",
      "source": [
        "# find positional minimum value in tensor\n",
        "tf.argmin(tensor)"
      ],
      "metadata": {
        "colab": {
          "base_uri": "https://localhost:8080/"
        },
        "id": "9LnaCpldHkG0",
        "outputId": "0a4faf26-3192-4d29-8e66-4c921c19305f"
      },
      "execution_count": null,
      "outputs": [
        {
          "output_type": "execute_result",
          "data": {
            "text/plain": [
              "<tf.Tensor: shape=(), dtype=int64, numpy=16>"
            ]
          },
          "metadata": {},
          "execution_count": 71
        }
      ]
    },
    {
      "cell_type": "code",
      "source": [
        "# find the index of minimum value\n",
        "tensor[tf.argmin(tensor)]"
      ],
      "metadata": {
        "colab": {
          "base_uri": "https://localhost:8080/"
        },
        "id": "MUqLSmtfH20s",
        "outputId": "c151913f-fc56-4e20-c69c-b735b047b092"
      },
      "execution_count": null,
      "outputs": [
        {
          "output_type": "execute_result",
          "data": {
            "text/plain": [
              "<tf.Tensor: shape=(), dtype=float32, numpy=0.009463668>"
            ]
          },
          "metadata": {},
          "execution_count": 72
        }
      ]
    },
    {
      "cell_type": "markdown",
      "source": [
        "# Sequeezing in tensor (Removing all single dimansional)\n",
        "i am use this function to remove single dimansional and another name is sequeezing `tf.squeeze()`."
      ],
      "metadata": {
        "id": "qe19oXMpLRnB"
      }
    },
    {
      "cell_type": "code",
      "source": [
        "# create new tensor allways start with new tensor\n",
        "# set random seed \n",
        "tf.random.set_seed(42)\n",
        "tensor_3 = tf.random.uniform(shape=[1,1,1,1,50])\n",
        "tensor_3"
      ],
      "metadata": {
        "colab": {
          "base_uri": "https://localhost:8080/"
        },
        "id": "yNlDN3asMzEu",
        "outputId": "d67c4d1f-c861-47cc-b1c0-ad939db15514"
      },
      "execution_count": null,
      "outputs": [
        {
          "output_type": "execute_result",
          "data": {
            "text/plain": [
              "<tf.Tensor: shape=(1, 1, 1, 1, 50), dtype=float32, numpy=\n",
              "array([[[[[0.6645621 , 0.44100678, 0.3528825 , 0.46448255, 0.03366041,\n",
              "           0.68467236, 0.74011743, 0.8724445 , 0.22632635, 0.22319686,\n",
              "           0.3103881 , 0.7223358 , 0.13318717, 0.5480639 , 0.5746088 ,\n",
              "           0.8996835 , 0.00946367, 0.5212307 , 0.6345445 , 0.1993283 ,\n",
              "           0.72942245, 0.54583454, 0.10756552, 0.6767061 , 0.6602763 ,\n",
              "           0.33695042, 0.60141766, 0.21062577, 0.8527372 , 0.44062173,\n",
              "           0.9485276 , 0.23752594, 0.81179297, 0.5263394 , 0.494308  ,\n",
              "           0.21612847, 0.8457197 , 0.8718841 , 0.3083862 , 0.6868038 ,\n",
              "           0.23764038, 0.7817228 , 0.9671384 , 0.06870162, 0.79873943,\n",
              "           0.66028714, 0.5871513 , 0.16461694, 0.7381023 , 0.32054043]]]]],\n",
              "      dtype=float32)>"
            ]
          },
          "metadata": {},
          "execution_count": 73
        }
      ]
    },
    {
      "cell_type": "code",
      "source": [
        "# now remove all single dimansional\n",
        "squeez_tensor = tf.squeeze(tensor_3)\n",
        "squeez_tensor"
      ],
      "metadata": {
        "colab": {
          "base_uri": "https://localhost:8080/"
        },
        "id": "DdxppttbNldn",
        "outputId": "b5c285f8-0b59-4d09-849f-11d59f18033c"
      },
      "execution_count": null,
      "outputs": [
        {
          "output_type": "execute_result",
          "data": {
            "text/plain": [
              "<tf.Tensor: shape=(50,), dtype=float32, numpy=\n",
              "array([0.6645621 , 0.44100678, 0.3528825 , 0.46448255, 0.03366041,\n",
              "       0.68467236, 0.74011743, 0.8724445 , 0.22632635, 0.22319686,\n",
              "       0.3103881 , 0.7223358 , 0.13318717, 0.5480639 , 0.5746088 ,\n",
              "       0.8996835 , 0.00946367, 0.5212307 , 0.6345445 , 0.1993283 ,\n",
              "       0.72942245, 0.54583454, 0.10756552, 0.6767061 , 0.6602763 ,\n",
              "       0.33695042, 0.60141766, 0.21062577, 0.8527372 , 0.44062173,\n",
              "       0.9485276 , 0.23752594, 0.81179297, 0.5263394 , 0.494308  ,\n",
              "       0.21612847, 0.8457197 , 0.8718841 , 0.3083862 , 0.6868038 ,\n",
              "       0.23764038, 0.7817228 , 0.9671384 , 0.06870162, 0.79873943,\n",
              "       0.66028714, 0.5871513 , 0.16461694, 0.7381023 , 0.32054043],\n",
              "      dtype=float32)>"
            ]
          },
          "metadata": {},
          "execution_count": 74
        }
      ]
    },
    {
      "cell_type": "markdown",
      "source": [
        "# One hot encoding\n",
        "\n",
        "if you have tensor indeces and would like to one-hot-encoding , use this function - `tf.one_hot()`.\n",
        "\n",
        "must be specify depth value in ond_hot function under"
      ],
      "metadata": {
        "id": "3aBfESYzOTkE"
      }
    },
    {
      "cell_type": "code",
      "source": [
        "# create new one hot endeces\n",
        "color = [0,1,2] # 0 -> red ,1 -> green, 2 -> blue\n",
        "# now convert to tensor one hot encoding format\n",
        "tf.one_hot(color,depth=3)"
      ],
      "metadata": {
        "colab": {
          "base_uri": "https://localhost:8080/"
        },
        "id": "wqnl-MvPxLzH",
        "outputId": "40e19183-7d44-4240-8088-23be192b0cc8"
      },
      "execution_count": null,
      "outputs": [
        {
          "output_type": "execute_result",
          "data": {
            "text/plain": [
              "<tf.Tensor: shape=(3, 3), dtype=float32, numpy=\n",
              "array([[1., 0., 0.],\n",
              "       [0., 1., 0.],\n",
              "       [0., 0., 1.]], dtype=float32)>"
            ]
          },
          "metadata": {},
          "execution_count": 75
        }
      ]
    },
    {
      "cell_type": "code",
      "source": [
        "# create new one hot endeces but this time see one value and off value\n",
        "color = [0,1,2] # same this above code\n",
        "# now convert to tensor one hot encoding format\n",
        "tf.one_hot(color,depth=3,on_value=\"I like deep learning\",off_value=\"I like machine leanring\")"
      ],
      "metadata": {
        "colab": {
          "base_uri": "https://localhost:8080/"
        },
        "id": "OzPmptzsxkHD",
        "outputId": "80a52d49-1e8b-45ea-b65c-5f3e803e0fb9"
      },
      "execution_count": null,
      "outputs": [
        {
          "output_type": "execute_result",
          "data": {
            "text/plain": [
              "<tf.Tensor: shape=(3, 3), dtype=string, numpy=\n",
              "array([[b'I like deep learning', b'I like machine leanring',\n",
              "        b'I like machine leanring'],\n",
              "       [b'I like machine leanring', b'I like deep learning',\n",
              "        b'I like machine leanring'],\n",
              "       [b'I like machine leanring', b'I like machine leanring',\n",
              "        b'I like deep learning']], dtype=object)>"
            ]
          },
          "metadata": {},
          "execution_count": 76
        }
      ]
    },
    {
      "cell_type": "markdown",
      "source": [
        "### Squaring , log,squar root\n",
        "many other math function have in tensorflow allways exeperiment"
      ],
      "metadata": {
        "id": "p-eohIVLylUP"
      }
    },
    {
      "cell_type": "code",
      "source": [
        "# create new tensor\n",
        "tensor = tf.range(0,10)\n",
        "tensor"
      ],
      "metadata": {
        "colab": {
          "base_uri": "https://localhost:8080/"
        },
        "id": "0UwgJ3j-zlg5",
        "outputId": "0054158b-50c9-4aa8-9e03-e4e8544b0059"
      },
      "execution_count": null,
      "outputs": [
        {
          "output_type": "execute_result",
          "data": {
            "text/plain": [
              "<tf.Tensor: shape=(10,), dtype=int32, numpy=array([0, 1, 2, 3, 4, 5, 6, 7, 8, 9], dtype=int32)>"
            ]
          },
          "metadata": {},
          "execution_count": 77
        }
      ]
    },
    {
      "cell_type": "code",
      "source": [
        "# now squaring math function use\n",
        "tf.square(tensor)"
      ],
      "metadata": {
        "colab": {
          "base_uri": "https://localhost:8080/"
        },
        "id": "3pYhhKPXzwcc",
        "outputId": "ed328fd7-3cc4-463f-9e87-a084715fc5c1"
      },
      "execution_count": null,
      "outputs": [
        {
          "output_type": "execute_result",
          "data": {
            "text/plain": [
              "<tf.Tensor: shape=(10,), dtype=int32, numpy=array([ 0,  1,  4,  9, 16, 25, 36, 49, 64, 81], dtype=int32)>"
            ]
          },
          "metadata": {},
          "execution_count": 78
        }
      ]
    },
    {
      "cell_type": "code",
      "source": [
        "# now squar root math function use\n",
        "# all ways every tensor must be type of this : (bfloat16, half, float32, float64, complex64, complex128)\n",
        "# tf.sqrt(tensor) this line run than error show becuse this tensor type is int32\n",
        "tf.sqrt(tf.cast(tensor,dtype=tf.float32))"
      ],
      "metadata": {
        "colab": {
          "base_uri": "https://localhost:8080/"
        },
        "id": "ZOcxT0mAz5AT",
        "outputId": "53db94c5-97be-4930-887a-27f1daf0008f"
      },
      "execution_count": null,
      "outputs": [
        {
          "output_type": "execute_result",
          "data": {
            "text/plain": [
              "<tf.Tensor: shape=(10,), dtype=float32, numpy=\n",
              "array([0.        , 0.99999994, 1.4142134 , 1.7320508 , 1.9999999 ,\n",
              "       2.236068  , 2.4494896 , 2.6457512 , 2.828427  , 3.        ],\n",
              "      dtype=float32)>"
            ]
          },
          "metadata": {},
          "execution_count": 79
        }
      ]
    },
    {
      "cell_type": "code",
      "source": [
        "# now loog math function use\n",
        "# all ways every tensor must be type of this: (bfloat16, half, float32, float64, complex64, complex128.)\n",
        "# tf.math.log(tensor) this line code error throw becuse this tensor type is int32\n",
        "tf.math.log(tf.cast(tensor,dtype=tf.float32))"
      ],
      "metadata": {
        "colab": {
          "base_uri": "https://localhost:8080/"
        },
        "id": "iN0PMmnF0XtR",
        "outputId": "40ff97c2-e2db-417c-b0d0-a98f05ab8385"
      },
      "execution_count": null,
      "outputs": [
        {
          "output_type": "execute_result",
          "data": {
            "text/plain": [
              "<tf.Tensor: shape=(10,), dtype=float32, numpy=\n",
              "array([     -inf, 0.       , 0.6931472, 1.0986123, 1.3862944, 1.609438 ,\n",
              "       1.7917595, 1.9459102, 2.0794415, 2.1972246], dtype=float32)>"
            ]
          },
          "metadata": {},
          "execution_count": 80
        }
      ]
    },
    {
      "cell_type": "markdown",
      "source": [
        "### Tensor And Numpy\n",
        "We have interect tensor to numpy array some time create tensor array directly use number"
      ],
      "metadata": {
        "id": "c-VWwSm81YJk"
      }
    },
    {
      "cell_type": "code",
      "source": [
        "# create tensor with numpy array \n",
        "tensor_numpy = tf.constant(np.array([3.,7.,9.]))\n",
        "tensor_numpy"
      ],
      "metadata": {
        "colab": {
          "base_uri": "https://localhost:8080/"
        },
        "id": "HhF2NeJh5JkE",
        "outputId": "6a193c66-e37f-4a7e-b4db-5215d72bd3fb"
      },
      "execution_count": null,
      "outputs": [
        {
          "output_type": "execute_result",
          "data": {
            "text/plain": [
              "<tf.Tensor: shape=(3,), dtype=float64, numpy=array([3., 7., 9.])>"
            ]
          },
          "metadata": {},
          "execution_count": 81
        }
      ]
    },
    {
      "cell_type": "code",
      "source": [
        "# create tensor directly in tensor\n",
        "tensor = tf.constant([3.,7.,9.])\n",
        "tensor"
      ],
      "metadata": {
        "colab": {
          "base_uri": "https://localhost:8080/"
        },
        "id": "BZ0XN8wO5YW_",
        "outputId": "89e6133b-bf4f-4244-e003-bd82d9d95736"
      },
      "execution_count": null,
      "outputs": [
        {
          "output_type": "execute_result",
          "data": {
            "text/plain": [
              "<tf.Tensor: shape=(3,), dtype=float32, numpy=array([3., 7., 9.], dtype=float32)>"
            ]
          },
          "metadata": {},
          "execution_count": 82
        }
      ]
    },
    {
      "cell_type": "code",
      "source": [
        "# tensor and numpy different of defult data type\n",
        "tensor_numpy = tf.constant(np.array([3.,7.,9.])) # numpy array defult datatype is float64\n",
        "tensor = tf.constant([3.,7.,9.]) # tensor defult datatype is float32\n",
        "# check two tensor  data type\n",
        "tensor_numpy.dtype, tensor.dtype"
      ],
      "metadata": {
        "colab": {
          "base_uri": "https://localhost:8080/"
        },
        "id": "i3UfxpBh5r0-",
        "outputId": "d250c3b0-9f83-45f3-b454-7a5e7b08fb05"
      },
      "execution_count": null,
      "outputs": [
        {
          "output_type": "execute_result",
          "data": {
            "text/plain": [
              "(tf.float64, tf.float32)"
            ]
          },
          "metadata": {},
          "execution_count": 83
        }
      ]
    },
    {
      "cell_type": "code",
      "source": [
        ""
      ],
      "metadata": {
        "id": "fSDMZ0fa-07y"
      },
      "execution_count": null,
      "outputs": []
    }
  ]
}