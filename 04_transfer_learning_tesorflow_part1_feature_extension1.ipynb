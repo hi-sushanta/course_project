{
  "cells": [
    {
      "cell_type": "markdown",
      "metadata": {
        "id": "hrcnQnB6uodQ"
      },
      "source": [
        "# 04-Transfer learning with Tensorflow Part 1: Feature Extension\n",
        "We've built a bunch of convolutional neural networks from scratch and they all seem to be learning, however, there is still plenty of room for improvement.\n",
        "\n",
        "To improve our model(s), we could spend a while trying different configurations, adding more layers, changing the learning rate, adjusting the number of neurons per layer and more.\n",
        "\n",
        "However, doing this is very time consuming.\n",
        "\n",
        "Luckily, there's a technique we can use to save time.\n",
        "\n",
        "It's called transfer learning, in other words, taking the patterns (also called weights) another model has learned from another problem and using them for our own problem.\n",
        "\n",
        "There are two main benefits to using transfer learning:\n",
        "\n",
        "1. Can leverage an existing neural network architecture proven to work on problems similar to our own.\n",
        "2. Can leverage a working neural network architecture which has already learned patterns on similar data to our own. This often results in achieving great results with less custom data.\n",
        "What this means is, instead of hand-crafting our own neural network architectures or building them from scratch, we can utilise models which have worked for others.\n",
        "\n",
        "And instead of training our own models from scratch on our own datasets, we can take the patterns a model has learned from datasets such as ImageNet (millions of images of different objects) and use them as the foundation of our own. Doing this often leads to getting great results with less data.\n",
        "\n",
        "Over the next few notebooks, we'll see the power of transfer learning in action.\n",
        "\n"
      ]
    },
    {
      "cell_type": "markdown",
      "metadata": {
        "id": "kDL7BBKgG7dY"
      },
      "source": [
        "What we're going to cover\n",
        "We're going to go through the following with TensorFlow:\n",
        "\n",
        "* Introduce transfer learning (a way to beat all of our old self-built models)\n",
        "* Using a smaller dataset to experiment faster (10% of training samples of 10 * classes of food)\n",
        "* Build a transfer learning feature extraction model using TensorFlow Hub\n",
        "* Introduce the TensorBoard callback to track model training results\n",
        "* Compare model results using TensorBoard\n"
      ]
    },
    {
      "cell_type": "code",
      "execution_count": 2,
      "metadata": {
        "colab": {
          "base_uri": "https://localhost:8080/"
        },
        "id": "qyNzJv_XGLqO",
        "outputId": "3be60795-f989-4a43-b075-4f4448d49754"
      },
      "outputs": [
        {
          "output_type": "stream",
          "name": "stdout",
          "text": [
            "NVIDIA-SMI has failed because it couldn't communicate with the NVIDIA driver. Make sure that the latest NVIDIA driver is installed and running.\n",
            "\n"
          ]
        }
      ],
      "source": [
        "# are you using gpu\n",
        "!nvidia-smi\n"
      ]
    },
    {
      "cell_type": "markdown",
      "metadata": {
        "id": "YWWJgWT_vaRg"
      },
      "source": [
        "### Downloading and becoming one with data"
      ]
    },
    {
      "cell_type": "code",
      "execution_count": 3,
      "metadata": {
        "colab": {
          "base_uri": "https://localhost:8080/"
        },
        "id": "aBxxSFA3y2BF",
        "outputId": "f394fe05-d045-427e-90b7-154d4b7b51e8"
      },
      "outputs": [
        {
          "output_type": "stream",
          "name": "stdout",
          "text": [
            "--2022-05-03 11:46:04--  https://storage.googleapis.com/ztm_tf_course/food_vision/10_food_classes_10_percent.zip\n",
            "Resolving storage.googleapis.com (storage.googleapis.com)... 142.250.141.128, 2607:f8b0:4023:c0b::80\n",
            "Connecting to storage.googleapis.com (storage.googleapis.com)|142.250.141.128|:443... connected.\n",
            "HTTP request sent, awaiting response... 200 OK\n",
            "Length: 168546183 (161M) [application/zip]\n",
            "Saving to: ‘10_food_classes_10_percent.zip’\n",
            "\n",
            "10_food_classes_10_ 100%[===================>] 160.74M   167MB/s    in 1.0s    \n",
            "\n",
            "2022-05-03 11:46:05 (167 MB/s) - ‘10_food_classes_10_percent.zip’ saved [168546183/168546183]\n",
            "\n"
          ]
        }
      ],
      "source": [
        "# get data 10% of (10 food classes all data)\n",
        "\n",
        "import zipfile\n",
        "\n",
        "# Download data\n",
        "!wget https://storage.googleapis.com/ztm_tf_course/food_vision/10_food_classes_10_percent.zip\n",
        "\n",
        "# Unzip the downloaded file\n",
        "zip_ref = zipfile.ZipFile(\"10_food_classes_10_percent.zip\", \"r\")\n",
        "zip_ref.extractall()\n",
        "zip_ref.close()\n"
      ]
    },
    {
      "cell_type": "code",
      "execution_count": 4,
      "metadata": {
        "colab": {
          "base_uri": "https://localhost:8080/"
        },
        "id": "I3oZUUqrHRmO",
        "outputId": "ed2727d9-759f-4888-a5a7-390891bdf83d"
      },
      "outputs": [
        {
          "output_type": "stream",
          "name": "stdout",
          "text": [
            "There are 2 of directory and 0 image in '10_food_classes_10_percent' \n",
            "There are 10 of directory and 0 image in '10_food_classes_10_percent/train' \n",
            "There are 0 of directory and 75 image in '10_food_classes_10_percent/train/grilled_salmon' \n",
            "There are 0 of directory and 75 image in '10_food_classes_10_percent/train/steak' \n",
            "There are 0 of directory and 75 image in '10_food_classes_10_percent/train/sushi' \n",
            "There are 0 of directory and 75 image in '10_food_classes_10_percent/train/chicken_wings' \n",
            "There are 0 of directory and 75 image in '10_food_classes_10_percent/train/ice_cream' \n",
            "There are 0 of directory and 75 image in '10_food_classes_10_percent/train/pizza' \n",
            "There are 0 of directory and 75 image in '10_food_classes_10_percent/train/chicken_curry' \n",
            "There are 0 of directory and 75 image in '10_food_classes_10_percent/train/hamburger' \n",
            "There are 0 of directory and 75 image in '10_food_classes_10_percent/train/ramen' \n",
            "There are 0 of directory and 75 image in '10_food_classes_10_percent/train/fried_rice' \n",
            "There are 10 of directory and 0 image in '10_food_classes_10_percent/test' \n",
            "There are 0 of directory and 250 image in '10_food_classes_10_percent/test/grilled_salmon' \n",
            "There are 0 of directory and 250 image in '10_food_classes_10_percent/test/steak' \n",
            "There are 0 of directory and 250 image in '10_food_classes_10_percent/test/sushi' \n",
            "There are 0 of directory and 250 image in '10_food_classes_10_percent/test/chicken_wings' \n",
            "There are 0 of directory and 250 image in '10_food_classes_10_percent/test/ice_cream' \n",
            "There are 0 of directory and 250 image in '10_food_classes_10_percent/test/pizza' \n",
            "There are 0 of directory and 250 image in '10_food_classes_10_percent/test/chicken_curry' \n",
            "There are 0 of directory and 250 image in '10_food_classes_10_percent/test/hamburger' \n",
            "There are 0 of directory and 250 image in '10_food_classes_10_percent/test/ramen' \n",
            "There are 0 of directory and 250 image in '10_food_classes_10_percent/test/fried_rice' \n"
          ]
        }
      ],
      "source": [
        "# how manu directory and file have in each of label\n",
        "import os\n",
        "for dirpath ,dirname,filename in os.walk(\"10_food_classes_10_percent\"):\n",
        "    print(f\"There are {len(dirname)} of directory and {len(filename)} image in '{dirpath}' \")"
      ]
    },
    {
      "cell_type": "markdown",
      "metadata": {
        "id": "u0RNKNYdLagS"
      },
      "source": [
        "### Creating data loader (preprare data)\n",
        "Now we've downloaded the data, let's use the ImageDataGenerator class along with the flow_from_directory method to load in our images.\n",
        "\n"
      ]
    },
    {
      "cell_type": "code",
      "execution_count": 5,
      "metadata": {
        "colab": {
          "base_uri": "https://localhost:8080/"
        },
        "id": "x5RHwCJ3LygY",
        "outputId": "e05a61c8-dfc3-449a-d19d-81f5c000d798"
      },
      "outputs": [
        {
          "output_type": "stream",
          "name": "stdout",
          "text": [
            "Training Image: \n",
            "Found 750 images belonging to 10 classes.\n",
            "Testing Image: \n",
            "Found 2500 images belonging to 10 classes.\n"
          ]
        }
      ],
      "source": [
        "# set up inputs\n",
        "from tensorflow.keras.preprocessing.image import ImageDataGenerator\n",
        "train_dir = \"10_food_classes_10_percent/train/\"\n",
        "test_dir = \"10_food_classes_10_percent/test/\"\n",
        "\n",
        "IMAGE_SHAPE = (224,224)\n",
        "BATCH_SIZE = 32\n",
        "EPOCH = 5\n",
        "\n",
        "# inialize ImageDataGenerator \n",
        "train_datagen_10_percent = ImageDataGenerator(rescale=1/255.)\n",
        "test_datagen_10_percent = ImageDataGenerator(rescale=1/255.)\n",
        "\n",
        "print(\"Training Image: \")\n",
        "train_data_10_percent = train_datagen_10_percent.flow_from_directory(directory=train_dir,\n",
        "                                                                    target_size=IMAGE_SHAPE,\n",
        "                                                                    batch_size=BATCH_SIZE,\n",
        "                                                                    class_mode='categorical')\n",
        "\n",
        "print(\"Testing Image: \")\n",
        "test_data_10_percent = test_datagen_10_percent.flow_from_directory(directory=test_dir,\n",
        "                                                                   target_size=IMAGE_SHAPE,\n",
        "                                                                   batch_size=BATCH_SIZE,\n",
        "                                                                   class_mode='categorical')"
      ]
    },
    {
      "cell_type": "markdown",
      "metadata": {
        "id": "6v75NLplMtEw"
      },
      "source": [
        "### Setting up callbacks (things to run whilst our model trains)\n",
        "Before we build a model, there's an important concept we're going to get familiar with because it's going to play a key role in our future model building experiments.\n",
        "\n",
        "And that concept is callbacks.\n",
        "\n",
        "Callbacks are extra functionality you can add to your models to be performed during or after training. Some of the most popular callbacks include:\n",
        "\n",
        "* **Experiment tracking with TensorBoard -** log the performance of multiple models and then view and compare these models in a visual way on TensorBoard (a dashboard for inspecting neural network parameters). Helpful to compare the results of different models on your data.\n",
        "* **Model checkpointing -** save your model as it trains so you can stop training if needed and come back to continue off where you left. Helpful if training takes a long time and can't be done in one sitting.\n",
        "* **Early stopping -** leave your model training for an arbitrary amount of time and have it stop training automatically when it ceases to improve. Helpful when you've got a large dataset and don't know how long training will take.\n"
      ]
    },
    {
      "cell_type": "code",
      "execution_count": 6,
      "metadata": {
        "id": "CEvM8fQjGFCe"
      },
      "outputs": [],
      "source": [
        "# Create tensorbard callback (functionized because need to create a new one for each model)\n",
        "import datetime\n",
        "import tensorflow as tf\n",
        "def create_tensorboard_callback(dir_name, experiment_name):\n",
        "    log_dir = dir_name + \"/\"+ experiment_name + \"/\" + datetime.datetime.now().strftime(\"%Y%m%d-%H%M%S\")\n",
        "    tensorboard_callback = tf.keras.callbacks.TensorBoard(\n",
        "        log_dir = log_dir\n",
        "    )\n",
        "    print(f\"Saving TensorBoard log files to : {log_dir}\")\n",
        "    return tensorboard_callback"
      ]
    },
    {
      "cell_type": "markdown",
      "metadata": {
        "id": "gg0uP4ZNGyt1"
      },
      "source": [
        "### Creating models using TensorFlow Hub\n",
        "In the past we've used TensorFlow to create our own models layer by layer from scratch.\n",
        "\n",
        "Now we're going to do a similar process, except the majroity of our model's layers are going to come from TensorFlow Hub.\n",
        "\n",
        "We can access pretrained models on: https://tfhub.dev/\n",
        "\n",
        "Browsing the TensorFlow Hub page and sorting for image classification, we found the following feature vector model link: https://tfhub.dev/tensorflow/efficientnet/b0/feature-vector/1\n",
        "\n",
        "\n",
        "\n",
        "In fact, we're going to use two models from TensorFlow Hub:\n",
        "\n",
        "* ResNetV2 - a state of the art computer vision model architecture from 2016.\n",
        "* EfficientNet - a state of the art computer vision architecture from 2019.\n"
      ]
    },
    {
      "cell_type": "code",
      "execution_count": 7,
      "metadata": {
        "id": "stq3F6skJjX2"
      },
      "outputs": [],
      "source": [
        "# let's compare two model each other\n",
        "resnet_url = \"https://tfhub.dev/google/imagenet/resnet_v2_50/feature_vector/5\"\n",
        "efficientnet_url = \"https://tfhub.dev/tensorflow/efficientnet/b0/feature-vector/1\"\n"
      ]
    },
    {
      "cell_type": "code",
      "execution_count": 7,
      "metadata": {
        "id": "p6PDdbgNEWfV"
      },
      "outputs": [],
      "source": [
        ""
      ]
    },
    {
      "cell_type": "code",
      "execution_count": 8,
      "metadata": {
        "id": "eL90IAPxEWfV"
      },
      "outputs": [],
      "source": [
        "import tensorflow as tf\n"
      ]
    },
    {
      "cell_type": "code",
      "execution_count": 9,
      "metadata": {
        "colab": {
          "base_uri": "https://localhost:8080/"
        },
        "id": "0VTST9HZEWfV",
        "outputId": "c6d150ec-f09c-4b68-a817-479f754a83e2"
      },
      "outputs": [
        {
          "output_type": "stream",
          "name": "stdout",
          "text": [
            "2.8.0\n"
          ]
        }
      ],
      "source": [
        "print(tf.__version__)"
      ]
    },
    {
      "cell_type": "code",
      "source": [
        "# Get the class names (programmatically, this is much more helpful with a longer list of classes)\n",
        "import pathlib\n",
        "import numpy as np\n",
        "data_dir = pathlib.Path(\"10_food_classes_10_percent/train/\") # turn our training path into a Python path\n",
        "class_names = np.array(sorted([item.name for item in data_dir.glob('*')])) # created a list of class_names from the subdirectories\n",
        "print(class_names)"
      ],
      "metadata": {
        "colab": {
          "base_uri": "https://localhost:8080/"
        },
        "id": "cwU9doBnN0YB",
        "outputId": "aa1455f2-b02e-4886-cb8d-e7fae9ff336c"
      },
      "execution_count": 10,
      "outputs": [
        {
          "output_type": "stream",
          "name": "stdout",
          "text": [
            "['chicken_curry' 'chicken_wings' 'fried_rice' 'grilled_salmon' 'hamburger'\n",
            " 'ice_cream' 'pizza' 'ramen' 'steak' 'sushi']\n"
          ]
        }
      ]
    },
    {
      "cell_type": "code",
      "execution_count": 11,
      "metadata": {
        "id": "6-NaylbhEWfW"
      },
      "outputs": [],
      "source": [
        "# import importent depandecies\n",
        "import tensorflow as tf\n",
        "import tensorflow_hub as hub\n",
        "from tensorflow.keras import layers\n",
        "import matplotlib.pyplot as plt\n",
        "import matplotlib.image as mpimg\n"
      ]
    },
    {
      "cell_type": "code",
      "execution_count": 12,
      "metadata": {
        "id": "UUoPHpd9EWfW"
      },
      "outputs": [],
      "source": [
        "# Let's make a create_model() function to create a model from a URL\n",
        "def create_model(model_url, num_classes=10):\n",
        "  \"\"\"\n",
        "  Takes a TensorFlow Hub URL and creates a Keras Sequential model with it.\n",
        "\n",
        "  Args:\n",
        "    model_url (str): A TensorFlow Hub feature extraction URL.\n",
        "    num_classes (int): Number of output neurons in the output layer,\n",
        "      should be equal to number of target classes, default 10.\n",
        "  \n",
        "  Returns:\n",
        "    An uncompiled Keras Sequential model with model_url as feature extractor\n",
        "    layer and Dense output layer with num_classes output neurons.\n",
        "  \"\"\"\n",
        "  # Download the pretrained model and save it as a Keras layer\n",
        "  feature_extractor_layer = hub.KerasLayer(model_url,\n",
        "                                           trainable=False, # freeze the already learned patterns\n",
        "                                           name=\"feature_extraction_lyaer\",\n",
        "                                           input_shape=IMAGE_SHAPE+(3,)) \n",
        "\n",
        "  # Create our own model\n",
        "  model = tf.keras.Sequential([\n",
        "      feature_extractor_layer,\n",
        "      layers.Dense(num_classes, activation=\"softmax\", name=\"output_layer\")\n",
        "  ])\n",
        "    \n",
        "  return model  \n"
      ]
    },
    {
      "cell_type": "markdown",
      "metadata": {
        "id": "fBR1BbfgEWfW"
      },
      "source": [
        "### Creating and testing ResNet TensorFlow Hub Feature Extraction model"
      ]
    },
    {
      "cell_type": "code",
      "execution_count": 13,
      "metadata": {
        "id": "9OQqPttZEWfW"
      },
      "outputs": [],
      "source": [
        "resnet_model = create_model(model_url=resnet_url,\n",
        "                            num_classes=train_data_10_percent.num_classes)"
      ]
    },
    {
      "cell_type": "code",
      "execution_count": 14,
      "metadata": {
        "id": "2pNHyRNiEWfX"
      },
      "outputs": [],
      "source": [
        "# compile the model\n",
        "resnet_model.compile(loss=tf.keras.losses.CategoricalCrossentropy(),\n",
        "                    optimizer=tf.keras.optimizers.Adam(),\n",
        "                    metrics=[\"accuracy\"])"
      ]
    },
    {
      "cell_type": "code",
      "execution_count": 15,
      "metadata": {
        "colab": {
          "base_uri": "https://localhost:8080/"
        },
        "id": "kNVaf3TsEWfX",
        "outputId": "8d11221e-76df-45f6-a717-00bcb077a87c"
      },
      "outputs": [
        {
          "output_type": "stream",
          "name": "stdout",
          "text": [
            "Saving TensorBoard log files to : tensorflow_hub/resnet50V2/20220503-114625\n",
            "Epoch 1/5\n",
            "24/24 [==============================] - 391s 17s/step - loss: 1.9619 - accuracy: 0.3253 - val_loss: 1.2125 - val_accuracy: 0.6168\n",
            "Epoch 2/5\n",
            "24/24 [==============================] - 380s 16s/step - loss: 0.9316 - accuracy: 0.7147 - val_loss: 0.8418 - val_accuracy: 0.7276\n",
            "Epoch 3/5\n",
            "24/24 [==============================] - 377s 16s/step - loss: 0.6419 - accuracy: 0.8187 - val_loss: 0.7823 - val_accuracy: 0.7388\n",
            "Epoch 4/5\n",
            "24/24 [==============================] - 409s 18s/step - loss: 0.4918 - accuracy: 0.8720 - val_loss: 0.6978 - val_accuracy: 0.7684\n",
            "Epoch 5/5\n",
            "24/24 [==============================] - 409s 18s/step - loss: 0.3931 - accuracy: 0.9053 - val_loss: 0.6814 - val_accuracy: 0.7680\n"
          ]
        }
      ],
      "source": [
        "# fit the model \n",
        "res_net_history = resnet_model.fit(train_data_10_percent,\n",
        "                                  epochs=5,\n",
        "                                  steps_per_epoch=len(train_data_10_percent),\n",
        "                                  validation_data=test_data_10_percent,\n",
        "                                  validation_steps=len(test_data_10_percent),\n",
        "                                  callbacks=[create_tensorboard_callback(dir_name=\"tensorflow_hub\",\n",
        "                                                                        experiment_name=\"resnet50V2\")])"
      ]
    },
    {
      "cell_type": "markdown",
      "metadata": {
        "id": "Y4LoslEhEWfX"
      },
      "source": [
        "Wow!\n",
        "\n",
        "That. Is. Incredible. Our transfer learning feature extractor model out performed ALL of the previous models we built by hand... (substantially) and in a quicker training time AND with only 10% of the training examples.\n"
      ]
    },
    {
      "cell_type": "code",
      "execution_count": 16,
      "metadata": {
        "id": "ouC_7yCNEWfY"
      },
      "outputs": [],
      "source": [
        "# Let's create a function to plot our loss curves...\n",
        "# Tidbit: you could put a function like this into a script called \"halper.py\" and import it when you need it...\n",
        "import matplotlib.pyplot as plt\n",
        "def plot_loss_curve(history):\n",
        "    \"\"\"\n",
        "    Return sparate loss curves for training and validation metrics\n",
        "    \n",
        "    Args:\n",
        "      history: Tensorflow history object\n",
        "    Return: \n",
        "      Plots of training/validation loass and accuracy metrics\n",
        "      \n",
        "    \"\"\"\n",
        "    loss = history.history[\"loss\"]\n",
        "    val_loss = history.history[\"val_loss\"]\n",
        "    \n",
        "    accuracy = history.history[\"accuracy\"]\n",
        "    val_accuracy = history.history[\"val_accuracy\"]\n",
        "    \n",
        "    epoch = range(len(history.history[\"loss\"]))\n",
        "    \n",
        "    # plot loss\n",
        "    plt.plot(epoch,loss,label=\"training loss\")\n",
        "    plt.plot(epoch,val_loss,label=\"val loss\")\n",
        "    plt.title(\"Loss\")\n",
        "    plt.xlabel(\"Epochs\")\n",
        "    plt.legend();\n",
        "    \n",
        "    # plot accuracy\n",
        "    plt.figure()\n",
        "    plt.plot(epoch,accuracy,label=\"training accuracy\")\n",
        "    plt.plot(epoch,val_accuracy,label=\"val accuracy\")\n",
        "    plt.title(\"Accuracy\")\n",
        "    plt.xlabel(\"Epochs\")\n",
        "    plt.legend();\n",
        "    "
      ]
    },
    {
      "cell_type": "code",
      "execution_count": 17,
      "metadata": {
        "colab": {
          "base_uri": "https://localhost:8080/",
          "height": 573
        },
        "id": "WwQg5KjpEWfY",
        "outputId": "6033b974-944d-4fea-f9d7-f470d02f51d7"
      },
      "outputs": [
        {
          "output_type": "display_data",
          "data": {
            "text/plain": [
              "<Figure size 432x288 with 1 Axes>"
            ],
            "image/png": "[encoded data removed]"
          },
          "metadata": {
            "needs_background": "light"
          }
        },
        {
          "output_type": "display_data",
          "data": {
            "text/plain": [
              "<Figure size 432x288 with 1 Axes>"
            ],
            "image/png": "[encoded data removed]"
          },
          "metadata": {
            "needs_background": "light"
          }
        }
      ],
      "source": [
        "plot_loss_curve(res_net_history)"
      ]
    },
    {
      "cell_type": "markdown",
      "metadata": {
        "id": "tzsUaPxlEWfY"
      },
      "source": [
        "### Creating and testing EfficientNetB0 TensorFlow Hub Feature Extraction model"
      ]
    },
    {
      "cell_type": "code",
      "execution_count": 18,
      "metadata": {
        "id": "B0GSQoQZEWfZ"
      },
      "outputs": [],
      "source": [
        "efficientnet_model = create_model(model_url=efficientnet_url,\n",
        "                                 num_classes=train_data_10_percent.num_classes)"
      ]
    },
    {
      "cell_type": "code",
      "execution_count": 19,
      "metadata": {
        "id": "AnGsBNw-EWfZ"
      },
      "outputs": [],
      "source": [
        "# compilet the model\n",
        "efficientnet_model.compile(loss=tf.keras.losses.CategoricalCrossentropy(),\n",
        "                          optimizer=tf.keras.optimizers.Adam(),\n",
        "                          metrics=[\"accuracy\"])"
      ]
    },
    {
      "cell_type": "code",
      "execution_count": null,
      "metadata": {
        "colab": {
          "base_uri": "https://localhost:8080/"
        },
        "id": "umdW_NmdEWfZ",
        "outputId": "afaf546e-e5d4-47d0-bf5e-2a371ccd9b96"
      },
      "outputs": [
        {
          "output_type": "stream",
          "name": "stdout",
          "text": [
            "Saving TensorBoard log files to : tensorflow_hub/efficientnet_b0/20220503-122056\n",
            "Epoch 1/5\n",
            "24/24 [==============================] - 154s 6s/step - loss: 1.8848 - accuracy: 0.4213 - val_loss: 1.3155 - val_accuracy: 0.7328\n",
            "Epoch 2/5\n",
            "24/24 [==============================] - 142s 6s/step - loss: 1.0838 - accuracy: 0.7600 - val_loss: 0.8655 - val_accuracy: 0.8336\n"
          ]
        }
      ],
      "source": [
        "# fit the model\n",
        "efficient_net_history = efficientnet_model.fit(train_data_10_percent,\n",
        "                      epochs=EPOCH,\n",
        "                      steps_per_epoch = len(train_data_10_percent),\n",
        "                      validation_data = test_data_10_percent,\n",
        "                      validation_steps = len(test_data_10_percent),\n",
        "                      callbacks=[create_tensorboard_callback(dir_name=\"tensorflow_hub\",experiment_name=\"efficientnet_b0\")])"
      ]
    },
    {
      "cell_type": "code",
      "source": [
        "plot_loss_curve(efficient_net_history)"
      ],
      "metadata": {
        "id": "9DNd2zZQE8qq"
      },
      "execution_count": null,
      "outputs": []
    },
    {
      "cell_type": "code",
      "source": [
        "# check two model summary\n",
        "resnet_model.summary()"
      ],
      "metadata": {
        "id": "JLFYgkHZGoVb"
      },
      "execution_count": null,
      "outputs": []
    },
    {
      "cell_type": "code",
      "source": [
        "efficientnet_model.summary()"
      ],
      "metadata": {
        "id": "d81cbBHQGyFr"
      },
      "execution_count": null,
      "outputs": []
    },
    {
      "cell_type": "markdown",
      "source": [
        "### predict our custom image"
      ],
      "metadata": {
        "id": "MKpj5vXWOoMO"
      }
    },
    {
      "cell_type": "code",
      "source": [
        "# Create a function to import an image and resize it to be able to be used with our model\n",
        "def load_and_prep_image(filename, img_shape=224):\n",
        "  \"\"\"\n",
        "  Reads an image from filename, turns it into a tensor\n",
        "  and reshapes it to (img_shape, img_shape, colour_channel).\n",
        "  \"\"\"\n",
        "  # Read in target file (an image)\n",
        "  img = tf.io.read_file(filename)\n",
        "\n",
        "  # Decode the read file into a tensor & ensure 3 colour channels \n",
        "  # (our model is trained on images with 3 colour channels and sometimes images have 4 colour channels)\n",
        "  img = tf.image.decode_image(img, channels=3)\n",
        "\n",
        "  # Resize the image (to the same size our model was trained on)\n",
        "  img = tf.image.resize(img, size = [img_shape, img_shape])\n",
        "\n",
        "  # Rescale the image (get all values between 0 and 1)\n",
        "  img = img/255.\n",
        "  return img\n"
      ],
      "metadata": {
        "id": "4emHLvpPG1ig"
      },
      "execution_count": null,
      "outputs": []
    },
    {
      "cell_type": "code",
      "source": [
        "# Adjust function to work with multi-class\n",
        "def pred_and_plot(model, filename, class_names):\n",
        "  \"\"\"\n",
        "  Imports an image located at filename, makes a prediction on it with\n",
        "  a trained model and plots the image with the predicted class as the title.\n",
        "  \"\"\"\n",
        "  # Import the target image and preprocess it\n",
        "  img = load_and_prep_image(filename)\n",
        "\n",
        "  # Make a prediction\n",
        "  pred = model.predict(tf.expand_dims(img, axis=0))\n",
        "\n",
        "  # Get the predicted class\n",
        "  if len(pred[0]) > 1: # check for multi-class\n",
        "    pred_class = class_names[pred.argmax()] # if more than one output, take the max\n",
        "  else:\n",
        "    pred_class = class_names[int(tf.round(pred)[0][0])] # if only one output, round\n",
        "\n",
        "  # Plot the image and predicted class\n",
        "  plt.imshow(img)\n",
        "  plt.title(f\"Prediction: {pred_class}\")\n",
        "  plt.axis(False);"
      ],
      "metadata": {
        "id": "kz1wNDJrOs-V"
      },
      "execution_count": null,
      "outputs": []
    },
    {
      "cell_type": "code",
      "source": [
        "pizza = load_and_prep_image(filename=\"drive/MyDrive/04_transfer_learning_model_prediction_image/pizza_image.jpg\")\n",
        "pizza.shape"
      ],
      "metadata": {
        "id": "JTKnsXKyJdAj"
      },
      "execution_count": null,
      "outputs": []
    },
    {
      "cell_type": "code",
      "source": [
        "# first see resnet  model predication\n",
        "pred_and_plot(resnet_model,filename=\"drive/MyDrive/04_transfer_learning_model_prediction_image/pizza_image.jpg\",class_names=class_names)"
      ],
      "metadata": {
        "id": "no8kWMaSJwqx"
      },
      "execution_count": null,
      "outputs": []
    },
    {
      "cell_type": "code",
      "source": [
        "class_names"
      ],
      "metadata": {
        "id": "_JARIDSGPDQF"
      },
      "execution_count": null,
      "outputs": []
    },
    {
      "cell_type": "code",
      "source": [
        "pred_and_plot(efficientnet_model,filename=\"drive/MyDrive/04_transfer_learning_model_prediction_image/pizza_image.jpg\",class_names=class_names)"
      ],
      "metadata": {
        "id": "U1-BVkC9PNVa"
      },
      "execution_count": null,
      "outputs": []
    },
    {
      "cell_type": "markdown",
      "source": [
        "### Different type of transfer learning.\n",
        "\n",
        "* **\"As is\"** Transfer learning  - using as existing model with no changes so ever (e.g using ImageNet model on  1000 ImageNet classes ,none of won\n",
        "* ** \"Feature Extrection \"** Transfer learning  - Using prealearned pattern of an a existing model (e.g EfficientNetB0 trained on ImageNet ) and adjust the output layer for  your won problem (e.g 1000 classes > 10 classes food)\n",
        "* **Fine-tunning** Transfer Learning - use the prelearned patterns of an existing model and \"fine-tune\" many or all of the underlying layers (including new output layers)\n",
        "                                                                    "
      ],
      "metadata": {
        "id": "ZLWRc-MPPhaP"
      }
    },
    {
      "cell_type": "markdown",
      "source": [
        "### Comparing our model result using **(TensorBoard)**"
      ],
      "metadata": {
        "id": "RajM6lucbVtr"
      }
    },
    {
      "cell_type": "markdown",
      "source": [
        " > **🔑Note**: When you upload things to TensorBoard.dev, you experiments are public. So if you're running private experiments (things you don't want others to see) do not upload them to [TensorBoard.dev](https://tensorboard.dev/)."
      ],
      "metadata": {
        "id": "OlFyEickboC9"
      }
    },
    {
      "cell_type": "code",
      "source": [
        "# Upload TensorBoard dev records\n",
        "!tensorboard dev upload --logdir ./tensorflow_hub/ \\\n",
        "  --name \"EfficientNetB0 vs. ResNet50V2\" \\\n",
        "  --description \"Comparing two different TF Hub feature extraction model architectures using 10% of the training data\" \\\n",
        "  --one_shot"
      ],
      "metadata": {
        "id": "bCrfWqib0zkz"
      },
      "execution_count": null,
      "outputs": []
    },
    {
      "cell_type": "code",
      "source": [
        ""
      ],
      "metadata": {
        "id": "vbtWdcFZ1RM-"
      },
      "execution_count": null,
      "outputs": []
    }
  ],
  "metadata": {
    "colab": {
      "collapsed_sections": [],
      "name": "04_transfer_learning_tesorflow_part1_feature_extension1.ipynb",
      "provenance": []
    },
    "kernelspec": {
      "display_name": "saturn (Python 3)",
      "language": "python",
      "name": "python3"
    },
    "language_info": {
      "codemirror_mode": {
        "name": "ipython",
        "version": 3
      },
      "file_extension": ".py",
      "mimetype": "text/x-python",
      "name": "python",
      "nbconvert_exporter": "python",
      "pygments_lexer": "ipython3",
      "version": "3.9.12"
    }
  },
  "nbformat": 4,
  "nbformat_minor": 0
}