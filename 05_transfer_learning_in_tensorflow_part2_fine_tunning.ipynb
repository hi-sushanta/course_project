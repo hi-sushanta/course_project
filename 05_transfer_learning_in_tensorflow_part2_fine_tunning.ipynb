{
  "cells": [
    {
      "cell_type": "markdown",
      "metadata": {
        "id": "OmJLFyDwQ6X1"
      },
      "source": [
        "# Transfer Learning with TensorFlow Part 2 : Fine-Tunning\n",
        "In the previous note learn to transfer learning feature extrection and this note book learn transfer learning differnt part Fine-Tunning\n"
      ]
    },
    {
      "cell_type": "code",
      "execution_count": null,
      "metadata": {
        "colab": {
          "base_uri": "https://localhost:8080/"
        },
        "id": "ORCsMtZDTm_J",
        "outputId": "7db6f5b1-b5c2-4416-fbc6-38d66d16dcbb"
      },
      "outputs": [
        {
          "output_type": "stream",
          "name": "stdout",
          "text": [
            "--2022-05-08 14:16:22--  https://raw.githubusercontent.com/iamzen24/course_project/main/halper_function.py\n",
            "Resolving raw.githubusercontent.com (raw.githubusercontent.com)... 185.199.108.133, 185.199.109.133, 185.199.110.133, ...\n",
            "Connecting to raw.githubusercontent.com (raw.githubusercontent.com)|185.199.108.133|:443... connected.\n",
            "HTTP request sent, awaiting response... 200 OK\n",
            "Length: 10235 (10.0K) [text/plain]\n",
            "Saving to: ‘halper_function.py’\n",
            "\n",
            "\rhalper_function.py    0%[                    ]       0  --.-KB/s               \rhalper_function.py  100%[===================>]  10.00K  --.-KB/s    in 0s      \n",
            "\n",
            "2022-05-08 14:16:22 (77.1 MB/s) - ‘halper_function.py’ saved [10235/10235]\n",
            "\n"
          ]
        }
      ],
      "source": [
        "!wget \"https://raw.githubusercontent.com/iamzen24/course_project/main/halper_function.py\""
      ]
    },
    {
      "cell_type": "code",
      "execution_count": null,
      "metadata": {
        "id": "sQVjsW1PUR3q"
      },
      "outputs": [],
      "source": [
        "from halper_function import plot_loss_curves,load_and_prep_image,create_tensorboard_callback,unzip_data,walk_through_dir"
      ]
    },
    {
      "cell_type": "markdown",
      "metadata": {
        "id": "RA_rVbhNUcVX"
      },
      "source": [
        "> **🔑Note:**  If you're running this notebook in Google Colab, when it times out Colab will delete helper_functions.py, so you'll have to redownload it if you want access to your helper functions.\n",
        "\n"
      ]
    },
    {
      "cell_type": "markdown",
      "metadata": {
        "id": "t73Sj-PLCwt1"
      },
      "source": [
        "# Let's more data\n",
        "This time we're going to see how we can use pretrained model using `tf.keras.applications` and apply them our won problem (food recogines.)\n",
        "tensorflow aplication link is :https://www.tensorflow.org/api_docs/python/tf/keras/applications "
      ]
    },
    {
      "cell_type": "code",
      "execution_count": null,
      "metadata": {
        "colab": {
          "base_uri": "https://localhost:8080/"
        },
        "id": "BV-IEddlDwA1",
        "outputId": "6fb6469d-ea48-4b90-a376-4d7ece72f44c"
      },
      "outputs": [
        {
          "output_type": "stream",
          "name": "stdout",
          "text": [
            "--2022-05-08 14:16:32--  https://storage.googleapis.com/ztm_tf_course/food_vision/10_food_classes_10_percent.zip\n",
            "Resolving storage.googleapis.com (storage.googleapis.com)... 173.194.76.128, 142.251.5.128, 2a00:1450:400c:c1b::80, ...\n",
            "Connecting to storage.googleapis.com (storage.googleapis.com)|173.194.76.128|:443... connected.\n",
            "HTTP request sent, awaiting response... 200 OK\n",
            "Length: 168546183 (161M) [application/zip]\n",
            "Saving to: ‘10_food_classes_10_percent.zip’\n",
            "\n",
            "10_food_classes_10_ 100%[===================>] 160.74M  55.2MB/s    in 2.9s    \n",
            "\n",
            "2022-05-08 14:16:36 (55.2 MB/s) - ‘10_food_classes_10_percent.zip’ saved [168546183/168546183]\n",
            "\n"
          ]
        }
      ],
      "source": [
        "# download data unzip data\n",
        "!wget \"https://storage.googleapis.com/ztm_tf_course/food_vision/10_food_classes_10_percent.zip\"\n",
        "\n",
        "unzip_data(filename=\"10_food_classes_10_percent.zip\")"
      ]
    },
    {
      "cell_type": "code",
      "execution_count": null,
      "metadata": {
        "colab": {
          "base_uri": "https://localhost:8080/"
        },
        "id": "Mg0Rz6AoFCv3",
        "outputId": "82dbcd27-2d83-45b7-8546-49d15ae0339b"
      },
      "outputs": [
        {
          "output_type": "stream",
          "name": "stdout",
          "text": [
            "There are 2 directories and 0 images in '10_food_classes_10_percent'.\n",
            "There are 10 directories and 0 images in '10_food_classes_10_percent/test'.\n",
            "There are 0 directories and 250 images in '10_food_classes_10_percent/test/chicken_curry'.\n",
            "There are 0 directories and 250 images in '10_food_classes_10_percent/test/fried_rice'.\n",
            "There are 0 directories and 250 images in '10_food_classes_10_percent/test/ramen'.\n",
            "There are 0 directories and 250 images in '10_food_classes_10_percent/test/pizza'.\n",
            "There are 0 directories and 250 images in '10_food_classes_10_percent/test/steak'.\n",
            "There are 0 directories and 250 images in '10_food_classes_10_percent/test/sushi'.\n",
            "There are 0 directories and 250 images in '10_food_classes_10_percent/test/hamburger'.\n",
            "There are 0 directories and 250 images in '10_food_classes_10_percent/test/chicken_wings'.\n",
            "There are 0 directories and 250 images in '10_food_classes_10_percent/test/grilled_salmon'.\n",
            "There are 0 directories and 250 images in '10_food_classes_10_percent/test/ice_cream'.\n",
            "There are 10 directories and 0 images in '10_food_classes_10_percent/train'.\n",
            "There are 0 directories and 75 images in '10_food_classes_10_percent/train/chicken_curry'.\n",
            "There are 0 directories and 75 images in '10_food_classes_10_percent/train/fried_rice'.\n",
            "There are 0 directories and 75 images in '10_food_classes_10_percent/train/ramen'.\n",
            "There are 0 directories and 75 images in '10_food_classes_10_percent/train/pizza'.\n",
            "There are 0 directories and 75 images in '10_food_classes_10_percent/train/steak'.\n",
            "There are 0 directories and 75 images in '10_food_classes_10_percent/train/sushi'.\n",
            "There are 0 directories and 75 images in '10_food_classes_10_percent/train/hamburger'.\n",
            "There are 0 directories and 75 images in '10_food_classes_10_percent/train/chicken_wings'.\n",
            "There are 0 directories and 75 images in '10_food_classes_10_percent/train/grilled_salmon'.\n",
            "There are 0 directories and 75 images in '10_food_classes_10_percent/train/ice_cream'.\n"
          ]
        }
      ],
      "source": [
        "# check out how many directory are how many image have each of this\n",
        "walk_through_dir(dir_path=\"10_food_classes_10_percent\")"
      ]
    },
    {
      "cell_type": "code",
      "execution_count": null,
      "metadata": {
        "id": "FRyljql6FUP9"
      },
      "outputs": [],
      "source": [
        "# setup train and test directory path\n",
        "train_dir = \"10_food_classes_10_percent/train/\"\n",
        "test_dir = \"10_food_classes_10_percent/test/\""
      ]
    },
    {
      "cell_type": "code",
      "execution_count": null,
      "metadata": {
        "colab": {
          "base_uri": "https://localhost:8080/"
        },
        "id": "FqpNFkb4IjSb",
        "outputId": "70991808-db40-4399-efcf-27dbb87e5b3b"
      },
      "outputs": [
        {
          "output_type": "stream",
          "name": "stdout",
          "text": [
            "Found 750 files belonging to 10 classes.\n",
            "Found 750 files belonging to 10 classes.\n"
          ]
        }
      ],
      "source": [
        "import tensorflow as tf  \n",
        "IMG_SIZE = (224,224)\n",
        "BATCH_SIZE = 32\n",
        "\n",
        "train_data_10_percent = tf.keras.preprocessing.image_dataset_from_directory(directory=train_dir,\n",
        "                                                                            image_size=IMG_SIZE,\n",
        "                                                                            batch_size=BATCH_SIZE,\n",
        "                                                                            label_mode=\"categorical\")\n",
        "test_data = tf.keras.preprocessing.image_dataset_from_directory(directory=train_dir,\n",
        "                                                                image_size=IMG_SIZE,\n",
        "                                                                batch_size=BATCH_SIZE,\n",
        "                                                                label_mode=\"categorical\")\n"
      ]
    },
    {
      "cell_type": "code",
      "execution_count": null,
      "metadata": {
        "colab": {
          "base_uri": "https://localhost:8080/"
        },
        "id": "D4wGZRdcLH30",
        "outputId": "b6624b92-5460-4ce1-a098-c7ad5d600408"
      },
      "outputs": [
        {
          "output_type": "execute_result",
          "data": {
            "text/plain": [
              "<BatchDataset element_spec=(TensorSpec(shape=(None, 224, 224, 3), dtype=tf.float32, name=None), TensorSpec(shape=(None, 10), dtype=tf.float32, name=None))>"
            ]
          },
          "metadata": {},
          "execution_count": 16
        }
      ],
      "source": [
        "train_data_10_percent"
      ]
    },
    {
      "cell_type": "code",
      "execution_count": null,
      "metadata": {
        "colab": {
          "base_uri": "https://localhost:8080/"
        },
        "id": "jPU0WDK-LKiR",
        "outputId": "aa873a52-7988-44d5-b4a4-c8fa4a5d3569"
      },
      "outputs": [
        {
          "output_type": "execute_result",
          "data": {
            "text/plain": [
              "['chicken_curry',\n",
              " 'chicken_wings',\n",
              " 'fried_rice',\n",
              " 'grilled_salmon',\n",
              " 'hamburger',\n",
              " 'ice_cream',\n",
              " 'pizza',\n",
              " 'ramen',\n",
              " 'steak',\n",
              " 'sushi']"
            ]
          },
          "metadata": {},
          "execution_count": 17
        }
      ],
      "source": [
        "# check out class names our dataset\n",
        "train_data_10_percent.class_names"
      ]
    },
    {
      "cell_type": "code",
      "execution_count": null,
      "metadata": {
        "colab": {
          "base_uri": "https://localhost:8080/"
        },
        "id": "KSqVyR_FLXpF",
        "outputId": "10d04d79-514f-4c3a-a818-566bf8cb240a"
      },
      "outputs": [
        {
          "output_type": "stream",
          "name": "stdout",
          "text": [
            "tf.Tensor(\n",
            "[[[[5.59591827e+01 3.93163261e+01 1.33163271e+01]\n",
            "   [5.34489784e+01 3.61632652e+01 1.18061228e+01]\n",
            "   [5.48622475e+01 3.55000000e+01 1.35000010e+01]\n",
            "   ...\n",
            "   [1.44091782e+02 1.33096939e+02 1.59372574e+02]\n",
            "   [1.19152679e+02 1.17530312e+02 1.64790710e+02]\n",
            "   [1.64474274e+02 1.71275269e+02 2.31632401e+02]]\n",
            "\n",
            "  [[6.28571434e+01 3.71428566e+01 1.40714283e+01]\n",
            "   [6.29285736e+01 3.62857132e+01 1.51428566e+01]\n",
            "   [6.54846954e+01 3.79438744e+01 1.68571434e+01]\n",
            "   ...\n",
            "   [1.17607307e+02 1.04979813e+02 1.20479897e+02]\n",
            "   [1.50969727e+02 1.47689209e+02 1.78674042e+02]\n",
            "   [1.49780624e+02 1.53852051e+02 1.95469376e+02]]\n",
            "\n",
            "  [[7.05051041e+01 3.75051003e+01 1.85051022e+01]\n",
            "   [6.95000000e+01 3.60714302e+01 1.70714302e+01]\n",
            "   [6.87091827e+01 3.37091827e+01 1.47091837e+01]\n",
            "   ...\n",
            "   [1.17882622e+02 1.01265320e+02 1.10199020e+02]\n",
            "   [1.19336807e+02 1.09464417e+02 1.25081841e+02]\n",
            "   [1.49765228e+02 1.46826447e+02 1.67397858e+02]]\n",
            "\n",
            "  ...\n",
            "\n",
            "  [[4.59897690e+01 3.19897671e+01 5.77550411e+00]\n",
            "   [4.68571663e+01 3.50714302e+01 8.64290047e+00]\n",
            "   [4.73367233e+01 3.55509872e+01 9.12245846e+00]\n",
            "   ...\n",
            "   [5.42861938e+00 5.00003052e+00 5.21432495e+00]\n",
            "   [9.44395065e+00 7.44395065e+00 8.44395065e+00]\n",
            "   [1.12194681e+01 7.64799595e+00 8.64799595e+00]]\n",
            "\n",
            "  [[4.82601967e+01 3.32601967e+01 1.15969429e+01]\n",
            "   [4.39336510e+01 3.19336491e+01 7.93364811e+00]\n",
            "   [4.65561218e+01 3.45561218e+01 1.05561190e+01]\n",
            "   ...\n",
            "   [5.28570557e+00 4.85711670e+00 5.07141113e+00]\n",
            "   [7.71936560e+00 5.71936560e+00 6.71936560e+00]\n",
            "   [9.14282227e+00 5.14282227e+00 6.14282227e+00]]\n",
            "\n",
            "  [[4.15253029e+01 2.65253029e+01 5.52530336e+00]\n",
            "   [4.03570747e+01 2.83570728e+01 6.35707283e+00]\n",
            "   [4.22957954e+01 3.02957935e+01 8.29579353e+00]\n",
            "   ...\n",
            "   [4.64801359e+00 2.64801335e+00 3.64801335e+00]\n",
            "   [6.64294434e+00 4.64294434e+00 5.64294434e+00]\n",
            "   [7.84192038e+00 3.84192061e+00 4.84192038e+00]]]\n",
            "\n",
            "\n",
            " [[[1.72469391e+02 1.86469391e+02 1.87469391e+02]\n",
            "   [1.72382660e+02 1.86382660e+02 1.89382660e+02]\n",
            "   [1.72372452e+02 1.86158173e+02 1.89801025e+02]\n",
            "   ...\n",
            "   [1.96071381e+02 2.14071381e+02 1.92071381e+02]\n",
            "   [1.96357162e+02 2.14357162e+02 1.92357162e+02]\n",
            "   [1.95928543e+02 2.13928543e+02 1.91928543e+02]]\n",
            "\n",
            "  [[1.70704086e+02 1.84704086e+02 1.85704086e+02]\n",
            "   [1.76112244e+02 1.90112244e+02 1.91112244e+02]\n",
            "   [1.68938766e+02 1.82938766e+02 1.85938766e+02]\n",
            "   ...\n",
            "   [1.93673508e+02 2.11673508e+02 1.89673508e+02]\n",
            "   [1.95071426e+02 2.12071426e+02 1.93071426e+02]\n",
            "   [1.94045914e+02 2.11045914e+02 1.92045914e+02]]\n",
            "\n",
            "  [[1.57295914e+02 1.69295914e+02 1.66867340e+02]\n",
            "   [1.53969391e+02 1.65969391e+02 1.65397949e+02]\n",
            "   [1.64311218e+02 1.76311218e+02 1.75882645e+02]\n",
            "   ...\n",
            "   [1.94357193e+02 2.11525543e+02 1.92020493e+02]\n",
            "   [1.95658173e+02 2.12658173e+02 1.93872467e+02]\n",
            "   [1.98433716e+02 2.15433716e+02 1.96647995e+02]]\n",
            "\n",
            "  ...\n",
            "\n",
            "  [[2.37989838e+02 2.50775574e+02 2.41561310e+02]\n",
            "   [2.37857162e+02 2.49428635e+02 2.39642899e+02]\n",
            "   [2.35449020e+02 2.46591919e+02 2.34974548e+02]\n",
            "   ...\n",
            "   [2.08714417e+02 2.23714417e+02 2.04285889e+02]\n",
            "   [2.15443954e+02 2.29658218e+02 2.12229691e+02]\n",
            "   [2.17571472e+02 2.31785736e+02 2.14357208e+02]]\n",
            "\n",
            "  [[2.32948975e+02 2.45948975e+02 2.36948975e+02]\n",
            "   [2.34933670e+02 2.47933670e+02 2.38933670e+02]\n",
            "   [2.34959183e+02 2.47744904e+02 2.37801025e+02]\n",
            "   ...\n",
            "   [2.16943924e+02 2.30943924e+02 2.13943924e+02]\n",
            "   [2.21423553e+02 2.35423553e+02 2.18423553e+02]\n",
            "   [2.28785797e+02 2.42785797e+02 2.27785797e+02]]\n",
            "\n",
            "  [[2.30571426e+02 2.45571426e+02 2.38571426e+02]\n",
            "   [2.37025513e+02 2.50025513e+02 2.41025513e+02]\n",
            "   [2.32005035e+02 2.44576462e+02 2.35790756e+02]\n",
            "   ...\n",
            "   [2.25280838e+02 2.39280838e+02 2.23852310e+02]\n",
            "   [2.28806290e+02 2.42806290e+02 2.27806290e+02]\n",
            "   [2.28872421e+02 2.42872421e+02 2.27872421e+02]]]\n",
            "\n",
            "\n",
            " [[[1.43198990e+02 1.03198982e+02 5.29132652e+01]\n",
            "   [1.52214279e+02 1.07000000e+02 6.51938782e+01]\n",
            "   [1.56571426e+02 1.07000000e+02 7.10816345e+01]\n",
            "   ...\n",
            "   [7.21940804e+00 1.61576523e+02 1.65790817e+02]\n",
            "   [8.14283943e+00 1.60142838e+02 1.65142838e+02]\n",
            "   [1.05969391e+01 1.57596939e+02 1.65596939e+02]]\n",
            "\n",
            "  [[1.45357147e+02 1.05357147e+02 5.50714264e+01]\n",
            "   [1.53938782e+02 1.09852043e+02 6.51428604e+01]\n",
            "   [1.56372452e+02 1.07397964e+02 6.96683655e+01]\n",
            "   ...\n",
            "   [7.52553511e+00 1.62612228e+02 1.62637772e+02]\n",
            "   [1.06428757e+01 1.62642883e+02 1.65642883e+02]\n",
            "   [1.81173382e+01 1.66045914e+02 1.70260193e+02]]\n",
            "\n",
            "  [[1.46923477e+02 1.05933670e+02 5.74285698e+01]\n",
            "   [1.54142853e+02 1.09928574e+02 6.51428604e+01]\n",
            "   [1.57571426e+02 1.09000000e+02 6.85714264e+01]\n",
            "   ...\n",
            "   [6.40822887e+00 1.61933716e+02 1.57811279e+02]\n",
            "   [1.51429090e+01 1.68142914e+02 1.65928619e+02]\n",
            "   [1.37142944e+01 1.62704102e+02 1.61994904e+02]]\n",
            "\n",
            "  ...\n",
            "\n",
            "  [[1.28321457e+02 1.22250008e+02 9.43213959e+01]\n",
            "   [1.28408127e+02 1.21637695e+02 9.39641876e+01]\n",
            "   [1.27357224e+02 1.20785759e+02 9.17857590e+01]\n",
            "   ...\n",
            "   [1.03954117e+02 9.16938782e+01 3.10510521e+01]\n",
            "   [1.04770432e+02 9.05714722e+01 2.72857666e+01]\n",
            "   [1.10928558e+02 9.50051422e+01 3.07857971e+01]]\n",
            "\n",
            "  [[1.25285698e+02 1.16285698e+02 8.72856979e+01]\n",
            "   [1.27561302e+02 1.18285767e+02 8.74235306e+01]\n",
            "   [1.25438698e+02 1.14326431e+02 8.42141647e+01]\n",
            "   ...\n",
            "   [1.03770393e+02 9.33418045e+01 3.41581306e+01]\n",
            "   [1.01999969e+02 9.08622208e+01 2.91479244e+01]\n",
            "   [1.07857117e+02 9.38571167e+01 3.28571167e+01]]\n",
            "\n",
            "  [[1.23831528e+02 1.12831528e+02 8.48315277e+01]\n",
            "   [1.23810699e+02 1.09810707e+02 8.08107071e+01]\n",
            "   [1.20841881e+02 1.06056168e+02 7.54847412e+01]\n",
            "   ...\n",
            "   [1.05010139e+02 9.48621826e+01 3.60764809e+01]\n",
            "   [1.03071411e+02 9.10714111e+01 3.12142334e+01]\n",
            "   [1.09515320e+02 9.55153198e+01 3.45153198e+01]]]\n",
            "\n",
            "\n",
            " ...\n",
            "\n",
            "\n",
            " [[[6.35714293e+00 1.35714281e+00 0.00000000e+00]\n",
            "   [5.00000000e+00 1.00000000e+00 0.00000000e+00]\n",
            "   [5.14285660e+00 1.78571415e+00 0.00000000e+00]\n",
            "   ...\n",
            "   [5.79596806e+00 1.42345536e+00 0.00000000e+00]\n",
            "   [1.05714674e+01 6.88783884e-01 0.00000000e+00]\n",
            "   [1.63571777e+01 2.00003481e+00 0.00000000e+00]]\n",
            "\n",
            "  [[6.35714293e+00 1.35714281e+00 0.00000000e+00]\n",
            "   [5.00000000e+00 1.00000000e+00 0.00000000e+00]\n",
            "   [5.14285660e+00 1.78571415e+00 0.00000000e+00]\n",
            "   ...\n",
            "   [8.67353153e+00 3.41816425e-01 0.00000000e+00]\n",
            "   [1.57806635e+01 2.85727262e-01 5.10297250e-03]\n",
            "   [2.18316650e+01 2.47452211e+00 9.18317065e-02]]\n",
            "\n",
            "  [[6.35714293e+00 1.35714281e+00 0.00000000e+00]\n",
            "   [5.00000000e+00 1.00000000e+00 0.00000000e+00]\n",
            "   [5.14285660e+00 1.78571415e+00 0.00000000e+00]\n",
            "   ...\n",
            "   [1.85664005e+01 2.78571439e+00 6.17364168e-01]\n",
            "   [2.68724785e+01 3.85715604e+00 1.53060496e+00]\n",
            "   [3.22092133e+01 4.78571415e+00 1.56628418e+00]]\n",
            "\n",
            "  ...\n",
            "\n",
            "  [[1.78570557e+00 3.21429443e+00 0.00000000e+00]\n",
            "   [1.07142830e+00 2.07142830e+00 0.00000000e+00]\n",
            "   [1.16836560e+00 1.61733997e+00 0.00000000e+00]\n",
            "   ...\n",
            "   [1.63572083e+01 3.00000000e+00 1.44897830e+00]\n",
            "   [1.82296352e+01 1.58192843e-01 0.00000000e+00]\n",
            "   [3.07247372e+01 9.57165527e+00 4.49511385e+00]]\n",
            "\n",
            "  [[1.00000000e+00 4.00000000e+00 0.00000000e+00]\n",
            "   [1.00510073e+00 2.00510073e+00 0.00000000e+00]\n",
            "   [1.00000000e+00 1.00000000e+00 0.00000000e+00]\n",
            "   ...\n",
            "   [1.67551346e+01 2.07141113e+00 1.53008290e-02]\n",
            "   [2.10715332e+01 2.00516272e+00 0.00000000e+00]\n",
            "   [3.46481743e+01 1.17399836e+01 5.78588867e+00]]\n",
            "\n",
            "  [[0.00000000e+00 1.35714722e+00 0.00000000e+00]\n",
            "   [0.00000000e+00 2.00000000e+00 0.00000000e+00]\n",
            "   [1.93367028e+00 1.50509858e+00 1.99489284e+00]\n",
            "   ...\n",
            "   [1.62908478e+01 4.94887382e-01 0.00000000e+00]\n",
            "   [2.35969868e+01 3.33169317e+00 4.59264629e-02]\n",
            "   [3.38419189e+01 1.08419209e+01 4.84192038e+00]]]\n",
            "\n",
            "\n",
            " [[[1.05357147e+02 2.83571415e+01 8.41836751e-01]\n",
            "   [1.13882660e+02 3.74795914e+01 6.33673477e+00]\n",
            "   [1.16642860e+02 4.57142868e+01 6.71938944e+00]\n",
            "   ...\n",
            "   [6.92804031e+01 1.62805767e+01 5.97955751e+00]\n",
            "   [5.49234543e+01 1.17806244e+01 3.77554774e-01]\n",
            "   [5.39745216e+01 1.42296495e+01 2.10208559e+00]]\n",
            "\n",
            "  [[1.02071426e+02 2.40714302e+01 1.28571439e+00]\n",
            "   [1.11714287e+02 3.45765305e+01 8.99489784e+00]\n",
            "   [1.17530609e+02 4.56020432e+01 9.94387913e+00]\n",
            "   ...\n",
            "   [6.19284630e+01 1.41428566e+01 4.00002193e+00]\n",
            "   [5.29183540e+01 1.50714149e+01 3.99998689e+00]\n",
            "   [5.06173096e+01 1.34745226e+01 2.07142854e+00]]\n",
            "\n",
            "  [[1.03214287e+02 2.44285736e+01 8.35714340e+00]\n",
            "   [1.09969391e+02 3.19132652e+01 9.99489689e+00]\n",
            "   [1.12454079e+02 3.95714302e+01 8.85714436e+00]\n",
            "   ...\n",
            "   [5.78825264e+01 1.77397785e+01 8.69386578e+00]\n",
            "   [4.97550812e+01 1.54693947e+01 4.98469114e+00]\n",
            "   [4.97805710e+01 1.60663548e+01 5.35714340e+00]]\n",
            "\n",
            "  ...\n",
            "\n",
            "  [[1.23000000e+02 8.00000000e+00 2.57141113e+00]\n",
            "   [1.27841843e+02 1.28418369e+01 7.41324806e+00]\n",
            "   [1.24954079e+02 9.95407963e+00 4.61734867e+00]\n",
            "   ...\n",
            "   [1.08897774e+02 2.90297127e+00 3.06095034e-01]\n",
            "   [9.87856750e+01 5.07144165e+00 3.14288330e+00]\n",
            "   [9.33621826e+01 6.07654142e+00 5.07654142e+00]]\n",
            "\n",
            "  [[1.23331635e+02 8.33163834e+00 1.33163881e+00]\n",
            "   [1.26923454e+02 1.19234533e+01 4.92345381e+00]\n",
            "   [1.24785713e+02 9.78571415e+00 4.78571415e+00]\n",
            "   ...\n",
            "   [1.12754860e+02 3.86717200e+00 1.43864405e+00]\n",
            "   [9.87856750e+01 4.20919275e+00 2.28063440e+00]\n",
            "   [9.42397385e+01 6.95409536e+00 5.95409536e+00]]\n",
            "\n",
            "  [[1.23943878e+02 8.94387627e+00 1.94387579e+00]\n",
            "   [1.25811226e+02 1.08112259e+01 3.81122541e+00]\n",
            "   [1.24785713e+02 9.78571415e+00 4.78571415e+00]\n",
            "   ...\n",
            "   [1.20351639e+02 1.07752056e+01 7.56094170e+00]\n",
            "   [9.93825989e+01 4.73980951e+00 2.81125116e+00]\n",
            "   [9.26428223e+01 7.35717773e+00 6.00000000e+00]]]\n",
            "\n",
            "\n",
            " [[[4.58265305e+01 3.38265305e+01 7.82653046e+00]\n",
            "   [5.76173515e+01 4.56173515e+01 1.96173477e+01]\n",
            "   [6.03571434e+01 4.59285698e+01 1.99285717e+01]\n",
            "   ...\n",
            "   [2.54724518e+02 2.51066406e+02 1.71918671e+02]\n",
            "   [2.53918350e+02 2.50178604e+02 1.87653183e+02]\n",
            "   [2.53852005e+02 2.53622421e+02 2.01260269e+02]]\n",
            "\n",
            "  [[3.74795914e+01 2.54795895e+01 1.46938717e+00]\n",
            "   [5.77142868e+01 4.37142868e+01 1.77142868e+01]\n",
            "   [6.19132652e+01 4.74846916e+01 2.06989784e+01]\n",
            "   ...\n",
            "   [2.54984695e+02 2.54285767e+02 1.66928879e+02]\n",
            "   [2.51086746e+02 2.51020432e+02 1.89459305e+02]\n",
            "   [2.51295822e+02 2.53535660e+02 2.04484741e+02]]\n",
            "\n",
            "  [[5.62193909e+01 4.05102081e+01 1.22908173e+01]\n",
            "   [6.20612259e+01 4.58469391e+01 1.94183674e+01]\n",
            "   [6.05969391e+01 4.42142868e+01 1.77857132e+01]\n",
            "   ...\n",
            "   [2.24862061e+02 2.27311081e+02 1.46780746e+02]\n",
            "   [2.52000000e+02 2.55000000e+02 1.98612350e+02]\n",
            "   [2.48841919e+02 2.54357178e+02 2.10061386e+02]]\n",
            "\n",
            "  ...\n",
            "\n",
            "  [[1.90489761e+02 8.84897690e+01 5.84697580e+00]\n",
            "   [1.82183563e+02 8.01835632e+01 0.00000000e+00]\n",
            "   [1.87882477e+02 8.57141113e+01 3.88252735e+00]\n",
            "   ...\n",
            "   [2.37918549e+02 1.09347076e+02 7.06149530e+00]\n",
            "   [2.45719513e+02 1.14806137e+02 1.32042351e+01]\n",
            "   [2.43729462e+02 1.13015053e+02 1.00866776e+01]]\n",
            "\n",
            "  [[1.81760117e+02 7.86886826e+01 4.06629896e+00]\n",
            "   [1.78704056e+02 7.56326141e+01 8.62232983e-01]\n",
            "   [1.79959183e+02 7.66887589e+01 2.37247801e+00]\n",
            "   ...\n",
            "   [2.25637817e+02 1.12852325e+02 2.24537134e-01]\n",
            "   [2.23760345e+02 1.09974846e+02 6.63377419e-02]\n",
            "   [2.29989838e+02 1.16204346e+02 9.94981110e-01]]\n",
            "\n",
            "  [[1.75540909e+02 7.25409088e+01 4.66850901e+00]\n",
            "   [1.71790726e+02 6.93876266e+01 0.00000000e+00]\n",
            "   [1.72362045e+02 6.93620453e+01 1.56113994e+00]\n",
            "   ...\n",
            "   [2.51051376e+02 1.78745712e+02 2.26024933e+01]\n",
            "   [2.53301041e+02 1.82985352e+02 2.46992111e+01]\n",
            "   [2.37153610e+02 1.63725388e+02 7.27607346e+00]]]], shape=(32, 224, 224, 3), dtype=float32) tf.Tensor(\n",
            "[[0. 0. 0. 0. 1. 0. 0. 0. 0. 0.]\n",
            " [1. 0. 0. 0. 0. 0. 0. 0. 0. 0.]\n",
            " [0. 0. 0. 0. 0. 0. 0. 0. 0. 1.]\n",
            " [1. 0. 0. 0. 0. 0. 0. 0. 0. 0.]\n",
            " [0. 0. 0. 0. 0. 0. 0. 1. 0. 0.]\n",
            " [1. 0. 0. 0. 0. 0. 0. 0. 0. 0.]\n",
            " [0. 0. 0. 1. 0. 0. 0. 0. 0. 0.]\n",
            " [0. 0. 0. 0. 0. 1. 0. 0. 0. 0.]\n",
            " [0. 1. 0. 0. 0. 0. 0. 0. 0. 0.]\n",
            " [0. 0. 1. 0. 0. 0. 0. 0. 0. 0.]\n",
            " [0. 1. 0. 0. 0. 0. 0. 0. 0. 0.]\n",
            " [0. 0. 0. 0. 0. 0. 1. 0. 0. 0.]\n",
            " [0. 0. 0. 0. 0. 0. 1. 0. 0. 0.]\n",
            " [0. 0. 0. 0. 0. 0. 0. 0. 1. 0.]\n",
            " [0. 0. 0. 0. 1. 0. 0. 0. 0. 0.]\n",
            " [0. 0. 0. 0. 0. 1. 0. 0. 0. 0.]\n",
            " [0. 0. 0. 0. 0. 0. 0. 1. 0. 0.]\n",
            " [0. 0. 0. 0. 0. 0. 0. 1. 0. 0.]\n",
            " [0. 1. 0. 0. 0. 0. 0. 0. 0. 0.]\n",
            " [0. 0. 0. 1. 0. 0. 0. 0. 0. 0.]\n",
            " [0. 0. 0. 0. 0. 0. 0. 0. 0. 1.]\n",
            " [0. 0. 0. 0. 0. 0. 1. 0. 0. 0.]\n",
            " [0. 0. 0. 0. 0. 0. 0. 1. 0. 0.]\n",
            " [0. 1. 0. 0. 0. 0. 0. 0. 0. 0.]\n",
            " [0. 0. 0. 0. 0. 0. 0. 1. 0. 0.]\n",
            " [0. 0. 1. 0. 0. 0. 0. 0. 0. 0.]\n",
            " [0. 0. 0. 0. 0. 1. 0. 0. 0. 0.]\n",
            " [0. 0. 0. 0. 1. 0. 0. 0. 0. 0.]\n",
            " [0. 0. 0. 1. 0. 0. 0. 0. 0. 0.]\n",
            " [0. 0. 0. 0. 0. 0. 1. 0. 0. 0.]\n",
            " [0. 0. 0. 1. 0. 0. 0. 0. 0. 0.]\n",
            " [0. 0. 0. 0. 1. 0. 0. 0. 0. 0.]], shape=(32, 10), dtype=float32)\n"
          ]
        }
      ],
      "source": [
        "# see an exmple of a batch of data\n",
        "for image,label in train_data_10_percent.take(1):\n",
        "    print(image,label)"
      ]
    },
    {
      "cell_type": "markdown",
      "metadata": {
        "id": "QY8eKmopTo9c"
      },
      "source": [
        "## model 0 - Build Transfer learning  using tensorflow functional API\n",
        "Sequential api straight-forward it runs our layers in Sequential order\n",
        "Functional api is flaxible our model"
      ]
    },
    {
      "cell_type": "code",
      "execution_count": null,
      "metadata": {
        "colab": {
          "base_uri": "https://localhost:8080/"
        },
        "id": "JRJrFnP-NYO2",
        "outputId": "2dd9bd3e-8aa1-4d38-ba0d-5e6443c67948"
      },
      "outputs": [
        {
          "output_type": "stream",
          "name": "stdout",
          "text": [
            "Downloading data from https://storage.googleapis.com/keras-applications/efficientnetb0_notop.h5\n",
            "16711680/16705208 [==============================] - 0s 0us/step\n",
            "16719872/16705208 [==============================] - 0s 0us/step\n",
            "Shape after pass the  base model: (None, 7, 7, 1280) \n",
            "Shape after pass the averagePooling2D: (None, 1280)\n",
            "Saving TensorBoard log files to: transfer_learning/feature_extraction/20220508-141653\n",
            "Epoch 1/5\n",
            "24/24 [==============================] - 38s 431ms/step - loss: 1.9301 - accuracy: 0.3733 - val_loss: 1.4054 - val_accuracy: 0.6615\n",
            "Epoch 2/5\n",
            "24/24 [==============================] - 7s 262ms/step - loss: 1.1646 - accuracy: 0.7307 - val_loss: 0.9595 - val_accuracy: 0.7969\n",
            "Epoch 3/5\n",
            "24/24 [==============================] - 7s 254ms/step - loss: 0.8541 - accuracy: 0.8040 - val_loss: 0.7809 - val_accuracy: 0.8177\n",
            "Epoch 4/5\n",
            "24/24 [==============================] - 6s 235ms/step - loss: 0.7005 - accuracy: 0.8360 - val_loss: 0.6843 - val_accuracy: 0.8177\n",
            "Epoch 5/5\n",
            "24/24 [==============================] - 7s 259ms/step - loss: 0.6001 - accuracy: 0.8560 - val_loss: 0.5414 - val_accuracy: 0.9219\n"
          ]
        }
      ],
      "source": [
        "# 1. create the model writing functional api type\n",
        "base_model = tf.keras.applications.EfficientNetB0(include_top=False)\n",
        "# 2. Frezze the  base model ( so the underlying pretrained model no changed training time)\n",
        "base_model.trainable = False\n",
        "\n",
        "# 3. input shape our model \n",
        "inputs = tf.keras.Input(shape=(224,224,3),name=\"inputs_layer\")\n",
        "\n",
        "# 4. normailize our data a model Resnet (not important our efficient model alredy rescale process have)\n",
        "# x = tf.keras.experimental.preprocessing.Rescaling(1/255.)(inputs)\n",
        "# 5 pass thorugh input our base model\n",
        "x = base_model(inputs)\n",
        "print(f\"Shape after pass the  base model: {x.shape} \")\n",
        "# 6 Average pool the outputs of the base model (aggregate all the most important infromation, reduce number of computations)\n",
        "x = tf.keras.layers.GlobalAveragePooling2D(name=\"AvaragePooling2D\")(x)\n",
        "print(f\"Shape after pass the averagePooling2D: {x.shape}\")\n",
        "# 7 output shape our model\n",
        "outputs = tf.keras.layers.Dense(10,activation=\"softmax\",name=\"ouput_shape\")(x)\n",
        "# 8 combine input and output our model\n",
        "model_0 = tf.keras.Model(inputs,outputs)\n",
        "# 9 compile the model\n",
        "model_0.compile(loss=tf.keras.losses.CategoricalCrossentropy(),\n",
        "                optimizer=tf.keras.optimizers.Adam(),\n",
        "                metrics=[\"accuracy\"])\n",
        "# 10 fit the model\n",
        "history_10_percent = model_0.fit(train_data_10_percent,\n",
        "                                 epochs=5,\n",
        "                                 steps_per_epoch=len(train_data_10_percent),\n",
        "                                 validation_data=test_data,\n",
        "                                 validation_steps=int(0.25 * len(test_data)),\n",
        "                                 callbacks=[create_tensorboard_callback(\"transfer_learning\",\"feature_extraction\")])"
      ]
    },
    {
      "cell_type": "code",
      "execution_count": null,
      "metadata": {
        "colab": {
          "base_uri": "https://localhost:8080/"
        },
        "id": "z7gYCjc1baI8",
        "outputId": "cc36ffcb-2309-4b99-b7e0-b95e47954f62"
      },
      "outputs": [
        {
          "output_type": "stream",
          "name": "stdout",
          "text": [
            "24/24 [==============================] - 4s 145ms/step - loss: 0.5177 - accuracy: 0.8960\n"
          ]
        },
        {
          "output_type": "execute_result",
          "data": {
            "text/plain": [
              "[0.5176687240600586, 0.8960000276565552]"
            ]
          },
          "metadata": {},
          "execution_count": 20
        }
      ],
      "source": [
        "# evaluate test data\n",
        "model_0.evaluate(test_data)"
      ]
    },
    {
      "cell_type": "code",
      "execution_count": null,
      "metadata": {
        "colab": {
          "base_uri": "https://localhost:8080/"
        },
        "id": "HgXEe6JCf-CW",
        "outputId": "dfdff415-379e-4d8b-cb10-7f5dcdd2efae"
      },
      "outputs": [
        {
          "output_type": "stream",
          "name": "stdout",
          "text": [
            "0 input_1\n",
            "1 rescaling\n",
            "2 normalization\n",
            "3 stem_conv_pad\n",
            "4 stem_conv\n",
            "5 stem_bn\n",
            "6 stem_activation\n",
            "7 block1a_dwconv\n",
            "8 block1a_bn\n",
            "9 block1a_activation\n",
            "10 block1a_se_squeeze\n",
            "11 block1a_se_reshape\n",
            "12 block1a_se_reduce\n",
            "13 block1a_se_expand\n",
            "14 block1a_se_excite\n",
            "15 block1a_project_conv\n",
            "16 block1a_project_bn\n",
            "17 block2a_expand_conv\n",
            "18 block2a_expand_bn\n",
            "19 block2a_expand_activation\n",
            "20 block2a_dwconv_pad\n",
            "21 block2a_dwconv\n",
            "22 block2a_bn\n",
            "23 block2a_activation\n",
            "24 block2a_se_squeeze\n",
            "25 block2a_se_reshape\n",
            "26 block2a_se_reduce\n",
            "27 block2a_se_expand\n",
            "28 block2a_se_excite\n",
            "29 block2a_project_conv\n",
            "30 block2a_project_bn\n",
            "31 block2b_expand_conv\n",
            "32 block2b_expand_bn\n",
            "33 block2b_expand_activation\n",
            "34 block2b_dwconv\n",
            "35 block2b_bn\n",
            "36 block2b_activation\n",
            "37 block2b_se_squeeze\n",
            "38 block2b_se_reshape\n",
            "39 block2b_se_reduce\n",
            "40 block2b_se_expand\n",
            "41 block2b_se_excite\n",
            "42 block2b_project_conv\n",
            "43 block2b_project_bn\n",
            "44 block2b_drop\n",
            "45 block2b_add\n",
            "46 block3a_expand_conv\n",
            "47 block3a_expand_bn\n",
            "48 block3a_expand_activation\n",
            "49 block3a_dwconv_pad\n",
            "50 block3a_dwconv\n",
            "51 block3a_bn\n",
            "52 block3a_activation\n",
            "53 block3a_se_squeeze\n",
            "54 block3a_se_reshape\n",
            "55 block3a_se_reduce\n",
            "56 block3a_se_expand\n",
            "57 block3a_se_excite\n",
            "58 block3a_project_conv\n",
            "59 block3a_project_bn\n",
            "60 block3b_expand_conv\n",
            "61 block3b_expand_bn\n",
            "62 block3b_expand_activation\n",
            "63 block3b_dwconv\n",
            "64 block3b_bn\n",
            "65 block3b_activation\n",
            "66 block3b_se_squeeze\n",
            "67 block3b_se_reshape\n",
            "68 block3b_se_reduce\n",
            "69 block3b_se_expand\n",
            "70 block3b_se_excite\n",
            "71 block3b_project_conv\n",
            "72 block3b_project_bn\n",
            "73 block3b_drop\n",
            "74 block3b_add\n",
            "75 block4a_expand_conv\n",
            "76 block4a_expand_bn\n",
            "77 block4a_expand_activation\n",
            "78 block4a_dwconv_pad\n",
            "79 block4a_dwconv\n",
            "80 block4a_bn\n",
            "81 block4a_activation\n",
            "82 block4a_se_squeeze\n",
            "83 block4a_se_reshape\n",
            "84 block4a_se_reduce\n",
            "85 block4a_se_expand\n",
            "86 block4a_se_excite\n",
            "87 block4a_project_conv\n",
            "88 block4a_project_bn\n",
            "89 block4b_expand_conv\n",
            "90 block4b_expand_bn\n",
            "91 block4b_expand_activation\n",
            "92 block4b_dwconv\n",
            "93 block4b_bn\n",
            "94 block4b_activation\n",
            "95 block4b_se_squeeze\n",
            "96 block4b_se_reshape\n",
            "97 block4b_se_reduce\n",
            "98 block4b_se_expand\n",
            "99 block4b_se_excite\n",
            "100 block4b_project_conv\n",
            "101 block4b_project_bn\n",
            "102 block4b_drop\n",
            "103 block4b_add\n",
            "104 block4c_expand_conv\n",
            "105 block4c_expand_bn\n",
            "106 block4c_expand_activation\n",
            "107 block4c_dwconv\n",
            "108 block4c_bn\n",
            "109 block4c_activation\n",
            "110 block4c_se_squeeze\n",
            "111 block4c_se_reshape\n",
            "112 block4c_se_reduce\n",
            "113 block4c_se_expand\n",
            "114 block4c_se_excite\n",
            "115 block4c_project_conv\n",
            "116 block4c_project_bn\n",
            "117 block4c_drop\n",
            "118 block4c_add\n",
            "119 block5a_expand_conv\n",
            "120 block5a_expand_bn\n",
            "121 block5a_expand_activation\n",
            "122 block5a_dwconv\n",
            "123 block5a_bn\n",
            "124 block5a_activation\n",
            "125 block5a_se_squeeze\n",
            "126 block5a_se_reshape\n",
            "127 block5a_se_reduce\n",
            "128 block5a_se_expand\n",
            "129 block5a_se_excite\n",
            "130 block5a_project_conv\n",
            "131 block5a_project_bn\n",
            "132 block5b_expand_conv\n",
            "133 block5b_expand_bn\n",
            "134 block5b_expand_activation\n",
            "135 block5b_dwconv\n",
            "136 block5b_bn\n",
            "137 block5b_activation\n",
            "138 block5b_se_squeeze\n",
            "139 block5b_se_reshape\n",
            "140 block5b_se_reduce\n",
            "141 block5b_se_expand\n",
            "142 block5b_se_excite\n",
            "143 block5b_project_conv\n",
            "144 block5b_project_bn\n",
            "145 block5b_drop\n",
            "146 block5b_add\n",
            "147 block5c_expand_conv\n",
            "148 block5c_expand_bn\n",
            "149 block5c_expand_activation\n",
            "150 block5c_dwconv\n",
            "151 block5c_bn\n",
            "152 block5c_activation\n",
            "153 block5c_se_squeeze\n",
            "154 block5c_se_reshape\n",
            "155 block5c_se_reduce\n",
            "156 block5c_se_expand\n",
            "157 block5c_se_excite\n",
            "158 block5c_project_conv\n",
            "159 block5c_project_bn\n",
            "160 block5c_drop\n",
            "161 block5c_add\n",
            "162 block6a_expand_conv\n",
            "163 block6a_expand_bn\n",
            "164 block6a_expand_activation\n",
            "165 block6a_dwconv_pad\n",
            "166 block6a_dwconv\n",
            "167 block6a_bn\n",
            "168 block6a_activation\n",
            "169 block6a_se_squeeze\n",
            "170 block6a_se_reshape\n",
            "171 block6a_se_reduce\n",
            "172 block6a_se_expand\n",
            "173 block6a_se_excite\n",
            "174 block6a_project_conv\n",
            "175 block6a_project_bn\n",
            "176 block6b_expand_conv\n",
            "177 block6b_expand_bn\n",
            "178 block6b_expand_activation\n",
            "179 block6b_dwconv\n",
            "180 block6b_bn\n",
            "181 block6b_activation\n",
            "182 block6b_se_squeeze\n",
            "183 block6b_se_reshape\n",
            "184 block6b_se_reduce\n",
            "185 block6b_se_expand\n",
            "186 block6b_se_excite\n",
            "187 block6b_project_conv\n",
            "188 block6b_project_bn\n",
            "189 block6b_drop\n",
            "190 block6b_add\n",
            "191 block6c_expand_conv\n",
            "192 block6c_expand_bn\n",
            "193 block6c_expand_activation\n",
            "194 block6c_dwconv\n",
            "195 block6c_bn\n",
            "196 block6c_activation\n",
            "197 block6c_se_squeeze\n",
            "198 block6c_se_reshape\n",
            "199 block6c_se_reduce\n",
            "200 block6c_se_expand\n",
            "201 block6c_se_excite\n",
            "202 block6c_project_conv\n",
            "203 block6c_project_bn\n",
            "204 block6c_drop\n",
            "205 block6c_add\n",
            "206 block6d_expand_conv\n",
            "207 block6d_expand_bn\n",
            "208 block6d_expand_activation\n",
            "209 block6d_dwconv\n",
            "210 block6d_bn\n",
            "211 block6d_activation\n",
            "212 block6d_se_squeeze\n",
            "213 block6d_se_reshape\n",
            "214 block6d_se_reduce\n",
            "215 block6d_se_expand\n",
            "216 block6d_se_excite\n",
            "217 block6d_project_conv\n",
            "218 block6d_project_bn\n",
            "219 block6d_drop\n",
            "220 block6d_add\n",
            "221 block7a_expand_conv\n",
            "222 block7a_expand_bn\n",
            "223 block7a_expand_activation\n",
            "224 block7a_dwconv\n",
            "225 block7a_bn\n",
            "226 block7a_activation\n",
            "227 block7a_se_squeeze\n",
            "228 block7a_se_reshape\n",
            "229 block7a_se_reduce\n",
            "230 block7a_se_expand\n",
            "231 block7a_se_excite\n",
            "232 block7a_project_conv\n",
            "233 block7a_project_bn\n",
            "234 top_conv\n",
            "235 top_bn\n",
            "236 top_activation\n"
          ]
        }
      ],
      "source": [
        "# check layer our base model\n",
        "for layer_number,layer in enumerate(base_model.layers):\n",
        "    print(layer_number,layer.name)"
      ]
    },
    {
      "cell_type": "code",
      "execution_count": null,
      "metadata": {
        "colab": {
          "base_uri": "https://localhost:8080/"
        },
        "id": "KBITBgu4gUhg",
        "outputId": "2a55545f-15b0-4a78-e533-175e579816be"
      },
      "outputs": [
        {
          "output_type": "stream",
          "name": "stdout",
          "text": [
            "Model: \"efficientnetb0\"\n",
            "__________________________________________________________________________________________________\n",
            " Layer (type)                   Output Shape         Param #     Connected to                     \n",
            "==================================================================================================\n",
            " input_1 (InputLayer)           [(None, None, None,  0           []                               \n",
            "                                 3)]                                                              \n",
            "                                                                                                  \n",
            " rescaling (Rescaling)          (None, None, None,   0           ['input_1[0][0]']                \n",
            "                                3)                                                                \n",
            "                                                                                                  \n",
            " normalization (Normalization)  (None, None, None,   7           ['rescaling[0][0]']              \n",
            "                                3)                                                                \n",
            "                                                                                                  \n",
            " stem_conv_pad (ZeroPadding2D)  (None, None, None,   0           ['normalization[0][0]']          \n",
            "                                3)                                                                \n",
            "                                                                                                  \n",
            " stem_conv (Conv2D)             (None, None, None,   864         ['stem_conv_pad[0][0]']          \n",
            "                                32)                                                               \n",
            "                                                                                                  \n",
            " stem_bn (BatchNormalization)   (None, None, None,   128         ['stem_conv[0][0]']              \n",
            "                                32)                                                               \n",
            "                                                                                                  \n",
            " stem_activation (Activation)   (None, None, None,   0           ['stem_bn[0][0]']                \n",
            "                                32)                                                               \n",
            "                                                                                                  \n",
            " block1a_dwconv (DepthwiseConv2  (None, None, None,   288        ['stem_activation[0][0]']        \n",
            " D)                             32)                                                               \n",
            "                                                                                                  \n",
            " block1a_bn (BatchNormalization  (None, None, None,   128        ['block1a_dwconv[0][0]']         \n",
            " )                              32)                                                               \n",
            "                                                                                                  \n",
            " block1a_activation (Activation  (None, None, None,   0          ['block1a_bn[0][0]']             \n",
            " )                              32)                                                               \n",
            "                                                                                                  \n",
            " block1a_se_squeeze (GlobalAver  (None, 32)          0           ['block1a_activation[0][0]']     \n",
            " agePooling2D)                                                                                    \n",
            "                                                                                                  \n",
            " block1a_se_reshape (Reshape)   (None, 1, 1, 32)     0           ['block1a_se_squeeze[0][0]']     \n",
            "                                                                                                  \n",
            " block1a_se_reduce (Conv2D)     (None, 1, 1, 8)      264         ['block1a_se_reshape[0][0]']     \n",
            "                                                                                                  \n",
            " block1a_se_expand (Conv2D)     (None, 1, 1, 32)     288         ['block1a_se_reduce[0][0]']      \n",
            "                                                                                                  \n",
            " block1a_se_excite (Multiply)   (None, None, None,   0           ['block1a_activation[0][0]',     \n",
            "                                32)                               'block1a_se_expand[0][0]']      \n",
            "                                                                                                  \n",
            " block1a_project_conv (Conv2D)  (None, None, None,   512         ['block1a_se_excite[0][0]']      \n",
            "                                16)                                                               \n",
            "                                                                                                  \n",
            " block1a_project_bn (BatchNorma  (None, None, None,   64         ['block1a_project_conv[0][0]']   \n",
            " lization)                      16)                                                               \n",
            "                                                                                                  \n",
            " block2a_expand_conv (Conv2D)   (None, None, None,   1536        ['block1a_project_bn[0][0]']     \n",
            "                                96)                                                               \n",
            "                                                                                                  \n",
            " block2a_expand_bn (BatchNormal  (None, None, None,   384        ['block2a_expand_conv[0][0]']    \n",
            " ization)                       96)                                                               \n",
            "                                                                                                  \n",
            " block2a_expand_activation (Act  (None, None, None,   0          ['block2a_expand_bn[0][0]']      \n",
            " ivation)                       96)                                                               \n",
            "                                                                                                  \n",
            " block2a_dwconv_pad (ZeroPaddin  (None, None, None,   0          ['block2a_expand_activation[0][0]\n",
            " g2D)                           96)                              ']                               \n",
            "                                                                                                  \n",
            " block2a_dwconv (DepthwiseConv2  (None, None, None,   864        ['block2a_dwconv_pad[0][0]']     \n",
            " D)                             96)                                                               \n",
            "                                                                                                  \n",
            " block2a_bn (BatchNormalization  (None, None, None,   384        ['block2a_dwconv[0][0]']         \n",
            " )                              96)                                                               \n",
            "                                                                                                  \n",
            " block2a_activation (Activation  (None, None, None,   0          ['block2a_bn[0][0]']             \n",
            " )                              96)                                                               \n",
            "                                                                                                  \n",
            " block2a_se_squeeze (GlobalAver  (None, 96)          0           ['block2a_activation[0][0]']     \n",
            " agePooling2D)                                                                                    \n",
            "                                                                                                  \n",
            " block2a_se_reshape (Reshape)   (None, 1, 1, 96)     0           ['block2a_se_squeeze[0][0]']     \n",
            "                                                                                                  \n",
            " block2a_se_reduce (Conv2D)     (None, 1, 1, 4)      388         ['block2a_se_reshape[0][0]']     \n",
            "                                                                                                  \n",
            " block2a_se_expand (Conv2D)     (None, 1, 1, 96)     480         ['block2a_se_reduce[0][0]']      \n",
            "                                                                                                  \n",
            " block2a_se_excite (Multiply)   (None, None, None,   0           ['block2a_activation[0][0]',     \n",
            "                                96)                               'block2a_se_expand[0][0]']      \n",
            "                                                                                                  \n",
            " block2a_project_conv (Conv2D)  (None, None, None,   2304        ['block2a_se_excite[0][0]']      \n",
            "                                24)                                                               \n",
            "                                                                                                  \n",
            " block2a_project_bn (BatchNorma  (None, None, None,   96         ['block2a_project_conv[0][0]']   \n",
            " lization)                      24)                                                               \n",
            "                                                                                                  \n",
            " block2b_expand_conv (Conv2D)   (None, None, None,   3456        ['block2a_project_bn[0][0]']     \n",
            "                                144)                                                              \n",
            "                                                                                                  \n",
            " block2b_expand_bn (BatchNormal  (None, None, None,   576        ['block2b_expand_conv[0][0]']    \n",
            " ization)                       144)                                                              \n",
            "                                                                                                  \n",
            " block2b_expand_activation (Act  (None, None, None,   0          ['block2b_expand_bn[0][0]']      \n",
            " ivation)                       144)                                                              \n",
            "                                                                                                  \n",
            " block2b_dwconv (DepthwiseConv2  (None, None, None,   1296       ['block2b_expand_activation[0][0]\n",
            " D)                             144)                             ']                               \n",
            "                                                                                                  \n",
            " block2b_bn (BatchNormalization  (None, None, None,   576        ['block2b_dwconv[0][0]']         \n",
            " )                              144)                                                              \n",
            "                                                                                                  \n",
            " block2b_activation (Activation  (None, None, None,   0          ['block2b_bn[0][0]']             \n",
            " )                              144)                                                              \n",
            "                                                                                                  \n",
            " block2b_se_squeeze (GlobalAver  (None, 144)         0           ['block2b_activation[0][0]']     \n",
            " agePooling2D)                                                                                    \n",
            "                                                                                                  \n",
            " block2b_se_reshape (Reshape)   (None, 1, 1, 144)    0           ['block2b_se_squeeze[0][0]']     \n",
            "                                                                                                  \n",
            " block2b_se_reduce (Conv2D)     (None, 1, 1, 6)      870         ['block2b_se_reshape[0][0]']     \n",
            "                                                                                                  \n",
            " block2b_se_expand (Conv2D)     (None, 1, 1, 144)    1008        ['block2b_se_reduce[0][0]']      \n",
            "                                                                                                  \n",
            " block2b_se_excite (Multiply)   (None, None, None,   0           ['block2b_activation[0][0]',     \n",
            "                                144)                              'block2b_se_expand[0][0]']      \n",
            "                                                                                                  \n",
            " block2b_project_conv (Conv2D)  (None, None, None,   3456        ['block2b_se_excite[0][0]']      \n",
            "                                24)                                                               \n",
            "                                                                                                  \n",
            " block2b_project_bn (BatchNorma  (None, None, None,   96         ['block2b_project_conv[0][0]']   \n",
            " lization)                      24)                                                               \n",
            "                                                                                                  \n",
            " block2b_drop (Dropout)         (None, None, None,   0           ['block2b_project_bn[0][0]']     \n",
            "                                24)                                                               \n",
            "                                                                                                  \n",
            " block2b_add (Add)              (None, None, None,   0           ['block2b_drop[0][0]',           \n",
            "                                24)                               'block2a_project_bn[0][0]']     \n",
            "                                                                                                  \n",
            " block3a_expand_conv (Conv2D)   (None, None, None,   3456        ['block2b_add[0][0]']            \n",
            "                                144)                                                              \n",
            "                                                                                                  \n",
            " block3a_expand_bn (BatchNormal  (None, None, None,   576        ['block3a_expand_conv[0][0]']    \n",
            " ization)                       144)                                                              \n",
            "                                                                                                  \n",
            " block3a_expand_activation (Act  (None, None, None,   0          ['block3a_expand_bn[0][0]']      \n",
            " ivation)                       144)                                                              \n",
            "                                                                                                  \n",
            " block3a_dwconv_pad (ZeroPaddin  (None, None, None,   0          ['block3a_expand_activation[0][0]\n",
            " g2D)                           144)                             ']                               \n",
            "                                                                                                  \n",
            " block3a_dwconv (DepthwiseConv2  (None, None, None,   3600       ['block3a_dwconv_pad[0][0]']     \n",
            " D)                             144)                                                              \n",
            "                                                                                                  \n",
            " block3a_bn (BatchNormalization  (None, None, None,   576        ['block3a_dwconv[0][0]']         \n",
            " )                              144)                                                              \n",
            "                                                                                                  \n",
            " block3a_activation (Activation  (None, None, None,   0          ['block3a_bn[0][0]']             \n",
            " )                              144)                                                              \n",
            "                                                                                                  \n",
            " block3a_se_squeeze (GlobalAver  (None, 144)         0           ['block3a_activation[0][0]']     \n",
            " agePooling2D)                                                                                    \n",
            "                                                                                                  \n",
            " block3a_se_reshape (Reshape)   (None, 1, 1, 144)    0           ['block3a_se_squeeze[0][0]']     \n",
            "                                                                                                  \n",
            " block3a_se_reduce (Conv2D)     (None, 1, 1, 6)      870         ['block3a_se_reshape[0][0]']     \n",
            "                                                                                                  \n",
            " block3a_se_expand (Conv2D)     (None, 1, 1, 144)    1008        ['block3a_se_reduce[0][0]']      \n",
            "                                                                                                  \n",
            " block3a_se_excite (Multiply)   (None, None, None,   0           ['block3a_activation[0][0]',     \n",
            "                                144)                              'block3a_se_expand[0][0]']      \n",
            "                                                                                                  \n",
            " block3a_project_conv (Conv2D)  (None, None, None,   5760        ['block3a_se_excite[0][0]']      \n",
            "                                40)                                                               \n",
            "                                                                                                  \n",
            " block3a_project_bn (BatchNorma  (None, None, None,   160        ['block3a_project_conv[0][0]']   \n",
            " lization)                      40)                                                               \n",
            "                                                                                                  \n",
            " block3b_expand_conv (Conv2D)   (None, None, None,   9600        ['block3a_project_bn[0][0]']     \n",
            "                                240)                                                              \n",
            "                                                                                                  \n",
            " block3b_expand_bn (BatchNormal  (None, None, None,   960        ['block3b_expand_conv[0][0]']    \n",
            " ization)                       240)                                                              \n",
            "                                                                                                  \n",
            " block3b_expand_activation (Act  (None, None, None,   0          ['block3b_expand_bn[0][0]']      \n",
            " ivation)                       240)                                                              \n",
            "                                                                                                  \n",
            " block3b_dwconv (DepthwiseConv2  (None, None, None,   6000       ['block3b_expand_activation[0][0]\n",
            " D)                             240)                             ']                               \n",
            "                                                                                                  \n",
            " block3b_bn (BatchNormalization  (None, None, None,   960        ['block3b_dwconv[0][0]']         \n",
            " )                              240)                                                              \n",
            "                                                                                                  \n",
            " block3b_activation (Activation  (None, None, None,   0          ['block3b_bn[0][0]']             \n",
            " )                              240)                                                              \n",
            "                                                                                                  \n",
            " block3b_se_squeeze (GlobalAver  (None, 240)         0           ['block3b_activation[0][0]']     \n",
            " agePooling2D)                                                                                    \n",
            "                                                                                                  \n",
            " block3b_se_reshape (Reshape)   (None, 1, 1, 240)    0           ['block3b_se_squeeze[0][0]']     \n",
            "                                                                                                  \n",
            " block3b_se_reduce (Conv2D)     (None, 1, 1, 10)     2410        ['block3b_se_reshape[0][0]']     \n",
            "                                                                                                  \n",
            " block3b_se_expand (Conv2D)     (None, 1, 1, 240)    2640        ['block3b_se_reduce[0][0]']      \n",
            "                                                                                                  \n",
            " block3b_se_excite (Multiply)   (None, None, None,   0           ['block3b_activation[0][0]',     \n",
            "                                240)                              'block3b_se_expand[0][0]']      \n",
            "                                                                                                  \n",
            " block3b_project_conv (Conv2D)  (None, None, None,   9600        ['block3b_se_excite[0][0]']      \n",
            "                                40)                                                               \n",
            "                                                                                                  \n",
            " block3b_project_bn (BatchNorma  (None, None, None,   160        ['block3b_project_conv[0][0]']   \n",
            " lization)                      40)                                                               \n",
            "                                                                                                  \n",
            " block3b_drop (Dropout)         (None, None, None,   0           ['block3b_project_bn[0][0]']     \n",
            "                                40)                                                               \n",
            "                                                                                                  \n",
            " block3b_add (Add)              (None, None, None,   0           ['block3b_drop[0][0]',           \n",
            "                                40)                               'block3a_project_bn[0][0]']     \n",
            "                                                                                                  \n",
            " block4a_expand_conv (Conv2D)   (None, None, None,   9600        ['block3b_add[0][0]']            \n",
            "                                240)                                                              \n",
            "                                                                                                  \n",
            " block4a_expand_bn (BatchNormal  (None, None, None,   960        ['block4a_expand_conv[0][0]']    \n",
            " ization)                       240)                                                              \n",
            "                                                                                                  \n",
            " block4a_expand_activation (Act  (None, None, None,   0          ['block4a_expand_bn[0][0]']      \n",
            " ivation)                       240)                                                              \n",
            "                                                                                                  \n",
            " block4a_dwconv_pad (ZeroPaddin  (None, None, None,   0          ['block4a_expand_activation[0][0]\n",
            " g2D)                           240)                             ']                               \n",
            "                                                                                                  \n",
            " block4a_dwconv (DepthwiseConv2  (None, None, None,   2160       ['block4a_dwconv_pad[0][0]']     \n",
            " D)                             240)                                                              \n",
            "                                                                                                  \n",
            " block4a_bn (BatchNormalization  (None, None, None,   960        ['block4a_dwconv[0][0]']         \n",
            " )                              240)                                                              \n",
            "                                                                                                  \n",
            " block4a_activation (Activation  (None, None, None,   0          ['block4a_bn[0][0]']             \n",
            " )                              240)                                                              \n",
            "                                                                                                  \n",
            " block4a_se_squeeze (GlobalAver  (None, 240)         0           ['block4a_activation[0][0]']     \n",
            " agePooling2D)                                                                                    \n",
            "                                                                                                  \n",
            " block4a_se_reshape (Reshape)   (None, 1, 1, 240)    0           ['block4a_se_squeeze[0][0]']     \n",
            "                                                                                                  \n",
            " block4a_se_reduce (Conv2D)     (None, 1, 1, 10)     2410        ['block4a_se_reshape[0][0]']     \n",
            "                                                                                                  \n",
            " block4a_se_expand (Conv2D)     (None, 1, 1, 240)    2640        ['block4a_se_reduce[0][0]']      \n",
            "                                                                                                  \n",
            " block4a_se_excite (Multiply)   (None, None, None,   0           ['block4a_activation[0][0]',     \n",
            "                                240)                              'block4a_se_expand[0][0]']      \n",
            "                                                                                                  \n",
            " block4a_project_conv (Conv2D)  (None, None, None,   19200       ['block4a_se_excite[0][0]']      \n",
            "                                80)                                                               \n",
            "                                                                                                  \n",
            " block4a_project_bn (BatchNorma  (None, None, None,   320        ['block4a_project_conv[0][0]']   \n",
            " lization)                      80)                                                               \n",
            "                                                                                                  \n",
            " block4b_expand_conv (Conv2D)   (None, None, None,   38400       ['block4a_project_bn[0][0]']     \n",
            "                                480)                                                              \n",
            "                                                                                                  \n",
            " block4b_expand_bn (BatchNormal  (None, None, None,   1920       ['block4b_expand_conv[0][0]']    \n",
            " ization)                       480)                                                              \n",
            "                                                                                                  \n",
            " block4b_expand_activation (Act  (None, None, None,   0          ['block4b_expand_bn[0][0]']      \n",
            " ivation)                       480)                                                              \n",
            "                                                                                                  \n",
            " block4b_dwconv (DepthwiseConv2  (None, None, None,   4320       ['block4b_expand_activation[0][0]\n",
            " D)                             480)                             ']                               \n",
            "                                                                                                  \n",
            " block4b_bn (BatchNormalization  (None, None, None,   1920       ['block4b_dwconv[0][0]']         \n",
            " )                              480)                                                              \n",
            "                                                                                                  \n",
            " block4b_activation (Activation  (None, None, None,   0          ['block4b_bn[0][0]']             \n",
            " )                              480)                                                              \n",
            "                                                                                                  \n",
            " block4b_se_squeeze (GlobalAver  (None, 480)         0           ['block4b_activation[0][0]']     \n",
            " agePooling2D)                                                                                    \n",
            "                                                                                                  \n",
            " block4b_se_reshape (Reshape)   (None, 1, 1, 480)    0           ['block4b_se_squeeze[0][0]']     \n",
            "                                                                                                  \n",
            " block4b_se_reduce (Conv2D)     (None, 1, 1, 20)     9620        ['block4b_se_reshape[0][0]']     \n",
            "                                                                                                  \n",
            " block4b_se_expand (Conv2D)     (None, 1, 1, 480)    10080       ['block4b_se_reduce[0][0]']      \n",
            "                                                                                                  \n",
            " block4b_se_excite (Multiply)   (None, None, None,   0           ['block4b_activation[0][0]',     \n",
            "                                480)                              'block4b_se_expand[0][0]']      \n",
            "                                                                                                  \n",
            " block4b_project_conv (Conv2D)  (None, None, None,   38400       ['block4b_se_excite[0][0]']      \n",
            "                                80)                                                               \n",
            "                                                                                                  \n",
            " block4b_project_bn (BatchNorma  (None, None, None,   320        ['block4b_project_conv[0][0]']   \n",
            " lization)                      80)                                                               \n",
            "                                                                                                  \n",
            " block4b_drop (Dropout)         (None, None, None,   0           ['block4b_project_bn[0][0]']     \n",
            "                                80)                                                               \n",
            "                                                                                                  \n",
            " block4b_add (Add)              (None, None, None,   0           ['block4b_drop[0][0]',           \n",
            "                                80)                               'block4a_project_bn[0][0]']     \n",
            "                                                                                                  \n",
            " block4c_expand_conv (Conv2D)   (None, None, None,   38400       ['block4b_add[0][0]']            \n",
            "                                480)                                                              \n",
            "                                                                                                  \n",
            " block4c_expand_bn (BatchNormal  (None, None, None,   1920       ['block4c_expand_conv[0][0]']    \n",
            " ization)                       480)                                                              \n",
            "                                                                                                  \n",
            " block4c_expand_activation (Act  (None, None, None,   0          ['block4c_expand_bn[0][0]']      \n",
            " ivation)                       480)                                                              \n",
            "                                                                                                  \n",
            " block4c_dwconv (DepthwiseConv2  (None, None, None,   4320       ['block4c_expand_activation[0][0]\n",
            " D)                             480)                             ']                               \n",
            "                                                                                                  \n",
            " block4c_bn (BatchNormalization  (None, None, None,   1920       ['block4c_dwconv[0][0]']         \n",
            " )                              480)                                                              \n",
            "                                                                                                  \n",
            " block4c_activation (Activation  (None, None, None,   0          ['block4c_bn[0][0]']             \n",
            " )                              480)                                                              \n",
            "                                                                                                  \n",
            " block4c_se_squeeze (GlobalAver  (None, 480)         0           ['block4c_activation[0][0]']     \n",
            " agePooling2D)                                                                                    \n",
            "                                                                                                  \n",
            " block4c_se_reshape (Reshape)   (None, 1, 1, 480)    0           ['block4c_se_squeeze[0][0]']     \n",
            "                                                                                                  \n",
            " block4c_se_reduce (Conv2D)     (None, 1, 1, 20)     9620        ['block4c_se_reshape[0][0]']     \n",
            "                                                                                                  \n",
            " block4c_se_expand (Conv2D)     (None, 1, 1, 480)    10080       ['block4c_se_reduce[0][0]']      \n",
            "                                                                                                  \n",
            " block4c_se_excite (Multiply)   (None, None, None,   0           ['block4c_activation[0][0]',     \n",
            "                                480)                              'block4c_se_expand[0][0]']      \n",
            "                                                                                                  \n",
            " block4c_project_conv (Conv2D)  (None, None, None,   38400       ['block4c_se_excite[0][0]']      \n",
            "                                80)                                                               \n",
            "                                                                                                  \n",
            " block4c_project_bn (BatchNorma  (None, None, None,   320        ['block4c_project_conv[0][0]']   \n",
            " lization)                      80)                                                               \n",
            "                                                                                                  \n",
            " block4c_drop (Dropout)         (None, None, None,   0           ['block4c_project_bn[0][0]']     \n",
            "                                80)                                                               \n",
            "                                                                                                  \n",
            " block4c_add (Add)              (None, None, None,   0           ['block4c_drop[0][0]',           \n",
            "                                80)                               'block4b_add[0][0]']            \n",
            "                                                                                                  \n",
            " block5a_expand_conv (Conv2D)   (None, None, None,   38400       ['block4c_add[0][0]']            \n",
            "                                480)                                                              \n",
            "                                                                                                  \n",
            " block5a_expand_bn (BatchNormal  (None, None, None,   1920       ['block5a_expand_conv[0][0]']    \n",
            " ization)                       480)                                                              \n",
            "                                                                                                  \n",
            " block5a_expand_activation (Act  (None, None, None,   0          ['block5a_expand_bn[0][0]']      \n",
            " ivation)                       480)                                                              \n",
            "                                                                                                  \n",
            " block5a_dwconv (DepthwiseConv2  (None, None, None,   12000      ['block5a_expand_activation[0][0]\n",
            " D)                             480)                             ']                               \n",
            "                                                                                                  \n",
            " block5a_bn (BatchNormalization  (None, None, None,   1920       ['block5a_dwconv[0][0]']         \n",
            " )                              480)                                                              \n",
            "                                                                                                  \n",
            " block5a_activation (Activation  (None, None, None,   0          ['block5a_bn[0][0]']             \n",
            " )                              480)                                                              \n",
            "                                                                                                  \n",
            " block5a_se_squeeze (GlobalAver  (None, 480)         0           ['block5a_activation[0][0]']     \n",
            " agePooling2D)                                                                                    \n",
            "                                                                                                  \n",
            " block5a_se_reshape (Reshape)   (None, 1, 1, 480)    0           ['block5a_se_squeeze[0][0]']     \n",
            "                                                                                                  \n",
            " block5a_se_reduce (Conv2D)     (None, 1, 1, 20)     9620        ['block5a_se_reshape[0][0]']     \n",
            "                                                                                                  \n",
            " block5a_se_expand (Conv2D)     (None, 1, 1, 480)    10080       ['block5a_se_reduce[0][0]']      \n",
            "                                                                                                  \n",
            " block5a_se_excite (Multiply)   (None, None, None,   0           ['block5a_activation[0][0]',     \n",
            "                                480)                              'block5a_se_expand[0][0]']      \n",
            "                                                                                                  \n",
            " block5a_project_conv (Conv2D)  (None, None, None,   53760       ['block5a_se_excite[0][0]']      \n",
            "                                112)                                                              \n",
            "                                                                                                  \n",
            " block5a_project_bn (BatchNorma  (None, None, None,   448        ['block5a_project_conv[0][0]']   \n",
            " lization)                      112)                                                              \n",
            "                                                                                                  \n",
            " block5b_expand_conv (Conv2D)   (None, None, None,   75264       ['block5a_project_bn[0][0]']     \n",
            "                                672)                                                              \n",
            "                                                                                                  \n",
            " block5b_expand_bn (BatchNormal  (None, None, None,   2688       ['block5b_expand_conv[0][0]']    \n",
            " ization)                       672)                                                              \n",
            "                                                                                                  \n",
            " block5b_expand_activation (Act  (None, None, None,   0          ['block5b_expand_bn[0][0]']      \n",
            " ivation)                       672)                                                              \n",
            "                                                                                                  \n",
            " block5b_dwconv (DepthwiseConv2  (None, None, None,   16800      ['block5b_expand_activation[0][0]\n",
            " D)                             672)                             ']                               \n",
            "                                                                                                  \n",
            " block5b_bn (BatchNormalization  (None, None, None,   2688       ['block5b_dwconv[0][0]']         \n",
            " )                              672)                                                              \n",
            "                                                                                                  \n",
            " block5b_activation (Activation  (None, None, None,   0          ['block5b_bn[0][0]']             \n",
            " )                              672)                                                              \n",
            "                                                                                                  \n",
            " block5b_se_squeeze (GlobalAver  (None, 672)         0           ['block5b_activation[0][0]']     \n",
            " agePooling2D)                                                                                    \n",
            "                                                                                                  \n",
            " block5b_se_reshape (Reshape)   (None, 1, 1, 672)    0           ['block5b_se_squeeze[0][0]']     \n",
            "                                                                                                  \n",
            " block5b_se_reduce (Conv2D)     (None, 1, 1, 28)     18844       ['block5b_se_reshape[0][0]']     \n",
            "                                                                                                  \n",
            " block5b_se_expand (Conv2D)     (None, 1, 1, 672)    19488       ['block5b_se_reduce[0][0]']      \n",
            "                                                                                                  \n",
            " block5b_se_excite (Multiply)   (None, None, None,   0           ['block5b_activation[0][0]',     \n",
            "                                672)                              'block5b_se_expand[0][0]']      \n",
            "                                                                                                  \n",
            " block5b_project_conv (Conv2D)  (None, None, None,   75264       ['block5b_se_excite[0][0]']      \n",
            "                                112)                                                              \n",
            "                                                                                                  \n",
            " block5b_project_bn (BatchNorma  (None, None, None,   448        ['block5b_project_conv[0][0]']   \n",
            " lization)                      112)                                                              \n",
            "                                                                                                  \n",
            " block5b_drop (Dropout)         (None, None, None,   0           ['block5b_project_bn[0][0]']     \n",
            "                                112)                                                              \n",
            "                                                                                                  \n",
            " block5b_add (Add)              (None, None, None,   0           ['block5b_drop[0][0]',           \n",
            "                                112)                              'block5a_project_bn[0][0]']     \n",
            "                                                                                                  \n",
            " block5c_expand_conv (Conv2D)   (None, None, None,   75264       ['block5b_add[0][0]']            \n",
            "                                672)                                                              \n",
            "                                                                                                  \n",
            " block5c_expand_bn (BatchNormal  (None, None, None,   2688       ['block5c_expand_conv[0][0]']    \n",
            " ization)                       672)                                                              \n",
            "                                                                                                  \n",
            " block5c_expand_activation (Act  (None, None, None,   0          ['block5c_expand_bn[0][0]']      \n",
            " ivation)                       672)                                                              \n",
            "                                                                                                  \n",
            " block5c_dwconv (DepthwiseConv2  (None, None, None,   16800      ['block5c_expand_activation[0][0]\n",
            " D)                             672)                             ']                               \n",
            "                                                                                                  \n",
            " block5c_bn (BatchNormalization  (None, None, None,   2688       ['block5c_dwconv[0][0]']         \n",
            " )                              672)                                                              \n",
            "                                                                                                  \n",
            " block5c_activation (Activation  (None, None, None,   0          ['block5c_bn[0][0]']             \n",
            " )                              672)                                                              \n",
            "                                                                                                  \n",
            " block5c_se_squeeze (GlobalAver  (None, 672)         0           ['block5c_activation[0][0]']     \n",
            " agePooling2D)                                                                                    \n",
            "                                                                                                  \n",
            " block5c_se_reshape (Reshape)   (None, 1, 1, 672)    0           ['block5c_se_squeeze[0][0]']     \n",
            "                                                                                                  \n",
            " block5c_se_reduce (Conv2D)     (None, 1, 1, 28)     18844       ['block5c_se_reshape[0][0]']     \n",
            "                                                                                                  \n",
            " block5c_se_expand (Conv2D)     (None, 1, 1, 672)    19488       ['block5c_se_reduce[0][0]']      \n",
            "                                                                                                  \n",
            " block5c_se_excite (Multiply)   (None, None, None,   0           ['block5c_activation[0][0]',     \n",
            "                                672)                              'block5c_se_expand[0][0]']      \n",
            "                                                                                                  \n",
            " block5c_project_conv (Conv2D)  (None, None, None,   75264       ['block5c_se_excite[0][0]']      \n",
            "                                112)                                                              \n",
            "                                                                                                  \n",
            " block5c_project_bn (BatchNorma  (None, None, None,   448        ['block5c_project_conv[0][0]']   \n",
            " lization)                      112)                                                              \n",
            "                                                                                                  \n",
            " block5c_drop (Dropout)         (None, None, None,   0           ['block5c_project_bn[0][0]']     \n",
            "                                112)                                                              \n",
            "                                                                                                  \n",
            " block5c_add (Add)              (None, None, None,   0           ['block5c_drop[0][0]',           \n",
            "                                112)                              'block5b_add[0][0]']            \n",
            "                                                                                                  \n",
            " block6a_expand_conv (Conv2D)   (None, None, None,   75264       ['block5c_add[0][0]']            \n",
            "                                672)                                                              \n",
            "                                                                                                  \n",
            " block6a_expand_bn (BatchNormal  (None, None, None,   2688       ['block6a_expand_conv[0][0]']    \n",
            " ization)                       672)                                                              \n",
            "                                                                                                  \n",
            " block6a_expand_activation (Act  (None, None, None,   0          ['block6a_expand_bn[0][0]']      \n",
            " ivation)                       672)                                                              \n",
            "                                                                                                  \n",
            " block6a_dwconv_pad (ZeroPaddin  (None, None, None,   0          ['block6a_expand_activation[0][0]\n",
            " g2D)                           672)                             ']                               \n",
            "                                                                                                  \n",
            " block6a_dwconv (DepthwiseConv2  (None, None, None,   16800      ['block6a_dwconv_pad[0][0]']     \n",
            " D)                             672)                                                              \n",
            "                                                                                                  \n",
            " block6a_bn (BatchNormalization  (None, None, None,   2688       ['block6a_dwconv[0][0]']         \n",
            " )                              672)                                                              \n",
            "                                                                                                  \n",
            " block6a_activation (Activation  (None, None, None,   0          ['block6a_bn[0][0]']             \n",
            " )                              672)                                                              \n",
            "                                                                                                  \n",
            " block6a_se_squeeze (GlobalAver  (None, 672)         0           ['block6a_activation[0][0]']     \n",
            " agePooling2D)                                                                                    \n",
            "                                                                                                  \n",
            " block6a_se_reshape (Reshape)   (None, 1, 1, 672)    0           ['block6a_se_squeeze[0][0]']     \n",
            "                                                                                                  \n",
            " block6a_se_reduce (Conv2D)     (None, 1, 1, 28)     18844       ['block6a_se_reshape[0][0]']     \n",
            "                                                                                                  \n",
            " block6a_se_expand (Conv2D)     (None, 1, 1, 672)    19488       ['block6a_se_reduce[0][0]']      \n",
            "                                                                                                  \n",
            " block6a_se_excite (Multiply)   (None, None, None,   0           ['block6a_activation[0][0]',     \n",
            "                                672)                              'block6a_se_expand[0][0]']      \n",
            "                                                                                                  \n",
            " block6a_project_conv (Conv2D)  (None, None, None,   129024      ['block6a_se_excite[0][0]']      \n",
            "                                192)                                                              \n",
            "                                                                                                  \n",
            " block6a_project_bn (BatchNorma  (None, None, None,   768        ['block6a_project_conv[0][0]']   \n",
            " lization)                      192)                                                              \n",
            "                                                                                                  \n",
            " block6b_expand_conv (Conv2D)   (None, None, None,   221184      ['block6a_project_bn[0][0]']     \n",
            "                                1152)                                                             \n",
            "                                                                                                  \n",
            " block6b_expand_bn (BatchNormal  (None, None, None,   4608       ['block6b_expand_conv[0][0]']    \n",
            " ization)                       1152)                                                             \n",
            "                                                                                                  \n",
            " block6b_expand_activation (Act  (None, None, None,   0          ['block6b_expand_bn[0][0]']      \n",
            " ivation)                       1152)                                                             \n",
            "                                                                                                  \n",
            " block6b_dwconv (DepthwiseConv2  (None, None, None,   28800      ['block6b_expand_activation[0][0]\n",
            " D)                             1152)                            ']                               \n",
            "                                                                                                  \n",
            " block6b_bn (BatchNormalization  (None, None, None,   4608       ['block6b_dwconv[0][0]']         \n",
            " )                              1152)                                                             \n",
            "                                                                                                  \n",
            " block6b_activation (Activation  (None, None, None,   0          ['block6b_bn[0][0]']             \n",
            " )                              1152)                                                             \n",
            "                                                                                                  \n",
            " block6b_se_squeeze (GlobalAver  (None, 1152)        0           ['block6b_activation[0][0]']     \n",
            " agePooling2D)                                                                                    \n",
            "                                                                                                  \n",
            " block6b_se_reshape (Reshape)   (None, 1, 1, 1152)   0           ['block6b_se_squeeze[0][0]']     \n",
            "                                                                                                  \n",
            " block6b_se_reduce (Conv2D)     (None, 1, 1, 48)     55344       ['block6b_se_reshape[0][0]']     \n",
            "                                                                                                  \n",
            " block6b_se_expand (Conv2D)     (None, 1, 1, 1152)   56448       ['block6b_se_reduce[0][0]']      \n",
            "                                                                                                  \n",
            " block6b_se_excite (Multiply)   (None, None, None,   0           ['block6b_activation[0][0]',     \n",
            "                                1152)                             'block6b_se_expand[0][0]']      \n",
            "                                                                                                  \n",
            " block6b_project_conv (Conv2D)  (None, None, None,   221184      ['block6b_se_excite[0][0]']      \n",
            "                                192)                                                              \n",
            "                                                                                                  \n",
            " block6b_project_bn (BatchNorma  (None, None, None,   768        ['block6b_project_conv[0][0]']   \n",
            " lization)                      192)                                                              \n",
            "                                                                                                  \n",
            " block6b_drop (Dropout)         (None, None, None,   0           ['block6b_project_bn[0][0]']     \n",
            "                                192)                                                              \n",
            "                                                                                                  \n",
            " block6b_add (Add)              (None, None, None,   0           ['block6b_drop[0][0]',           \n",
            "                                192)                              'block6a_project_bn[0][0]']     \n",
            "                                                                                                  \n",
            " block6c_expand_conv (Conv2D)   (None, None, None,   221184      ['block6b_add[0][0]']            \n",
            "                                1152)                                                             \n",
            "                                                                                                  \n",
            " block6c_expand_bn (BatchNormal  (None, None, None,   4608       ['block6c_expand_conv[0][0]']    \n",
            " ization)                       1152)                                                             \n",
            "                                                                                                  \n",
            " block6c_expand_activation (Act  (None, None, None,   0          ['block6c_expand_bn[0][0]']      \n",
            " ivation)                       1152)                                                             \n",
            "                                                                                                  \n",
            " block6c_dwconv (DepthwiseConv2  (None, None, None,   28800      ['block6c_expand_activation[0][0]\n",
            " D)                             1152)                            ']                               \n",
            "                                                                                                  \n",
            " block6c_bn (BatchNormalization  (None, None, None,   4608       ['block6c_dwconv[0][0]']         \n",
            " )                              1152)                                                             \n",
            "                                                                                                  \n",
            " block6c_activation (Activation  (None, None, None,   0          ['block6c_bn[0][0]']             \n",
            " )                              1152)                                                             \n",
            "                                                                                                  \n",
            " block6c_se_squeeze (GlobalAver  (None, 1152)        0           ['block6c_activation[0][0]']     \n",
            " agePooling2D)                                                                                    \n",
            "                                                                                                  \n",
            " block6c_se_reshape (Reshape)   (None, 1, 1, 1152)   0           ['block6c_se_squeeze[0][0]']     \n",
            "                                                                                                  \n",
            " block6c_se_reduce (Conv2D)     (None, 1, 1, 48)     55344       ['block6c_se_reshape[0][0]']     \n",
            "                                                                                                  \n",
            " block6c_se_expand (Conv2D)     (None, 1, 1, 1152)   56448       ['block6c_se_reduce[0][0]']      \n",
            "                                                                                                  \n",
            " block6c_se_excite (Multiply)   (None, None, None,   0           ['block6c_activation[0][0]',     \n",
            "                                1152)                             'block6c_se_expand[0][0]']      \n",
            "                                                                                                  \n",
            " block6c_project_conv (Conv2D)  (None, None, None,   221184      ['block6c_se_excite[0][0]']      \n",
            "                                192)                                                              \n",
            "                                                                                                  \n",
            " block6c_project_bn (BatchNorma  (None, None, None,   768        ['block6c_project_conv[0][0]']   \n",
            " lization)                      192)                                                              \n",
            "                                                                                                  \n",
            " block6c_drop (Dropout)         (None, None, None,   0           ['block6c_project_bn[0][0]']     \n",
            "                                192)                                                              \n",
            "                                                                                                  \n",
            " block6c_add (Add)              (None, None, None,   0           ['block6c_drop[0][0]',           \n",
            "                                192)                              'block6b_add[0][0]']            \n",
            "                                                                                                  \n",
            " block6d_expand_conv (Conv2D)   (None, None, None,   221184      ['block6c_add[0][0]']            \n",
            "                                1152)                                                             \n",
            "                                                                                                  \n",
            " block6d_expand_bn (BatchNormal  (None, None, None,   4608       ['block6d_expand_conv[0][0]']    \n",
            " ization)                       1152)                                                             \n",
            "                                                                                                  \n",
            " block6d_expand_activation (Act  (None, None, None,   0          ['block6d_expand_bn[0][0]']      \n",
            " ivation)                       1152)                                                             \n",
            "                                                                                                  \n",
            " block6d_dwconv (DepthwiseConv2  (None, None, None,   28800      ['block6d_expand_activation[0][0]\n",
            " D)                             1152)                            ']                               \n",
            "                                                                                                  \n",
            " block6d_bn (BatchNormalization  (None, None, None,   4608       ['block6d_dwconv[0][0]']         \n",
            " )                              1152)                                                             \n",
            "                                                                                                  \n",
            " block6d_activation (Activation  (None, None, None,   0          ['block6d_bn[0][0]']             \n",
            " )                              1152)                                                             \n",
            "                                                                                                  \n",
            " block6d_se_squeeze (GlobalAver  (None, 1152)        0           ['block6d_activation[0][0]']     \n",
            " agePooling2D)                                                                                    \n",
            "                                                                                                  \n",
            " block6d_se_reshape (Reshape)   (None, 1, 1, 1152)   0           ['block6d_se_squeeze[0][0]']     \n",
            "                                                                                                  \n",
            " block6d_se_reduce (Conv2D)     (None, 1, 1, 48)     55344       ['block6d_se_reshape[0][0]']     \n",
            "                                                                                                  \n",
            " block6d_se_expand (Conv2D)     (None, 1, 1, 1152)   56448       ['block6d_se_reduce[0][0]']      \n",
            "                                                                                                  \n",
            " block6d_se_excite (Multiply)   (None, None, None,   0           ['block6d_activation[0][0]',     \n",
            "                                1152)                             'block6d_se_expand[0][0]']      \n",
            "                                                                                                  \n",
            " block6d_project_conv (Conv2D)  (None, None, None,   221184      ['block6d_se_excite[0][0]']      \n",
            "                                192)                                                              \n",
            "                                                                                                  \n",
            " block6d_project_bn (BatchNorma  (None, None, None,   768        ['block6d_project_conv[0][0]']   \n",
            " lization)                      192)                                                              \n",
            "                                                                                                  \n",
            " block6d_drop (Dropout)         (None, None, None,   0           ['block6d_project_bn[0][0]']     \n",
            "                                192)                                                              \n",
            "                                                                                                  \n",
            " block6d_add (Add)              (None, None, None,   0           ['block6d_drop[0][0]',           \n",
            "                                192)                              'block6c_add[0][0]']            \n",
            "                                                                                                  \n",
            " block7a_expand_conv (Conv2D)   (None, None, None,   221184      ['block6d_add[0][0]']            \n",
            "                                1152)                                                             \n",
            "                                                                                                  \n",
            " block7a_expand_bn (BatchNormal  (None, None, None,   4608       ['block7a_expand_conv[0][0]']    \n",
            " ization)                       1152)                                                             \n",
            "                                                                                                  \n",
            " block7a_expand_activation (Act  (None, None, None,   0          ['block7a_expand_bn[0][0]']      \n",
            " ivation)                       1152)                                                             \n",
            "                                                                                                  \n",
            " block7a_dwconv (DepthwiseConv2  (None, None, None,   10368      ['block7a_expand_activation[0][0]\n",
            " D)                             1152)                            ']                               \n",
            "                                                                                                  \n",
            " block7a_bn (BatchNormalization  (None, None, None,   4608       ['block7a_dwconv[0][0]']         \n",
            " )                              1152)                                                             \n",
            "                                                                                                  \n",
            " block7a_activation (Activation  (None, None, None,   0          ['block7a_bn[0][0]']             \n",
            " )                              1152)                                                             \n",
            "                                                                                                  \n",
            " block7a_se_squeeze (GlobalAver  (None, 1152)        0           ['block7a_activation[0][0]']     \n",
            " agePooling2D)                                                                                    \n",
            "                                                                                                  \n",
            " block7a_se_reshape (Reshape)   (None, 1, 1, 1152)   0           ['block7a_se_squeeze[0][0]']     \n",
            "                                                                                                  \n",
            " block7a_se_reduce (Conv2D)     (None, 1, 1, 48)     55344       ['block7a_se_reshape[0][0]']     \n",
            "                                                                                                  \n",
            " block7a_se_expand (Conv2D)     (None, 1, 1, 1152)   56448       ['block7a_se_reduce[0][0]']      \n",
            "                                                                                                  \n",
            " block7a_se_excite (Multiply)   (None, None, None,   0           ['block7a_activation[0][0]',     \n",
            "                                1152)                             'block7a_se_expand[0][0]']      \n",
            "                                                                                                  \n",
            " block7a_project_conv (Conv2D)  (None, None, None,   368640      ['block7a_se_excite[0][0]']      \n",
            "                                320)                                                              \n",
            "                                                                                                  \n",
            " block7a_project_bn (BatchNorma  (None, None, None,   1280       ['block7a_project_conv[0][0]']   \n",
            " lization)                      320)                                                              \n",
            "                                                                                                  \n",
            " top_conv (Conv2D)              (None, None, None,   409600      ['block7a_project_bn[0][0]']     \n",
            "                                1280)                                                             \n",
            "                                                                                                  \n",
            " top_bn (BatchNormalization)    (None, None, None,   5120        ['top_conv[0][0]']               \n",
            "                                1280)                                                             \n",
            "                                                                                                  \n",
            " top_activation (Activation)    (None, None, None,   0           ['top_bn[0][0]']                 \n",
            "                                1280)                                                             \n",
            "                                                                                                  \n",
            "==================================================================================================\n",
            "Total params: 4,049,571\n",
            "Trainable params: 0\n",
            "Non-trainable params: 4,049,571\n",
            "__________________________________________________________________________________________________\n"
          ]
        }
      ],
      "source": [
        "# summary of our base model\n",
        "base_model.summary()"
      ]
    },
    {
      "cell_type": "code",
      "execution_count": null,
      "metadata": {
        "colab": {
          "base_uri": "https://localhost:8080/"
        },
        "id": "VcGNmzc0gbOm",
        "outputId": "46158b2d-4f87-4859-be7f-923974cdf3ce"
      },
      "outputs": [
        {
          "output_type": "stream",
          "name": "stdout",
          "text": [
            "Model: \"model\"\n",
            "_________________________________________________________________\n",
            " Layer (type)                Output Shape              Param #   \n",
            "=================================================================\n",
            " inputs_layer (InputLayer)   [(None, 224, 224, 3)]     0         \n",
            "                                                                 \n",
            " efficientnetb0 (Functional)  (None, None, None, 1280)  4049571  \n",
            "                                                                 \n",
            " AvaragePooling2D (GlobalAve  (None, 1280)             0         \n",
            " ragePooling2D)                                                  \n",
            "                                                                 \n",
            " ouput_shape (Dense)         (None, 10)                12810     \n",
            "                                                                 \n",
            "=================================================================\n",
            "Total params: 4,062,381\n",
            "Trainable params: 12,810\n",
            "Non-trainable params: 4,049,571\n",
            "_________________________________________________________________\n"
          ]
        }
      ],
      "source": [
        "# summary of our model 0 \n",
        "model_0.summary()"
      ]
    },
    {
      "cell_type": "code",
      "execution_count": null,
      "metadata": {
        "colab": {
          "base_uri": "https://localhost:8080/",
          "height": 573
        },
        "id": "DPLbZgUTfupa",
        "outputId": "fd037f88-66c7-4d32-af56-e8cdebb08b44"
      },
      "outputs": [
        {
          "output_type": "display_data",
          "data": {
            "text/plain": [
              "<Figure size 432x288 with 1 Axes>"
            ],
            "image/png": "[encoded data removed]"
          },
          "metadata": {
            "needs_background": "light"
          }
        },
        {
          "output_type": "display_data",
          "data": {
            "text/plain": [
              "<Figure size 432x288 with 1 Axes>"
            ],
            "image/png": "[encoded data removed]"
          },
          "metadata": {
            "needs_background": "light"
          }
        }
      ],
      "source": [
        "# plot training and testing data loss curves\n",
        "plot_loss_curves(history_10_percent)"
      ]
    },
    {
      "cell_type": "markdown",
      "metadata": {
        "id": "UN3V9J2yf6Jn"
      },
      "source": [
        "# Getting a feature vector from a trained model\n",
        "Let's demonstrate the Global Average Pooling 2D layer...\n",
        "\n",
        "We have a tensor after our model goes through base_model of shape (None, 7, 7, 1280).\n",
        "\n",
        "But then when it passes through GlobalAveragePooling2D, it turns into (None, 1280).\n",
        "\n",
        "Let's use a similar shaped tensor of (1, 4, 4, 3) and then pass it to GlobalAveragePooling2D.\n",
        "\n"
      ]
    },
    {
      "cell_type": "code",
      "execution_count": null,
      "metadata": {
        "colab": {
          "base_uri": "https://localhost:8080/"
        },
        "id": "tccJh4SnlNZ8",
        "outputId": "f8cf876f-be7d-4f55-a092-7581650a63b3"
      },
      "outputs": [
        {
          "output_type": "stream",
          "name": "stdout",
          "text": [
            "see look like random tensor: \n",
            "[[[[ 0.3274685  -0.8426258   0.3194337 ]\n",
            "   [-1.4075519  -2.3880599  -1.0392479 ]\n",
            "   [-0.5573232   0.539707    1.6994323 ]\n",
            "   [ 0.28893656 -1.5066116  -0.2645474 ]]\n",
            "\n",
            "  [[-0.59722406 -1.9171132  -0.62044144]\n",
            "   [ 0.8504023  -0.40604794 -3.0258412 ]\n",
            "   [ 0.9058464   0.29855987 -0.22561555]\n",
            "   [-0.7616443  -1.8917141  -0.93847126]]\n",
            "\n",
            "  [[ 0.77852213 -0.47338897  0.97772694]\n",
            "   [ 0.24694404  0.20573747 -0.5256233 ]\n",
            "   [ 0.32410017  0.02545409 -0.10638497]\n",
            "   [-0.6369475   1.1603122   0.2507359 ]]\n",
            "\n",
            "  [[-0.41728503  0.4012578  -1.4145443 ]\n",
            "   [-0.5931857  -1.6617213   0.33567193]\n",
            "   [ 0.10815629  0.23479682 -0.56668764]\n",
            "   [-0.35819843  0.88698614  0.52744764]]]]\n",
            "\n",
            "see look like global avarege tensor \n",
            "[[-0.09368646 -0.45840448 -0.2885598 ]]\n",
            "\n",
            "Shape of the random tensor: (1, 4, 4, 3)\n",
            "Shape of the global avarege 2D tensor: (1, 3)\n"
          ]
        }
      ],
      "source": [
        "# create random tensor \n",
        "tf.random.set_seed(42)\n",
        "input_shape = (1,4,4,3)\n",
        "random_tensor = tf.random.normal(shape=input_shape)\n",
        "print(f\"see look like random tensor: \\n{random_tensor}\\n\")\n",
        "global_avarege_2D_tensor = tf.keras.layers.GlobalAveragePooling2D()(random_tensor)\n",
        "print(f\"see look like global avarege tensor \\n{global_avarege_2D_tensor}\\n\")\n",
        "print(f\"Shape of the random tensor: {random_tensor.shape}\")\n",
        "print(f\"Shape of the global avarege 2D tensor: {global_avarege_2D_tensor.shape}\")"
      ]
    },
    {
      "cell_type": "code",
      "execution_count": null,
      "metadata": {
        "colab": {
          "base_uri": "https://localhost:8080/"
        },
        "id": "FJVDrZOjmdut",
        "outputId": "10f8393a-1a51-42d8-b4f1-0151b2857e48"
      },
      "outputs": [
        {
          "output_type": "execute_result",
          "data": {
            "text/plain": [
              "<tf.Tensor: shape=(1, 3), dtype=float32, numpy=array([[-0.09368646, -0.45840448, -0.2885598 ]], dtype=float32)>"
            ]
          },
          "metadata": {},
          "execution_count": 26
        }
      ],
      "source": [
        "# look 1,2 index avarege of get same as this code\n",
        "tf.reduce_mean(input_tensor=random_tensor,axis=[1,2])"
      ]
    },
    {
      "cell_type": "markdown",
      "metadata": {
        "id": "w_szTd_dm0fM"
      },
      "source": [
        "> **🛠 Practice:** Try to do the same with the above two cells but this time use GlobalMaxPool2D... and see what happens.\n",
        "\n",
        "> **🔑 Note:** One of the reasons feature extraction transfer learning is named how it is is because what often happens is pretrained model outputs a feature vector (a long tensor of numbers which represents the learned representation of the model on a particular sample, in our case, this is the output of the tf.keras.layers.GlobalAveragePooling2D() layer) which can then be used to extract patterns out of for our own specifc problem.\n",
        "\n"
      ]
    },
    {
      "cell_type": "code",
      "execution_count": null,
      "metadata": {
        "colab": {
          "base_uri": "https://localhost:8080/"
        },
        "id": "wGSxTs1znBcR",
        "outputId": "9b1021f5-b4d4-441a-b711-fe8eaf8522b9"
      },
      "outputs": [
        {
          "output_type": "stream",
          "name": "stdout",
          "text": [
            "random tensor look like: \n",
            "[[[[ 0.3274685  -0.8426258   0.3194337 ]\n",
            "   [-1.4075519  -2.3880599  -1.0392479 ]\n",
            "   [-0.5573232   0.539707    1.6994323 ]\n",
            "   [ 0.28893656 -1.5066116  -0.2645474 ]]\n",
            "\n",
            "  [[-0.59722406 -1.9171132  -0.62044144]\n",
            "   [ 0.8504023  -0.40604794 -3.0258412 ]\n",
            "   [ 0.9058464   0.29855987 -0.22561555]\n",
            "   [-0.7616443  -1.8917141  -0.93847126]]\n",
            "\n",
            "  [[ 0.77852213 -0.47338897  0.97772694]\n",
            "   [ 0.24694404  0.20573747 -0.5256233 ]\n",
            "   [ 0.32410017  0.02545409 -0.10638497]\n",
            "   [-0.6369475   1.1603122   0.2507359 ]]\n",
            "\n",
            "  [[-0.41728503  0.4012578  -1.4145443 ]\n",
            "   [-0.5931857  -1.6617213   0.33567193]\n",
            "   [ 0.10815629  0.23479682 -0.56668764]\n",
            "   [-0.35819843  0.88698614  0.52744764]]]]\n",
            "\n",
            "global max pool tensor look like: \n",
            "[[0.9058464 1.1603122 1.6994323]]\n",
            "\n",
            "Shape random tensor look like: (1, 4, 4, 3)\n",
            "Shape global max pool tensor look like: (1, 3)\n"
          ]
        }
      ],
      "source": [
        "tf.random.set_seed(42)\n",
        "print(f\"random tensor look like: \\n{random_tensor}\\n\")\n",
        "global_max_pool_tensor = tf.keras.layers.GlobalMaxPool2D()(random_tensor)\n",
        "print(f\"global max pool tensor look like: \\n{global_max_pool_tensor}\\n\")\n",
        "print(f\"Shape random tensor look like: {random_tensor.shape}\")\n",
        "print(f\"Shape global max pool tensor look like: {global_max_pool_tensor.shape}\")"
      ]
    },
    {
      "cell_type": "code",
      "execution_count": null,
      "metadata": {
        "colab": {
          "base_uri": "https://localhost:8080/"
        },
        "id": "yOF9NbTkn-ax",
        "outputId": "c9265e57-824b-45f0-d540-7c8345ee04b2"
      },
      "outputs": [
        {
          "output_type": "execute_result",
          "data": {
            "text/plain": [
              "<tf.Tensor: shape=(1, 3), dtype=float32, numpy=array([[0.9058464, 1.1603122, 1.6994323]], dtype=float32)>"
            ]
          },
          "metadata": {},
          "execution_count": 28
        }
      ],
      "source": [
        "tf.reduce_max(random_tensor,axis=[1,2])"
      ]
    },
    {
      "cell_type": "markdown",
      "metadata": {
        "id": "JUe0t3KaoH8V"
      },
      "source": [
        "## Running a series of transfer learning experiments\n",
        "We've seen the incredible results transfer learning can get with only 10% of the training data, but how does it go with 1% of the training data... how about we set up a bunch of experiments to find out:\n",
        "\n",
        "1. `model_1` - use feature extraction transfer learning with 1% of the training data with data augmentation\n",
        "2. `model_2` - use feature extraction transfer learning with 10% of the training with data augmentaton\n",
        "3. `model_3` - use fine-tuning transfer learning on 10% of the training data with data augmentation\n",
        "4. `model_4` - use fine-tuning transfer learning on 100% of the training data with data augmentation\n",
        "> **🔑 Note:** throughout all experiments the same test dataset will be used to evaluate our model... this ensures consistency across evaluation metrics.\n",
        "\n"
      ]
    },
    {
      "cell_type": "markdown",
      "metadata": {
        "id": "WEu530HQOQcz"
      },
      "source": [
        "\n",
        "### Getting and preprocessing data for model_1\n"
      ]
    },
    {
      "cell_type": "code",
      "execution_count": null,
      "metadata": {
        "colab": {
          "base_uri": "https://localhost:8080/"
        },
        "id": "ZcpCKqJtOd_u",
        "outputId": "6fff5bb9-3acd-4d61-88ac-fb72f3a8e258"
      },
      "outputs": [
        {
          "output_type": "stream",
          "name": "stdout",
          "text": [
            "--2022-05-08 14:18:34--  https://storage.googleapis.com/ztm_tf_course/food_vision/10_food_classes_1_percent.zip\n",
            "Resolving storage.googleapis.com (storage.googleapis.com)... 173.194.76.128, 142.251.5.128, 64.233.184.128, ...\n",
            "Connecting to storage.googleapis.com (storage.googleapis.com)|173.194.76.128|:443... connected.\n",
            "HTTP request sent, awaiting response... 200 OK\n",
            "Length: 133612354 (127M) [application/zip]\n",
            "Saving to: ‘10_food_classes_1_percent.zip’\n",
            "\n",
            "10_food_classes_1_p 100%[===================>] 127.42M  53.0MB/s    in 2.4s    \n",
            "\n",
            "2022-05-08 14:18:37 (53.0 MB/s) - ‘10_food_classes_1_percent.zip’ saved [133612354/133612354]\n",
            "\n"
          ]
        }
      ],
      "source": [
        "# download and uzip data - preprocessing from Food101\n",
        "!wget https://storage.googleapis.com/ztm_tf_course/food_vision/10_food_classes_1_percent.zip \n",
        "unzip_data(\"10_food_classes_1_percent.zip\")"
      ]
    },
    {
      "cell_type": "code",
      "execution_count": null,
      "metadata": {
        "id": "SuX7qiHoPM5y"
      },
      "outputs": [],
      "source": [
        "# creating training and test dir \n",
        "train_dir_1_percent = \"10_food_classes_1_percent/train\"\n",
        "test_dir = \"10_food_classes_1_percent/test\""
      ]
    },
    {
      "cell_type": "code",
      "execution_count": null,
      "metadata": {
        "colab": {
          "base_uri": "https://localhost:8080/"
        },
        "id": "M_C8lt3QOxyr",
        "outputId": "333afdf8-6c50-434f-b268-d159879f96ed"
      },
      "outputs": [
        {
          "output_type": "stream",
          "name": "stdout",
          "text": [
            "There are 2 directories and 0 images in '10_food_classes_1_percent'.\n",
            "There are 10 directories and 0 images in '10_food_classes_1_percent/test'.\n",
            "There are 0 directories and 250 images in '10_food_classes_1_percent/test/chicken_curry'.\n",
            "There are 0 directories and 250 images in '10_food_classes_1_percent/test/fried_rice'.\n",
            "There are 0 directories and 250 images in '10_food_classes_1_percent/test/ramen'.\n",
            "There are 0 directories and 250 images in '10_food_classes_1_percent/test/pizza'.\n",
            "There are 0 directories and 250 images in '10_food_classes_1_percent/test/steak'.\n",
            "There are 0 directories and 250 images in '10_food_classes_1_percent/test/sushi'.\n",
            "There are 0 directories and 250 images in '10_food_classes_1_percent/test/hamburger'.\n",
            "There are 0 directories and 250 images in '10_food_classes_1_percent/test/chicken_wings'.\n",
            "There are 0 directories and 250 images in '10_food_classes_1_percent/test/grilled_salmon'.\n",
            "There are 0 directories and 250 images in '10_food_classes_1_percent/test/ice_cream'.\n",
            "There are 10 directories and 0 images in '10_food_classes_1_percent/train'.\n",
            "There are 0 directories and 7 images in '10_food_classes_1_percent/train/chicken_curry'.\n",
            "There are 0 directories and 7 images in '10_food_classes_1_percent/train/fried_rice'.\n",
            "There are 0 directories and 7 images in '10_food_classes_1_percent/train/ramen'.\n",
            "There are 0 directories and 7 images in '10_food_classes_1_percent/train/pizza'.\n",
            "There are 0 directories and 7 images in '10_food_classes_1_percent/train/steak'.\n",
            "There are 0 directories and 7 images in '10_food_classes_1_percent/train/sushi'.\n",
            "There are 0 directories and 7 images in '10_food_classes_1_percent/train/hamburger'.\n",
            "There are 0 directories and 7 images in '10_food_classes_1_percent/train/chicken_wings'.\n",
            "There are 0 directories and 7 images in '10_food_classes_1_percent/train/grilled_salmon'.\n",
            "There are 0 directories and 7 images in '10_food_classes_1_percent/train/ice_cream'.\n"
          ]
        }
      ],
      "source": [
        "# how many directory and image have each of this\n",
        "walk_through_dir(\"10_food_classes_1_percent\")"
      ]
    },
    {
      "cell_type": "code",
      "execution_count": null,
      "metadata": {
        "colab": {
          "base_uri": "https://localhost:8080/"
        },
        "id": "GdCCoin1PG7p",
        "outputId": "24233cb6-b591-4f89-b35b-51cb38f09373"
      },
      "outputs": [
        {
          "output_type": "stream",
          "name": "stdout",
          "text": [
            "Found 70 files belonging to 10 classes.\n",
            "Found 2500 files belonging to 10 classes.\n"
          ]
        }
      ],
      "source": [
        "IMG_SIZE = (224,224)\n",
        "BATCH_SIZE = 32 \n",
        "train_data_1_percent = tf.keras.preprocessing.image_dataset_from_directory(directory=train_dir_1_percent,\n",
        "                                                                           label_mode=\"categorical\",\n",
        "                                                                           image_size=IMG_SIZE,\n",
        "                                                                           batch_size=BATCH_SIZE) # defult is 32\n",
        "test_data = tf.keras.preprocessing.image_dataset_from_directory(directory=test_dir,\n",
        "                                                                label_mode=\"categorical\",\n",
        "                                                                image_size=IMG_SIZE,\n",
        "                                                                batch_size=BATCH_SIZE)\n"
      ]
    },
    {
      "cell_type": "markdown",
      "metadata": {
        "id": "3sM4W5GFQOS1"
      },
      "source": [
        " \n",
        "\n",
        "## Adding data augmentation right into the model\n",
        "To add data augmentation right into our models, we can use the layers inside:\n",
        "`tf.keras.layers.experimental.preprocessing()`\n",
        "\n",
        "we can see the benefits of doing this withing the TensorFlow Data augmentation\n",
        "documentation: https://www.tensorflow.org/tutorials/images/data_augmentation#use_keras_preprocessing_layers\n",
        "\n",
        " Off the top of heads, after reading the docs , the benefits of using data\n",
        "augmentation inside the model are:\n",
        "1. Preprocessing of image (augmenting them) happens on the GPU (much faster) rather than the CPU.\n",
        "2. Image data augmentation only happens during training, so we can still export our whole model and use it elsewhere."
      ]
    },
    {
      "cell_type": "code",
      "execution_count": null,
      "metadata": {
        "id": "aqxr7pbdV0pa"
      },
      "outputs": [],
      "source": [
        "import tensorflow as tf\n",
        "from tensorflow import keras\n",
        "from tensorflow.keras import layers\n",
        "from tensorflow.keras.layers.experimental import preprocessing\n",
        "# Create data augmentation stage with horizontal flipping, rotations, zooms, etc\n",
        "data_augmentation = keras.Sequential([\n",
        "    preprocessing.RandomFlip(mode=\"horizontal\"),\n",
        "    preprocessing.RandomRotation(0.2),\n",
        "    preprocessing.RandomZoom(0.2),\n",
        "    preprocessing.RandomWidth(0.2),\n",
        "    preprocessing.RandomHeight(0.2),\n",
        "    # preprocessing.Rescaling(scale=1./255)  set to when you build resnet model but this time efficient net built-in have\n",
        "],name=\"data_augmentation\")\n"
      ]
    },
    {
      "cell_type": "markdown",
      "metadata": {
        "id": "4edmPIqCX_8P"
      },
      "source": [
        "### Visulize our Data Augmentation layers  (and see what happens)\n"
      ]
    },
    {
      "cell_type": "code",
      "execution_count": null,
      "metadata": {
        "colab": {
          "base_uri": "https://localhost:8080/",
          "height": 511
        },
        "id": "mBojQ47-cqqy",
        "outputId": "8f975b2d-429c-4f35-f2c6-ea4c0537457f"
      },
      "outputs": [
        {
          "output_type": "display_data",
          "data": {
            "text/plain": [
              "<Figure size 432x288 with 1 Axes>"
            ],
            "image/png": "[encoded data removed]"
          },
          "metadata": {
            "needs_background": "light"
          }
        },
        {
          "output_type": "display_data",
          "data": {
            "text/plain": [
              "<Figure size 432x288 with 1 Axes>"
            ],
            "image/png": "[encoded data removed]"
          },
          "metadata": {
            "needs_background": "light"
          }
        }
      ],
      "source": [
        "import matplotlib.pyplot as plt\n",
        "import matplotlib.image as mpimg\n",
        "import os\n",
        "import random \n",
        "target_class = random.choice(train_data_1_percent.class_names)\n",
        "target_dir = \"10_food_classes_1_percent/train/\" + target_class\n",
        "random_img = random.choice(os.listdir(target_dir))\n",
        "target_image = target_dir + \"/\" + random_img\n",
        "\n",
        "img = mpimg.imread(target_image)\n",
        "\n",
        "plt.imshow(img)\n",
        "plt.title(f\"Orginal Food image class name: {target_class}\")\n",
        "plt.axis(False);\n",
        "\n",
        "# data augmentation image show \n",
        "image_augmentad = data_augmentation(img,training=True)\n",
        "plt.figure()\n",
        "plt.imshow(image_augmentad / 255.)\n",
        "plt.title(f\"Random image Data augmentad: {target_class}\")\n",
        "plt.axis(False);\n",
        "# print(img)"
      ]
    },
    {
      "cell_type": "markdown",
      "metadata": {
        "id": "0u6DoEq_dnle"
      },
      "source": [
        "### Model 1 : Feature Extraction in transfer learning on 1% of data using with data augmentations."
      ]
    },
    {
      "cell_type": "code",
      "execution_count": null,
      "metadata": {
        "colab": {
          "base_uri": "https://localhost:8080/"
        },
        "id": "VlY1XWZVhLrP",
        "outputId": "4c30b9b0-8b6d-4092-ef37-85e0881431b5"
      },
      "outputs": [
        {
          "output_type": "stream",
          "name": "stdout",
          "text": [
            "WARNING:tensorflow:Model was constructed with shape (512, 512, 3) for input KerasTensor(type_spec=TensorSpec(shape=(512, 512, 3), dtype=tf.uint8, name='random_flip_input'), name='random_flip_input', description=\"created by layer 'random_flip_input'\"), but it was called on an input with incompatible shape (None, 224, 224, 3).\n",
            " x after base model shape is : (None, None, None, 1280)\n",
            "Saving TensorBoard log files to: tensorflow_hub/Model_1/20220508-141847\n",
            "Epoch 1/5\n",
            "WARNING:tensorflow:Model was constructed with shape (512, 512, 3) for input KerasTensor(type_spec=TensorSpec(shape=(512, 512, 3), dtype=tf.uint8, name='random_flip_input'), name='random_flip_input', description=\"created by layer 'random_flip_input'\"), but it was called on an input with incompatible shape (None, 224, 224, 3).\n",
            "WARNING:tensorflow:Model was constructed with shape (512, 512, 3) for input KerasTensor(type_spec=TensorSpec(shape=(512, 512, 3), dtype=tf.uint8, name='random_flip_input'), name='random_flip_input', description=\"created by layer 'random_flip_input'\"), but it was called on an input with incompatible shape (None, 224, 224, 3).\n",
            "3/3 [==============================] - ETA: 0s - loss: 2.4698 - accuracy: 0.0429WARNING:tensorflow:Model was constructed with shape (512, 512, 3) for input KerasTensor(type_spec=TensorSpec(shape=(512, 512, 3), dtype=tf.uint8, name='random_flip_input'), name='random_flip_input', description=\"created by layer 'random_flip_input'\"), but it was called on an input with incompatible shape (None, 224, 224, 3).\n",
            "3/3 [==============================] - 32s 9s/step - loss: 2.4698 - accuracy: 0.0429 - val_loss: 2.3640 - val_accuracy: 0.1125\n",
            "Epoch 2/5\n",
            "3/3 [==============================] - 22s 11s/step - loss: 2.1844 - accuracy: 0.1571 - val_loss: 2.2578 - val_accuracy: 0.1594\n",
            "Epoch 3/5\n",
            "3/3 [==============================] - 11s 5s/step - loss: 2.0195 - accuracy: 0.2857 - val_loss: 2.1678 - val_accuracy: 0.2250\n",
            "Epoch 4/5\n",
            "3/3 [==============================] - 11s 5s/step - loss: 1.8538 - accuracy: 0.4286 - val_loss: 2.0555 - val_accuracy: 0.2766\n",
            "Epoch 5/5\n",
            "3/3 [==============================] - 9s 4s/step - loss: 1.6925 - accuracy: 0.6143 - val_loss: 2.0079 - val_accuracy: 0.2891\n"
          ]
        }
      ],
      "source": [
        "# setup input shape \n",
        "input_shape = (224, 224, 3)\n",
        "# create base model\n",
        "base_model_1 = tf.keras.applications.EfficientNetB0(include_top=False)\n",
        "base_model_1.trainable = False \n",
        "\n",
        "# create input layer\n",
        "inputs = layers.Input(shape=input_shape,name=\"input_layer\")\n",
        "\n",
        "# data augmention\n",
        "x = data_augmentation(inputs,training=True)\n",
        "\n",
        "# give the input data not trainable \n",
        "x = base_model_1(x,training=False)\n",
        "print(f\" x after base model shape is : {x.shape}\")\n",
        "\n",
        "# pool out of feature vector our base model\n",
        "x = layers.GlobalAveragePooling2D(name=\"global_avarege_pooling_layer\")(x)\n",
        "\n",
        "# put dense layer as a output layer\n",
        "outputs = layers.Dense(10, activation=\"softmax\",name=\"output_layers\")(x)\n",
        "\n",
        "# Make a model input and output\n",
        "model_1 = keras.Model(inputs,outputs)\n",
        "\n",
        "# compile the model\n",
        "model_1.compile(loss=\"categorical_crossentropy\",\n",
        "                optimizer=tf.keras.optimizers.Adam(),\n",
        "                metrics=[\"accuracy\"])\n",
        "\n",
        "# fit the model 1 \n",
        "model_1_history = model_1.fit(train_data_1_percent,\n",
        "                epochs=5,\n",
        "                steps_per_epoch=len(train_data_1_percent),\n",
        "                validation_data=test_data,\n",
        "                validation_steps= 0.25 * len(test_data),\n",
        "                callbacks=[create_tensorboard_callback(\"tensorflow_hub\",\"Model_1\")])"
      ]
    },
    {
      "cell_type": "code",
      "execution_count": null,
      "metadata": {
        "colab": {
          "base_uri": "https://localhost:8080/"
        },
        "id": "rBqiDbyLrUbF",
        "outputId": "5b3730cf-0e4a-4383-e7d3-a3e7ee3c2ca3"
      },
      "outputs": [
        {
          "output_type": "stream",
          "name": "stdout",
          "text": [
            "Model: \"model_1\"\n",
            "_________________________________________________________________\n",
            " Layer (type)                Output Shape              Param #   \n",
            "=================================================================\n",
            " input_layer (InputLayer)    [(None, 224, 224, 3)]     0         \n",
            "                                                                 \n",
            " data_augmentation (Sequenti  (None, None, 3)          0         \n",
            " al)                                                             \n",
            "                                                                 \n",
            " efficientnetb0 (Functional)  (None, None, None, 1280)  4049571  \n",
            "                                                                 \n",
            " global_avarege_pooling_laye  (None, 1280)             0         \n",
            " r (GlobalAveragePooling2D)                                      \n",
            "                                                                 \n",
            " output_layers (Dense)       (None, 10)                12810     \n",
            "                                                                 \n",
            "=================================================================\n",
            "Total params: 4,062,381\n",
            "Trainable params: 12,810\n",
            "Non-trainable params: 4,049,571\n",
            "_________________________________________________________________\n"
          ]
        }
      ],
      "source": [
        "# see model summary\n",
        "model_1.summary()"
      ]
    },
    {
      "cell_type": "code",
      "execution_count": null,
      "metadata": {
        "colab": {
          "base_uri": "https://localhost:8080/"
        },
        "id": "esM2agHluhKg",
        "outputId": "b2b397b4-7471-426e-f882-058c65d3b2b8"
      },
      "outputs": [
        {
          "output_type": "stream",
          "name": "stdout",
          "text": [
            "79/79 [==============================] - 30s 377ms/step - loss: 1.9941 - accuracy: 0.3168\n"
          ]
        },
        {
          "output_type": "execute_result",
          "data": {
            "text/plain": [
              "[1.994065761566162, 0.31679999828338623]"
            ]
          },
          "metadata": {},
          "execution_count": 37
        }
      ],
      "source": [
        "# evaluate full version of test data\n",
        "result_model_1 = model_1.evaluate(test_data)\n",
        "result_model_1"
      ]
    },
    {
      "cell_type": "code",
      "execution_count": null,
      "metadata": {
        "colab": {
          "base_uri": "https://localhost:8080/",
          "height": 573
        },
        "id": "vVL2AktPusL2",
        "outputId": "7ea286cd-6c93-4c9c-8987-0a169ee761b3"
      },
      "outputs": [
        {
          "output_type": "display_data",
          "data": {
            "text/plain": [
              "<Figure size 432x288 with 1 Axes>"
            ],
            "image/png": "[encoded data removed]"
          },
          "metadata": {
            "needs_background": "light"
          }
        },
        {
          "output_type": "display_data",
          "data": {
            "text/plain": [
              "<Figure size 432x288 with 1 Axes>"
            ],
            "image/png": "[encoded data removed]"
          },
          "metadata": {
            "needs_background": "light"
          }
        }
      ],
      "source": [
        "# see model 1 loss and accuracy using loss curves how do our model?\n",
        "plot_loss_curves(model_1_history)"
      ]
    },
    {
      "cell_type": "markdown",
      "metadata": {
        "id": "59BOiGwSvCpH"
      },
      "source": [
        "### Bulid up Model 2 with data augmentation"
      ]
    },
    {
      "cell_type": "code",
      "execution_count": null,
      "metadata": {
        "colab": {
          "base_uri": "https://localhost:8080/"
        },
        "id": "Dl4mTFZomnf0",
        "outputId": "ea8cd87e-51be-4b48-98b2-f9a00cd48504"
      },
      "outputs": [
        {
          "output_type": "stream",
          "name": "stdout",
          "text": [
            "Found 750 files belonging to 10 classes.\n",
            "Found 2500 files belonging to 10 classes.\n"
          ]
        }
      ],
      "source": [
        "train_dir_10_percent = \"10_food_classes_10_percent/train\"\n",
        "test_dir = \"10_food_classes_10_percent/test\"\n",
        "# Set data inputs\n",
        "import tensorflow as tf\n",
        "IMG_SIZE = (224, 224)\n",
        "train_data_10_percent = tf.keras.preprocessing.image_dataset_from_directory(train_dir_10_percent,\n",
        "                                                                            label_mode=\"categorical\",\n",
        "                                                                            image_size=IMG_SIZE)\n",
        "test_data = tf.keras.preprocessing.image_dataset_from_directory(test_dir,\n",
        "                                                                label_mode=\"categorical\",\n",
        "                                                                image_size=IMG_SIZE)\n"
      ]
    },
    {
      "cell_type": "code",
      "execution_count": null,
      "metadata": {
        "id": "6EzsWr8vzUa4"
      },
      "outputs": [],
      "source": [
        "# create model 2 data with data augmentation\n",
        "data_augmentation = keras.Sequential([\n",
        "    preprocessing.RandomFlip(mode=\"horizontal\"),\n",
        "    preprocessing.RandomRotation(0.2),\n",
        "    preprocessing.RandomZoom(0.2),\n",
        "    preprocessing.RandomWidth(0.2),\n",
        "    preprocessing.RandomHeight(0.2),\n",
        "    # preprocessing.Rescaling(scale=1./255) # when you use resnet model that time is important efficientNet alredy have this layer\n",
        "],name=\"data_augmentation\")"
      ]
    },
    {
      "cell_type": "code",
      "execution_count": null,
      "metadata": {
        "id": "PKv7U34xvOOr"
      },
      "outputs": [],
      "source": [
        "# setup input shape\n",
        "input_shape = (224,224,3)\n",
        "# create base model\n",
        "base_model_2 = keras.applications.EfficientNetB0(include_top=False)\n",
        "base_model_2.trainable = False\n",
        "# create input shape\n",
        "inputs = layers.Input(shape=input_shape,name=\"inputs_layers\")\n",
        "# data augmentation\n",
        "x = data_augmentation(inputs,training=True)\n",
        "# give the input data not trainable\n",
        "x = base_model_2(x,training=False)\n",
        "# pooled output feature vector\n",
        "x = layers.GlobalAveragePooling2D(name=\"global_avarege_pooling_2D\")(x)\n",
        "# create output layers\n",
        "outputs = layers.Dense(10,activation=\"softmax\",name=\"output_layers\")(x)\n",
        "# make our model \n",
        "model_2 = keras.Model(inputs,outputs)\n",
        "# compile the model\n",
        "model_2.compile(loss=keras.losses.CategoricalCrossentropy(),\n",
        "                optimizer=tf.keras.optimizers.Adam(),\n",
        "                metrics=[\"accuracy\"])\n"
      ]
    },
    {
      "cell_type": "markdown",
      "metadata": {
        "id": "6fOOgZVnXvKn"
      },
      "source": [
        "### Creating modle check point call back.\n",
        "\n",
        "The ModelCheckPoint callback intermidetly saves our model (the full model or just weights) during training.The is useful so we can comes and start where left off."
      ]
    },
    {
      "cell_type": "code",
      "execution_count": null,
      "metadata": {
        "id": "Ef_YEfp_Zy5F"
      },
      "outputs": [],
      "source": [
        "checkpoint_path = \"ten_percent_model_checkpoint_wegihts/checkpoint.ckpt\"\n",
        "\n",
        "checkpoint = tf.keras.callbacks.ModelCheckpoint(filepath=checkpoint_path,\n",
        "                                                save_weights_only = True,\n",
        "                                                save_best_only=False,\n",
        "                                                save_freq='epoch',\n",
        "                                                verbose=1)"
      ]
    },
    {
      "cell_type": "code",
      "execution_count": null,
      "metadata": {
        "colab": {
          "base_uri": "https://localhost:8080/"
        },
        "id": "NvuHcR_IxrN-",
        "outputId": "b6c0e179-5fd7-43b8-f6a3-6e8e170975c2"
      },
      "outputs": [
        {
          "output_type": "stream",
          "name": "stdout",
          "text": [
            "Saving TensorBoard log files to: tensorflow_hub/model_2_data_aug/20220508-142246\n",
            "Epoch 1/5\n",
            "24/24 [==============================] - ETA: 0s - loss: 1.3391 - accuracy: 0.6667\n",
            "Epoch 1: saving model to ten_percent_model_checkpoint_wegihts/checkpoint.ckpt\n",
            "24/24 [==============================] - 18s 698ms/step - loss: 1.3391 - accuracy: 0.6667 - val_loss: 1.1963 - val_accuracy: 0.7220\n",
            "Epoch 2/5\n",
            "24/24 [==============================] - ETA: 0s - loss: 1.0453 - accuracy: 0.7400\n",
            "Epoch 2: saving model to ten_percent_model_checkpoint_wegihts/checkpoint.ckpt\n",
            "24/24 [==============================] - 16s 643ms/step - loss: 1.0453 - accuracy: 0.7400 - val_loss: 0.9463 - val_accuracy: 0.7714\n",
            "Epoch 3/5\n",
            "24/24 [==============================] - ETA: 0s - loss: 0.8968 - accuracy: 0.7720\n",
            "Epoch 3: saving model to ten_percent_model_checkpoint_wegihts/checkpoint.ckpt\n",
            "24/24 [==============================] - 22s 898ms/step - loss: 0.8968 - accuracy: 0.7720 - val_loss: 0.9033 - val_accuracy: 0.7516\n",
            "Epoch 4/5\n",
            "24/24 [==============================] - ETA: 0s - loss: 0.7926 - accuracy: 0.7840\n",
            "Epoch 4: saving model to ten_percent_model_checkpoint_wegihts/checkpoint.ckpt\n",
            "24/24 [==============================] - 17s 703ms/step - loss: 0.7926 - accuracy: 0.7840 - val_loss: 0.8391 - val_accuracy: 0.7664\n",
            "Epoch 5/5\n",
            "24/24 [==============================] - ETA: 0s - loss: 0.7222 - accuracy: 0.8053\n",
            "Epoch 5: saving model to ten_percent_model_checkpoint_wegihts/checkpoint.ckpt\n",
            "24/24 [==============================] - 18s 732ms/step - loss: 0.7222 - accuracy: 0.8053 - val_loss: 0.7825 - val_accuracy: 0.7697\n"
          ]
        }
      ],
      "source": [
        "# fit the model\n",
        "initial_epoch = 5\n",
        "model_2_history = model_2.fit(train_data_10_percent,\n",
        "                              epochs=initial_epoch,\n",
        "                              validation_data=test_data,\n",
        "                              validation_steps=int(0.25 * len(test_data)),\n",
        "                              # track model performance\n",
        "                              callbacks=[create_tensorboard_callback(\"tensorflow_hub\",\"model_2_data_aug\"),checkpoint])"
      ]
    },
    {
      "cell_type": "code",
      "execution_count": null,
      "metadata": {
        "colab": {
          "base_uri": "https://localhost:8080/"
        },
        "id": "K0RiaskaawZz",
        "outputId": "44001b3b-99e6-4395-996a-a0fa28c5a3a3"
      },
      "outputs": [
        {
          "output_type": "stream",
          "name": "stdout",
          "text": [
            "79/79 [==============================] - 12s 144ms/step - loss: 0.6188 - accuracy: 0.8380\n"
          ]
        },
        {
          "output_type": "execute_result",
          "data": {
            "text/plain": [
              "[0.6188307404518127, 0.8379999995231628]"
            ]
          },
          "metadata": {},
          "execution_count": 45
        }
      ],
      "source": [
        "# what model 0 evaluate result?\n",
        "model_0.evaluate(test_data)"
      ]
    },
    {
      "cell_type": "code",
      "execution_count": null,
      "metadata": {
        "colab": {
          "base_uri": "https://localhost:8080/"
        },
        "id": "KFENti-qewAq",
        "outputId": "b2e24606-45cf-4c02-c18f-00a3d5372dc7"
      },
      "outputs": [
        {
          "output_type": "stream",
          "name": "stdout",
          "text": [
            "79/79 [==============================] - 26s 327ms/step - loss: 0.7990 - accuracy: 0.7696\n"
          ]
        }
      ],
      "source": [
        "# Check the model 2 all test evaluate resutl.\n",
        "model_2_results = model_2.evaluate(test_data)\n"
      ]
    },
    {
      "cell_type": "code",
      "execution_count": null,
      "metadata": {
        "id": "10TB4ybOjpfI",
        "colab": {
          "base_uri": "https://localhost:8080/"
        },
        "outputId": "c06ebddd-1c96-43c0-8fec-b7480079500d"
      },
      "outputs": [
        {
          "output_type": "execute_result",
          "data": {
            "text/plain": [
              "[0.7989773750305176, 0.769599974155426]"
            ]
          },
          "metadata": {},
          "execution_count": 47
        }
      ],
      "source": [
        "model_2_results"
      ]
    },
    {
      "cell_type": "code",
      "execution_count": null,
      "metadata": {
        "id": "ew9SRvbde01C",
        "colab": {
          "base_uri": "https://localhost:8080/",
          "height": 573
        },
        "outputId": "a9829f11-d445-4f2c-ea85-7b9e546d6910"
      },
      "outputs": [
        {
          "output_type": "display_data",
          "data": {
            "text/plain": [
              "<Figure size 432x288 with 1 Axes>"
            ],
            "image/png": "[encoded data removed]"
          },
          "metadata": {
            "needs_background": "light"
          }
        },
        {
          "output_type": "display_data",
          "data": {
            "text/plain": [
              "<Figure size 432x288 with 1 Axes>"
            ],
            "image/png": "[encoded data removed]"
          },
          "metadata": {
            "needs_background": "light"
          }
        }
      ],
      "source": [
        "# plot model 2 history \n",
        "plot_loss_curves(model_2_history)"
      ]
    },
    {
      "cell_type": "markdown",
      "metadata": {
        "id": "s1liUHAmfDaz"
      },
      "source": [
        "### Loading Check point weights.\n",
        "Loading model checkpoint and return model specefic checkpoint."
      ]
    },
    {
      "cell_type": "code",
      "execution_count": null,
      "metadata": {
        "id": "n6kGdqiAiS-1",
        "colab": {
          "base_uri": "https://localhost:8080/"
        },
        "outputId": "d902fa88-2c74-4fae-db4f-aba7a7945b83"
      },
      "outputs": [
        {
          "output_type": "execute_result",
          "data": {
            "text/plain": [
              "<tensorflow.python.training.tracking.util.CheckpointLoadStatus at 0x7fa1e424e690>"
            ]
          },
          "metadata": {},
          "execution_count": 49
        }
      ],
      "source": [
        "model_2.load_weights(checkpoint_path)"
      ]
    },
    {
      "cell_type": "code",
      "execution_count": null,
      "metadata": {
        "id": "YQscGM_yiedA",
        "colab": {
          "base_uri": "https://localhost:8080/"
        },
        "outputId": "04b427cc-af2b-454e-ec46-7e29b2760b04"
      },
      "outputs": [
        {
          "output_type": "stream",
          "name": "stdout",
          "text": [
            "79/79 [==============================] - 27s 339ms/step - loss: 0.7922 - accuracy: 0.7756\n"
          ]
        }
      ],
      "source": [
        "# evaluate model 2 with loaded weights.\n",
        "loaded_checkpoint_weights = model_2.evaluate(test_data)"
      ]
    },
    {
      "cell_type": "code",
      "execution_count": null,
      "metadata": {
        "id": "Y75MnWEajwvN",
        "colab": {
          "base_uri": "https://localhost:8080/"
        },
        "outputId": "992113d8-0d0d-43ac-f936-5db81ebc9d8a"
      },
      "outputs": [
        {
          "output_type": "execute_result",
          "data": {
            "text/plain": [
              "[0.7921959757804871, 0.775600016117096]"
            ]
          },
          "metadata": {},
          "execution_count": 51
        }
      ],
      "source": [
        "loaded_checkpoint_weights"
      ]
    },
    {
      "cell_type": "code",
      "execution_count": null,
      "metadata": {
        "id": "HiEmjmi0i33O",
        "colab": {
          "base_uri": "https://localhost:8080/"
        },
        "outputId": "e60dbbd8-ee61-4269-9705-d1271615441d"
      },
      "outputs": [
        {
          "output_type": "execute_result",
          "data": {
            "text/plain": [
              "False"
            ]
          },
          "metadata": {},
          "execution_count": 52
        }
      ],
      "source": [
        "# if the resutlt from our previously model 2 the loaded weight as the same worked done!\n",
        "loaded_checkpoint_weights ==  model_2_results"
      ]
    },
    {
      "cell_type": "code",
      "execution_count": null,
      "metadata": {
        "id": "2JU1NQqwkEEM",
        "colab": {
          "base_uri": "https://localhost:8080/"
        },
        "outputId": "0dba48c6-2993-482d-c9d6-a17806dd0a5c"
      },
      "outputs": [
        {
          "output_type": "execute_result",
          "data": {
            "text/plain": [
              "array([False, False])"
            ]
          },
          "metadata": {},
          "execution_count": 53
        }
      ],
      "source": [
        "import numpy as np\n",
        "np.isclose(np.array(model_2_results),np.array(loaded_checkpoint_weights))"
      ]
    },
    {
      "cell_type": "code",
      "execution_count": null,
      "metadata": {
        "id": "TzWfA18PkSA1",
        "colab": {
          "base_uri": "https://localhost:8080/"
        },
        "outputId": "c8298d00-3507-4cb0-91f9-d55d91d68d51"
      },
      "outputs": [
        {
          "output_type": "stream",
          "name": "stdout",
          "text": [
            "[ 0.0067814  -0.00600004]\n"
          ]
        }
      ],
      "source": [
        "print(np.array(model_2_results) - np.array(loaded_checkpoint_weights))"
      ]
    },
    {
      "cell_type": "markdown",
      "metadata": {
        "id": "QxgIsVLgmhoe"
      },
      "source": [
        "### Model 3 : Fine-Tuning are exiciting model on the 10% data\n",
        "\n",
        "> 🔑 **Note:** Fine-tuning usually works best after training a feature extraction model for a few epochs with large amounts of custom data."
      ]
    },
    {
      "cell_type": "code",
      "execution_count": null,
      "metadata": {
        "id": "GkLy_GTbwCY8",
        "colab": {
          "base_uri": "https://localhost:8080/"
        },
        "outputId": "7be92b74-b8d1-4ab5-8eb6-714198352c53"
      },
      "outputs": [
        {
          "output_type": "execute_result",
          "data": {
            "text/plain": [
              "[<keras.engine.input_layer.InputLayer at 0x7fa256a218d0>,\n",
              " <keras.engine.sequential.Sequential at 0x7fa2569e2350>,\n",
              " <keras.engine.functional.Functional at 0x7fa256546090>,\n",
              " <keras.layers.pooling.GlobalAveragePooling2D at 0x7fa255a73ed0>,\n",
              " <keras.layers.core.dense.Dense at 0x7fa2563c8bd0>]"
            ]
          },
          "metadata": {},
          "execution_count": 55
        }
      ],
      "source": [
        "# layer model 2 \n",
        "model_2.layers"
      ]
    },
    {
      "cell_type": "code",
      "execution_count": null,
      "metadata": {
        "id": "ZekL7yFNwJuR",
        "colab": {
          "base_uri": "https://localhost:8080/"
        },
        "outputId": "b0ed8045-e17a-4c77-9f81-e4bf04864c18"
      },
      "outputs": [
        {
          "output_type": "stream",
          "name": "stdout",
          "text": [
            "<keras.engine.input_layer.InputLayer object at 0x7fa256a218d0> True\n",
            "<keras.engine.sequential.Sequential object at 0x7fa2569e2350> True\n",
            "<keras.engine.functional.Functional object at 0x7fa256546090> False\n",
            "<keras.layers.pooling.GlobalAveragePooling2D object at 0x7fa255a73ed0> True\n",
            "<keras.layers.core.dense.Dense object at 0x7fa2563c8bd0> True\n"
          ]
        }
      ],
      "source": [
        "# are these layer trainable\n",
        "for layer in model_2.layers:\n",
        "    print(layer,layer.trainable)"
      ]
    },
    {
      "cell_type": "code",
      "execution_count": null,
      "metadata": {
        "id": "XHI5lnQawWxw",
        "colab": {
          "base_uri": "https://localhost:8080/"
        },
        "outputId": "ff2f77cb-f2f8-4b86-c83b-23e1d3feadb4"
      },
      "outputs": [
        {
          "output_type": "stream",
          "name": "stdout",
          "text": [
            "0 input_3 False\n",
            "1 rescaling_2 False\n",
            "2 normalization_2 False\n",
            "3 stem_conv_pad False\n",
            "4 stem_conv False\n",
            "5 stem_bn False\n",
            "6 stem_activation False\n",
            "7 block1a_dwconv False\n",
            "8 block1a_bn False\n",
            "9 block1a_activation False\n",
            "10 block1a_se_squeeze False\n",
            "11 block1a_se_reshape False\n",
            "12 block1a_se_reduce False\n",
            "13 block1a_se_expand False\n",
            "14 block1a_se_excite False\n",
            "15 block1a_project_conv False\n",
            "16 block1a_project_bn False\n",
            "17 block2a_expand_conv False\n",
            "18 block2a_expand_bn False\n",
            "19 block2a_expand_activation False\n",
            "20 block2a_dwconv_pad False\n",
            "21 block2a_dwconv False\n",
            "22 block2a_bn False\n",
            "23 block2a_activation False\n",
            "24 block2a_se_squeeze False\n",
            "25 block2a_se_reshape False\n",
            "26 block2a_se_reduce False\n",
            "27 block2a_se_expand False\n",
            "28 block2a_se_excite False\n",
            "29 block2a_project_conv False\n",
            "30 block2a_project_bn False\n",
            "31 block2b_expand_conv False\n",
            "32 block2b_expand_bn False\n",
            "33 block2b_expand_activation False\n",
            "34 block2b_dwconv False\n",
            "35 block2b_bn False\n",
            "36 block2b_activation False\n",
            "37 block2b_se_squeeze False\n",
            "38 block2b_se_reshape False\n",
            "39 block2b_se_reduce False\n",
            "40 block2b_se_expand False\n",
            "41 block2b_se_excite False\n",
            "42 block2b_project_conv False\n",
            "43 block2b_project_bn False\n",
            "44 block2b_drop False\n",
            "45 block2b_add False\n",
            "46 block3a_expand_conv False\n",
            "47 block3a_expand_bn False\n",
            "48 block3a_expand_activation False\n",
            "49 block3a_dwconv_pad False\n",
            "50 block3a_dwconv False\n",
            "51 block3a_bn False\n",
            "52 block3a_activation False\n",
            "53 block3a_se_squeeze False\n",
            "54 block3a_se_reshape False\n",
            "55 block3a_se_reduce False\n",
            "56 block3a_se_expand False\n",
            "57 block3a_se_excite False\n",
            "58 block3a_project_conv False\n",
            "59 block3a_project_bn False\n",
            "60 block3b_expand_conv False\n",
            "61 block3b_expand_bn False\n",
            "62 block3b_expand_activation False\n",
            "63 block3b_dwconv False\n",
            "64 block3b_bn False\n",
            "65 block3b_activation False\n",
            "66 block3b_se_squeeze False\n",
            "67 block3b_se_reshape False\n",
            "68 block3b_se_reduce False\n",
            "69 block3b_se_expand False\n",
            "70 block3b_se_excite False\n",
            "71 block3b_project_conv False\n",
            "72 block3b_project_bn False\n",
            "73 block3b_drop False\n",
            "74 block3b_add False\n",
            "75 block4a_expand_conv False\n",
            "76 block4a_expand_bn False\n",
            "77 block4a_expand_activation False\n",
            "78 block4a_dwconv_pad False\n",
            "79 block4a_dwconv False\n",
            "80 block4a_bn False\n",
            "81 block4a_activation False\n",
            "82 block4a_se_squeeze False\n",
            "83 block4a_se_reshape False\n",
            "84 block4a_se_reduce False\n",
            "85 block4a_se_expand False\n",
            "86 block4a_se_excite False\n",
            "87 block4a_project_conv False\n",
            "88 block4a_project_bn False\n",
            "89 block4b_expand_conv False\n",
            "90 block4b_expand_bn False\n",
            "91 block4b_expand_activation False\n",
            "92 block4b_dwconv False\n",
            "93 block4b_bn False\n",
            "94 block4b_activation False\n",
            "95 block4b_se_squeeze False\n",
            "96 block4b_se_reshape False\n",
            "97 block4b_se_reduce False\n",
            "98 block4b_se_expand False\n",
            "99 block4b_se_excite False\n",
            "100 block4b_project_conv False\n",
            "101 block4b_project_bn False\n",
            "102 block4b_drop False\n",
            "103 block4b_add False\n",
            "104 block4c_expand_conv False\n",
            "105 block4c_expand_bn False\n",
            "106 block4c_expand_activation False\n",
            "107 block4c_dwconv False\n",
            "108 block4c_bn False\n",
            "109 block4c_activation False\n",
            "110 block4c_se_squeeze False\n",
            "111 block4c_se_reshape False\n",
            "112 block4c_se_reduce False\n",
            "113 block4c_se_expand False\n",
            "114 block4c_se_excite False\n",
            "115 block4c_project_conv False\n",
            "116 block4c_project_bn False\n",
            "117 block4c_drop False\n",
            "118 block4c_add False\n",
            "119 block5a_expand_conv False\n",
            "120 block5a_expand_bn False\n",
            "121 block5a_expand_activation False\n",
            "122 block5a_dwconv False\n",
            "123 block5a_bn False\n",
            "124 block5a_activation False\n",
            "125 block5a_se_squeeze False\n",
            "126 block5a_se_reshape False\n",
            "127 block5a_se_reduce False\n",
            "128 block5a_se_expand False\n",
            "129 block5a_se_excite False\n",
            "130 block5a_project_conv False\n",
            "131 block5a_project_bn False\n",
            "132 block5b_expand_conv False\n",
            "133 block5b_expand_bn False\n",
            "134 block5b_expand_activation False\n",
            "135 block5b_dwconv False\n",
            "136 block5b_bn False\n",
            "137 block5b_activation False\n",
            "138 block5b_se_squeeze False\n",
            "139 block5b_se_reshape False\n",
            "140 block5b_se_reduce False\n",
            "141 block5b_se_expand False\n",
            "142 block5b_se_excite False\n",
            "143 block5b_project_conv False\n",
            "144 block5b_project_bn False\n",
            "145 block5b_drop False\n",
            "146 block5b_add False\n",
            "147 block5c_expand_conv False\n",
            "148 block5c_expand_bn False\n",
            "149 block5c_expand_activation False\n",
            "150 block5c_dwconv False\n",
            "151 block5c_bn False\n",
            "152 block5c_activation False\n",
            "153 block5c_se_squeeze False\n",
            "154 block5c_se_reshape False\n",
            "155 block5c_se_reduce False\n",
            "156 block5c_se_expand False\n",
            "157 block5c_se_excite False\n",
            "158 block5c_project_conv False\n",
            "159 block5c_project_bn False\n",
            "160 block5c_drop False\n",
            "161 block5c_add False\n",
            "162 block6a_expand_conv False\n",
            "163 block6a_expand_bn False\n",
            "164 block6a_expand_activation False\n",
            "165 block6a_dwconv_pad False\n",
            "166 block6a_dwconv False\n",
            "167 block6a_bn False\n",
            "168 block6a_activation False\n",
            "169 block6a_se_squeeze False\n",
            "170 block6a_se_reshape False\n",
            "171 block6a_se_reduce False\n",
            "172 block6a_se_expand False\n",
            "173 block6a_se_excite False\n",
            "174 block6a_project_conv False\n",
            "175 block6a_project_bn False\n",
            "176 block6b_expand_conv False\n",
            "177 block6b_expand_bn False\n",
            "178 block6b_expand_activation False\n",
            "179 block6b_dwconv False\n",
            "180 block6b_bn False\n",
            "181 block6b_activation False\n",
            "182 block6b_se_squeeze False\n",
            "183 block6b_se_reshape False\n",
            "184 block6b_se_reduce False\n",
            "185 block6b_se_expand False\n",
            "186 block6b_se_excite False\n",
            "187 block6b_project_conv False\n",
            "188 block6b_project_bn False\n",
            "189 block6b_drop False\n",
            "190 block6b_add False\n",
            "191 block6c_expand_conv False\n",
            "192 block6c_expand_bn False\n",
            "193 block6c_expand_activation False\n",
            "194 block6c_dwconv False\n",
            "195 block6c_bn False\n",
            "196 block6c_activation False\n",
            "197 block6c_se_squeeze False\n",
            "198 block6c_se_reshape False\n",
            "199 block6c_se_reduce False\n",
            "200 block6c_se_expand False\n",
            "201 block6c_se_excite False\n",
            "202 block6c_project_conv False\n",
            "203 block6c_project_bn False\n",
            "204 block6c_drop False\n",
            "205 block6c_add False\n",
            "206 block6d_expand_conv False\n",
            "207 block6d_expand_bn False\n",
            "208 block6d_expand_activation False\n",
            "209 block6d_dwconv False\n",
            "210 block6d_bn False\n",
            "211 block6d_activation False\n",
            "212 block6d_se_squeeze False\n",
            "213 block6d_se_reshape False\n",
            "214 block6d_se_reduce False\n",
            "215 block6d_se_expand False\n",
            "216 block6d_se_excite False\n",
            "217 block6d_project_conv False\n",
            "218 block6d_project_bn False\n",
            "219 block6d_drop False\n",
            "220 block6d_add False\n",
            "221 block7a_expand_conv False\n",
            "222 block7a_expand_bn False\n",
            "223 block7a_expand_activation False\n",
            "224 block7a_dwconv False\n",
            "225 block7a_bn False\n",
            "226 block7a_activation False\n",
            "227 block7a_se_squeeze False\n",
            "228 block7a_se_reshape False\n",
            "229 block7a_se_reduce False\n",
            "230 block7a_se_expand False\n",
            "231 block7a_se_excite False\n",
            "232 block7a_project_conv False\n",
            "233 block7a_project_bn False\n",
            "234 top_conv False\n",
            "235 top_bn False\n",
            "236 top_activation False\n"
          ]
        }
      ],
      "source": [
        "# what layer are the base model (efficientNetB0 trainable)\n",
        "for layer_number,layer in enumerate(model_2.layers[2].layers):\n",
        "    print(layer_number,layer.name,layer.trainable)"
      ]
    },
    {
      "cell_type": "code",
      "execution_count": null,
      "metadata": {
        "id": "Q5H6naBow3-x",
        "colab": {
          "base_uri": "https://localhost:8080/"
        },
        "outputId": "755972c8-b2f2-4e5e-802b-ab00969b5531"
      },
      "outputs": [
        {
          "output_type": "stream",
          "name": "stdout",
          "text": [
            "0\n"
          ]
        }
      ],
      "source": [
        "# how many trainable our base model\n",
        "print(len(model_2.layers[2].trainable_variables))"
      ]
    },
    {
      "cell_type": "code",
      "execution_count": null,
      "metadata": {
        "id": "g_stmnLTxQph",
        "colab": {
          "base_uri": "https://localhost:8080/"
        },
        "outputId": "d304c580-b9c8-4c61-f5bf-5313661a578e"
      },
      "outputs": [
        {
          "output_type": "stream",
          "name": "stderr",
          "text": [
            "/usr/local/lib/python3.7/dist-packages/keras/optimizer_v2/adam.py:105: UserWarning: The `lr` argument is deprecated, use `learning_rate` instead.\n",
            "  super(Adam, self).__init__(name, **kwargs)\n"
          ]
        }
      ],
      "source": [
        "# To begin fine-tuning, let's start by setting the last 10 layers of our base_model.trainable = True.\n",
        "base_model_2.trainable = True\n",
        "\n",
        "# Freeze all layers except for the last 10\n",
        "for layer in base_model_2.layers[:-10]:\n",
        "    layer.trainable = False\n",
        "\n",
        "# Recompile (we have to recompile our models every time we make a change)\n",
        "model_2.compile(loss=\"categorical_crossentropy\",\n",
        "                optimizer=tf.keras.optimizers.Adam(lr=0.0001), # when fine-tuning you typically want to lower the learning rate by 10x*\n",
        "                metrics=[\"accuracy\"])"
      ]
    },
    {
      "cell_type": "markdown",
      "metadata": {
        "id": "Zg4hBVC5zfvT"
      },
      "source": [
        "> 🔑 **Note:** When using fine-tuning it's best practice to lower your learning rate by some amount. How much? This is a hyperparameter you can tune. But a good rule of thumb is at least 10x (though different sources will claim other values). A good resource for information on this is the ULMFiT paper: https://arxiv.org/abs/1801.06146"
      ]
    },
    {
      "cell_type": "code",
      "execution_count": null,
      "metadata": {
        "id": "QTMWsZIQyCq6",
        "colab": {
          "base_uri": "https://localhost:8080/"
        },
        "outputId": "426f6572-fa72-4a3c-8a71-e686e8c4cdbe"
      },
      "outputs": [
        {
          "output_type": "stream",
          "name": "stdout",
          "text": [
            "<keras.engine.input_layer.InputLayer object at 0x7fa256a218d0> True\n",
            "<keras.engine.sequential.Sequential object at 0x7fa2569e2350> True\n",
            "<keras.engine.functional.Functional object at 0x7fa256546090> True\n",
            "<keras.layers.pooling.GlobalAveragePooling2D object at 0x7fa255a73ed0> True\n",
            "<keras.layers.core.dense.Dense object at 0x7fa2563c8bd0> True\n"
          ]
        }
      ],
      "source": [
        "# check how many model_2 layer trainable\n",
        "for layer in model_2.layers:\n",
        "    print(layer,layer.trainable)"
      ]
    },
    {
      "cell_type": "code",
      "execution_count": null,
      "metadata": {
        "id": "W076owk5yjnQ",
        "colab": {
          "base_uri": "https://localhost:8080/"
        },
        "outputId": "e45c768e-5003-4d2c-eeeb-27f101eb0794"
      },
      "outputs": [
        {
          "output_type": "stream",
          "name": "stdout",
          "text": [
            "0 input_3 False\n",
            "1 rescaling_2 False\n",
            "2 normalization_2 False\n",
            "3 stem_conv_pad False\n",
            "4 stem_conv False\n",
            "5 stem_bn False\n",
            "6 stem_activation False\n",
            "7 block1a_dwconv False\n",
            "8 block1a_bn False\n",
            "9 block1a_activation False\n",
            "10 block1a_se_squeeze False\n",
            "11 block1a_se_reshape False\n",
            "12 block1a_se_reduce False\n",
            "13 block1a_se_expand False\n",
            "14 block1a_se_excite False\n",
            "15 block1a_project_conv False\n",
            "16 block1a_project_bn False\n",
            "17 block2a_expand_conv False\n",
            "18 block2a_expand_bn False\n",
            "19 block2a_expand_activation False\n",
            "20 block2a_dwconv_pad False\n",
            "21 block2a_dwconv False\n",
            "22 block2a_bn False\n",
            "23 block2a_activation False\n",
            "24 block2a_se_squeeze False\n",
            "25 block2a_se_reshape False\n",
            "26 block2a_se_reduce False\n",
            "27 block2a_se_expand False\n",
            "28 block2a_se_excite False\n",
            "29 block2a_project_conv False\n",
            "30 block2a_project_bn False\n",
            "31 block2b_expand_conv False\n",
            "32 block2b_expand_bn False\n",
            "33 block2b_expand_activation False\n",
            "34 block2b_dwconv False\n",
            "35 block2b_bn False\n",
            "36 block2b_activation False\n",
            "37 block2b_se_squeeze False\n",
            "38 block2b_se_reshape False\n",
            "39 block2b_se_reduce False\n",
            "40 block2b_se_expand False\n",
            "41 block2b_se_excite False\n",
            "42 block2b_project_conv False\n",
            "43 block2b_project_bn False\n",
            "44 block2b_drop False\n",
            "45 block2b_add False\n",
            "46 block3a_expand_conv False\n",
            "47 block3a_expand_bn False\n",
            "48 block3a_expand_activation False\n",
            "49 block3a_dwconv_pad False\n",
            "50 block3a_dwconv False\n",
            "51 block3a_bn False\n",
            "52 block3a_activation False\n",
            "53 block3a_se_squeeze False\n",
            "54 block3a_se_reshape False\n",
            "55 block3a_se_reduce False\n",
            "56 block3a_se_expand False\n",
            "57 block3a_se_excite False\n",
            "58 block3a_project_conv False\n",
            "59 block3a_project_bn False\n",
            "60 block3b_expand_conv False\n",
            "61 block3b_expand_bn False\n",
            "62 block3b_expand_activation False\n",
            "63 block3b_dwconv False\n",
            "64 block3b_bn False\n",
            "65 block3b_activation False\n",
            "66 block3b_se_squeeze False\n",
            "67 block3b_se_reshape False\n",
            "68 block3b_se_reduce False\n",
            "69 block3b_se_expand False\n",
            "70 block3b_se_excite False\n",
            "71 block3b_project_conv False\n",
            "72 block3b_project_bn False\n",
            "73 block3b_drop False\n",
            "74 block3b_add False\n",
            "75 block4a_expand_conv False\n",
            "76 block4a_expand_bn False\n",
            "77 block4a_expand_activation False\n",
            "78 block4a_dwconv_pad False\n",
            "79 block4a_dwconv False\n",
            "80 block4a_bn False\n",
            "81 block4a_activation False\n",
            "82 block4a_se_squeeze False\n",
            "83 block4a_se_reshape False\n",
            "84 block4a_se_reduce False\n",
            "85 block4a_se_expand False\n",
            "86 block4a_se_excite False\n",
            "87 block4a_project_conv False\n",
            "88 block4a_project_bn False\n",
            "89 block4b_expand_conv False\n",
            "90 block4b_expand_bn False\n",
            "91 block4b_expand_activation False\n",
            "92 block4b_dwconv False\n",
            "93 block4b_bn False\n",
            "94 block4b_activation False\n",
            "95 block4b_se_squeeze False\n",
            "96 block4b_se_reshape False\n",
            "97 block4b_se_reduce False\n",
            "98 block4b_se_expand False\n",
            "99 block4b_se_excite False\n",
            "100 block4b_project_conv False\n",
            "101 block4b_project_bn False\n",
            "102 block4b_drop False\n",
            "103 block4b_add False\n",
            "104 block4c_expand_conv False\n",
            "105 block4c_expand_bn False\n",
            "106 block4c_expand_activation False\n",
            "107 block4c_dwconv False\n",
            "108 block4c_bn False\n",
            "109 block4c_activation False\n",
            "110 block4c_se_squeeze False\n",
            "111 block4c_se_reshape False\n",
            "112 block4c_se_reduce False\n",
            "113 block4c_se_expand False\n",
            "114 block4c_se_excite False\n",
            "115 block4c_project_conv False\n",
            "116 block4c_project_bn False\n",
            "117 block4c_drop False\n",
            "118 block4c_add False\n",
            "119 block5a_expand_conv False\n",
            "120 block5a_expand_bn False\n",
            "121 block5a_expand_activation False\n",
            "122 block5a_dwconv False\n",
            "123 block5a_bn False\n",
            "124 block5a_activation False\n",
            "125 block5a_se_squeeze False\n",
            "126 block5a_se_reshape False\n",
            "127 block5a_se_reduce False\n",
            "128 block5a_se_expand False\n",
            "129 block5a_se_excite False\n",
            "130 block5a_project_conv False\n",
            "131 block5a_project_bn False\n",
            "132 block5b_expand_conv False\n",
            "133 block5b_expand_bn False\n",
            "134 block5b_expand_activation False\n",
            "135 block5b_dwconv False\n",
            "136 block5b_bn False\n",
            "137 block5b_activation False\n",
            "138 block5b_se_squeeze False\n",
            "139 block5b_se_reshape False\n",
            "140 block5b_se_reduce False\n",
            "141 block5b_se_expand False\n",
            "142 block5b_se_excite False\n",
            "143 block5b_project_conv False\n",
            "144 block5b_project_bn False\n",
            "145 block5b_drop False\n",
            "146 block5b_add False\n",
            "147 block5c_expand_conv False\n",
            "148 block5c_expand_bn False\n",
            "149 block5c_expand_activation False\n",
            "150 block5c_dwconv False\n",
            "151 block5c_bn False\n",
            "152 block5c_activation False\n",
            "153 block5c_se_squeeze False\n",
            "154 block5c_se_reshape False\n",
            "155 block5c_se_reduce False\n",
            "156 block5c_se_expand False\n",
            "157 block5c_se_excite False\n",
            "158 block5c_project_conv False\n",
            "159 block5c_project_bn False\n",
            "160 block5c_drop False\n",
            "161 block5c_add False\n",
            "162 block6a_expand_conv False\n",
            "163 block6a_expand_bn False\n",
            "164 block6a_expand_activation False\n",
            "165 block6a_dwconv_pad False\n",
            "166 block6a_dwconv False\n",
            "167 block6a_bn False\n",
            "168 block6a_activation False\n",
            "169 block6a_se_squeeze False\n",
            "170 block6a_se_reshape False\n",
            "171 block6a_se_reduce False\n",
            "172 block6a_se_expand False\n",
            "173 block6a_se_excite False\n",
            "174 block6a_project_conv False\n",
            "175 block6a_project_bn False\n",
            "176 block6b_expand_conv False\n",
            "177 block6b_expand_bn False\n",
            "178 block6b_expand_activation False\n",
            "179 block6b_dwconv False\n",
            "180 block6b_bn False\n",
            "181 block6b_activation False\n",
            "182 block6b_se_squeeze False\n",
            "183 block6b_se_reshape False\n",
            "184 block6b_se_reduce False\n",
            "185 block6b_se_expand False\n",
            "186 block6b_se_excite False\n",
            "187 block6b_project_conv False\n",
            "188 block6b_project_bn False\n",
            "189 block6b_drop False\n",
            "190 block6b_add False\n",
            "191 block6c_expand_conv False\n",
            "192 block6c_expand_bn False\n",
            "193 block6c_expand_activation False\n",
            "194 block6c_dwconv False\n",
            "195 block6c_bn False\n",
            "196 block6c_activation False\n",
            "197 block6c_se_squeeze False\n",
            "198 block6c_se_reshape False\n",
            "199 block6c_se_reduce False\n",
            "200 block6c_se_expand False\n",
            "201 block6c_se_excite False\n",
            "202 block6c_project_conv False\n",
            "203 block6c_project_bn False\n",
            "204 block6c_drop False\n",
            "205 block6c_add False\n",
            "206 block6d_expand_conv False\n",
            "207 block6d_expand_bn False\n",
            "208 block6d_expand_activation False\n",
            "209 block6d_dwconv False\n",
            "210 block6d_bn False\n",
            "211 block6d_activation False\n",
            "212 block6d_se_squeeze False\n",
            "213 block6d_se_reshape False\n",
            "214 block6d_se_reduce False\n",
            "215 block6d_se_expand False\n",
            "216 block6d_se_excite False\n",
            "217 block6d_project_conv False\n",
            "218 block6d_project_bn False\n",
            "219 block6d_drop False\n",
            "220 block6d_add False\n",
            "221 block7a_expand_conv False\n",
            "222 block7a_expand_bn False\n",
            "223 block7a_expand_activation False\n",
            "224 block7a_dwconv False\n",
            "225 block7a_bn False\n",
            "226 block7a_activation False\n",
            "227 block7a_se_squeeze True\n",
            "228 block7a_se_reshape True\n",
            "229 block7a_se_reduce True\n",
            "230 block7a_se_expand True\n",
            "231 block7a_se_excite True\n",
            "232 block7a_project_conv True\n",
            "233 block7a_project_bn True\n",
            "234 top_conv True\n",
            "235 top_bn True\n",
            "236 top_activation True\n"
          ]
        }
      ],
      "source": [
        "# check how many base model under trainable\n",
        "for layer_number,layer in enumerate(model_2.layers[2].layers):\n",
        "    print(layer_number,layer.name,layer.trainable)"
      ]
    },
    {
      "cell_type": "code",
      "execution_count": null,
      "metadata": {
        "id": "akTqfTY1y69f",
        "colab": {
          "base_uri": "https://localhost:8080/"
        },
        "outputId": "f3b6e43f-16f4-45ac-b4ac-0a01688b03d5"
      },
      "outputs": [
        {
          "output_type": "stream",
          "name": "stdout",
          "text": [
            "12\n"
          ]
        }
      ],
      "source": [
        "# how many trainable veriabel in base model 2\n",
        "print(len(model_2.trainable_variables))"
      ]
    },
    {
      "cell_type": "code",
      "execution_count": null,
      "metadata": {
        "colab": {
          "base_uri": "https://localhost:8080/"
        },
        "id": "gRaakx3azJa9",
        "outputId": "f04c596b-a194-4e64-acdf-ae9b9b2e2fc5"
      },
      "outputs": [
        {
          "output_type": "stream",
          "name": "stdout",
          "text": [
            "Saving TensorBoard log files to: tensorflow_hub/fine_tunning_10_percent_data/20220508-150445\n",
            "Epoch 5/10\n",
            "24/24 [==============================] - 9s 336ms/step - loss: 0.1528 - accuracy: 0.9533 - val_loss: 0.4147 - val_accuracy: 0.8684\n",
            "Epoch 6/10\n",
            "24/24 [==============================] - 8s 339ms/step - loss: 0.1407 - accuracy: 0.9587 - val_loss: 0.3891 - val_accuracy: 0.8701\n",
            "Epoch 7/10\n",
            "24/24 [==============================] - 10s 394ms/step - loss: 0.1164 - accuracy: 0.9787 - val_loss: 0.3959 - val_accuracy: 0.8750\n",
            "Epoch 8/10\n",
            "24/24 [==============================] - 9s 352ms/step - loss: 0.1033 - accuracy: 0.9760 - val_loss: 0.3562 - val_accuracy: 0.8799\n",
            "Epoch 9/10\n",
            "24/24 [==============================] - 11s 430ms/step - loss: 0.1070 - accuracy: 0.9733 - val_loss: 0.4732 - val_accuracy: 0.8635\n",
            "Epoch 10/10\n",
            "24/24 [==============================] - 10s 397ms/step - loss: 0.0906 - accuracy: 0.9733 - val_loss: 0.3782 - val_accuracy: 0.8898\n"
          ]
        }
      ],
      "source": [
        "# fine tunning another 5 epoch\n",
        "fine_tuning_epoch = initial_epoch + 5\n",
        "\n",
        "# Refit the model 2 (same as model_2 except more trainable layers)\n",
        "history_fine_10_percent = model_2.fit(train_data_10_percent,\n",
        "                                      epochs=fine_tuning_epoch,\n",
        "                                      validation_data=test_data,\n",
        "                                      validation_steps=int(0.25 * len(test_data)), # start previouse epoch \n",
        "                                      initial_epoch=model_2_history.epoch[-1],\n",
        "                                      callbacks=[create_tensorboard_callback(dir_name=\"tensorflow_hub\",experiment_name=\"fine_tunning_10_percent_data\")])"
      ]
    },
    {
      "cell_type": "code",
      "execution_count": null,
      "metadata": {
        "id": "k1lcKZGD0Gfo",
        "colab": {
          "base_uri": "https://localhost:8080/"
        },
        "outputId": "6b93bcc1-b3ea-4b6c-e79e-915898cf5560"
      },
      "outputs": [
        {
          "output_type": "stream",
          "name": "stdout",
          "text": [
            "79/79 [==============================] - 21s 259ms/step - loss: 0.7910 - accuracy: 0.7744\n"
          ]
        }
      ],
      "source": [
        "# Evaluate the fine-tuning model (model_3 which is actually model_2 fine-tuning for anothe 5 epoch) \n",
        "result_fine_10_percent = model_2.evaluate(test_data)"
      ]
    },
    {
      "cell_type": "code",
      "execution_count": null,
      "metadata": {
        "id": "F5dQcNv04tbX",
        "colab": {
          "base_uri": "https://localhost:8080/",
          "height": 573
        },
        "outputId": "8c108166-233e-436a-86d0-7d4c09c4afae"
      },
      "outputs": [
        {
          "output_type": "display_data",
          "data": {
            "text/plain": [
              "<Figure size 432x288 with 1 Axes>"
            ],
            "image/png": "[encoded data removed]"
          },
          "metadata": {
            "needs_background": "light"
          }
        },
        {
          "output_type": "display_data",
          "data": {
            "text/plain": [
              "<Figure size 432x288 with 1 Axes>"
            ],
            "image/png": "[encoded data removed]"
          },
          "metadata": {
            "needs_background": "light"
          }
        }
      ],
      "source": [
        "# plot after fine-tuning model\n",
        "plot_loss_curves(history_fine_10_percent)"
      ]
    },
    {
      "cell_type": "markdown",
      "metadata": {
        "id": "5qhuZwA576-4"
      },
      "source": [
        "\n",
        "The plot_loss_curves function works great with models which have only been fit once, however, we want somthing to compare one series of running fit() with another (e.g. before and after fine-tuning)."
      ]
    },
    {
      "cell_type": "code",
      "execution_count": null,
      "metadata": {
        "id": "q9hZzMDGf0T9"
      },
      "outputs": [],
      "source": [
        "# Let's create function compare two history\n",
        "def compare_history(orginal_history,new_history,epochs=5):\n",
        "    \"\"\"\n",
        "    Compare Two TensorFlow history.\n",
        "    \"\"\"\n",
        "\n",
        "    # get orginal histry accuracy and loss curves\n",
        "    acc = orginal_history.history[\"accuracy\"]\n",
        "    loss = orginal_history.history[\"loss\"]\n",
        "    val_acc = orginal_history.history[\"val_accuracy\"]\n",
        "    val_loss = orginal_history.history[\"val_loss\"]\n",
        "\n",
        "    # combine original history metric with new history \n",
        "    total_acc = acc +  new_history.history[\"accuracy\"]\n",
        "    total_loss = loss + new_history.history[\"loss\"]\n",
        "\n",
        "    total_val_acc = val_acc + new_history.history[\"val_accuracy\"]\n",
        "    total_val_loss = val_loss + new_history.history[\"val_loss\"]\n",
        "\n",
        "    # make plot \n",
        "    plt.figure(figsize=(8,8))\n",
        "    plt.subplot(2,1,1)\n",
        "    plt.plot(total_acc,label=\"Training Accuracy\")\n",
        "    plt.plot(total_val_acc,label=\"Validation Accuracy\")\n",
        "    plt.plot([initial_epoch - 1 , initial_epoch-1],plt.ylim(),label=\"start fine tuning\")\n",
        "    plt.legend(loc=\"lower right\")\n",
        "    plt.title(\"Training And Validation Accuracy\")\n",
        "\n",
        "    # make plot loss curves\n",
        "    plt.figure(figsize=(8,8))\n",
        "    plt.subplot(2,1,2)\n",
        "    plt.plot(total_loss,label=\"Training loss \")\n",
        "    plt.plot(total_val_loss,label=\"Validation loss\")\n",
        "    plt.plot([initial_epoch-1,initial_epoch-1],plt.ylim(),label=\"start fine tuning\")\n",
        "    plt.legend(loc=\"upper right\")\n",
        "    plt.title(\"Trainig and validation Loss\")\n"
      ]
    },
    {
      "cell_type": "code",
      "execution_count": null,
      "metadata": {
        "id": "hqAkb-74i_kz",
        "colab": {
          "base_uri": "https://localhost:8080/",
          "height": 507
        },
        "outputId": "788ec071-43c9-4922-817a-e86df683d03a"
      },
      "outputs": [
        {
          "output_type": "display_data",
          "data": {
            "text/plain": [
              "<Figure size 576x576 with 1 Axes>"
            ],
            "image/png": "[encoded data removed]"
          },
          "metadata": {
            "needs_background": "light"
          }
        },
        {
          "output_type": "display_data",
          "data": {
            "text/plain": [
              "<Figure size 576x576 with 1 Axes>"
            ],
            "image/png": "[encoded data removed]"
          },
          "metadata": {
            "needs_background": "light"
          }
        }
      ],
      "source": [
        "compare_history(model_2_history,history_fine_10_percent,epochs=10)"
      ]
    },
    {
      "cell_type": "markdown",
      "metadata": {
        "id": "QuvpFAqMjnsD"
      },
      "source": [
        "###  Model 4 : Fine-Tuning with all data using\n"
      ]
    },
    {
      "cell_type": "code",
      "execution_count": null,
      "metadata": {
        "id": "TPME1N0VnzUe",
        "colab": {
          "base_uri": "https://localhost:8080/"
        },
        "outputId": "16a533e0-4baa-420e-9992-f32d45bb5a71"
      },
      "outputs": [
        {
          "output_type": "stream",
          "name": "stdout",
          "text": [
            "--2022-05-08 14:30:44--  https://storage.googleapis.com/ztm_tf_course/food_vision/10_food_classes_all_data.zip\n",
            "Resolving storage.googleapis.com (storage.googleapis.com)... 74.125.140.128, 173.194.76.128, 142.251.5.128, ...\n",
            "Connecting to storage.googleapis.com (storage.googleapis.com)|74.125.140.128|:443... connected.\n",
            "HTTP request sent, awaiting response... 200 OK\n",
            "Length: 519183241 (495M) [application/zip]\n",
            "Saving to: ‘10_food_classes_all_data.zip.1’\n",
            "\n",
            "10_food_classes_all 100%[===================>] 495.13M   164MB/s    in 3.0s    \n",
            "\n",
            "2022-05-08 14:30:47 (164 MB/s) - ‘10_food_classes_all_data.zip.1’ saved [519183241/519183241]\n",
            "\n"
          ]
        }
      ],
      "source": [
        "# download data \n",
        "!wget https://storage.googleapis.com/ztm_tf_course/food_vision/10_food_classes_all_data.zip\n",
        "# unzip data \n",
        "unzip_data(filename=\"10_food_classes_all_data.zip\")"
      ]
    },
    {
      "cell_type": "code",
      "execution_count": null,
      "metadata": {
        "id": "5SRq9TqCot67",
        "colab": {
          "base_uri": "https://localhost:8080/"
        },
        "outputId": "6a3b006c-2efb-4ec3-a195-8e7f24682c7a"
      },
      "outputs": [
        {
          "output_type": "stream",
          "name": "stdout",
          "text": [
            "Found 7500 files belonging to 10 classes.\n",
            "Found 2500 files belonging to 10 classes.\n"
          ]
        }
      ],
      "source": [
        "# setup file path\n",
        "train_all_dir = \"10_food_classes_all_data/train\"\n",
        "test_all_dir = \"10_food_classes_all_data/test\"\n",
        "\n",
        "# setup data input\n",
        "IMAGE_SHAPE = (224,224)\n",
        "\n",
        "\n",
        "train_all_data = tf.keras.preprocessing.image_dataset_from_directory(directory=train_all_dir,\n",
        "                                                                     label_mode=\"categorical\",\n",
        "                                                                     image_size=IMAGE_SHAPE)\n",
        "test_all_data = tf.keras.preprocessing.image_dataset_from_directory(directory=test_all_dir,\n",
        "                                                                    label_mode=\"categorical\",\n",
        "                                                                    image_size=IMAGE_SHAPE)"
      ]
    },
    {
      "cell_type": "code",
      "execution_count": null,
      "metadata": {
        "id": "TrEqK19AsoKW",
        "colab": {
          "base_uri": "https://localhost:8080/"
        },
        "outputId": "30e0de6f-f773-4b28-c312-1f027ec9eacf"
      },
      "outputs": [
        {
          "output_type": "stream",
          "name": "stdout",
          "text": [
            "There are 2 directories and 0 images in '10_food_classes_all_data'.\n",
            "There are 10 directories and 0 images in '10_food_classes_all_data/test'.\n",
            "There are 0 directories and 250 images in '10_food_classes_all_data/test/chicken_curry'.\n",
            "There are 0 directories and 250 images in '10_food_classes_all_data/test/fried_rice'.\n",
            "There are 0 directories and 250 images in '10_food_classes_all_data/test/ramen'.\n",
            "There are 0 directories and 250 images in '10_food_classes_all_data/test/pizza'.\n",
            "There are 0 directories and 250 images in '10_food_classes_all_data/test/steak'.\n",
            "There are 0 directories and 250 images in '10_food_classes_all_data/test/sushi'.\n",
            "There are 0 directories and 250 images in '10_food_classes_all_data/test/hamburger'.\n",
            "There are 0 directories and 250 images in '10_food_classes_all_data/test/chicken_wings'.\n",
            "There are 0 directories and 250 images in '10_food_classes_all_data/test/grilled_salmon'.\n",
            "There are 0 directories and 250 images in '10_food_classes_all_data/test/ice_cream'.\n",
            "There are 10 directories and 0 images in '10_food_classes_all_data/train'.\n",
            "There are 0 directories and 750 images in '10_food_classes_all_data/train/chicken_curry'.\n",
            "There are 0 directories and 750 images in '10_food_classes_all_data/train/fried_rice'.\n",
            "There are 0 directories and 750 images in '10_food_classes_all_data/train/ramen'.\n",
            "There are 0 directories and 750 images in '10_food_classes_all_data/train/pizza'.\n",
            "There are 0 directories and 750 images in '10_food_classes_all_data/train/steak'.\n",
            "There are 0 directories and 750 images in '10_food_classes_all_data/train/sushi'.\n",
            "There are 0 directories and 750 images in '10_food_classes_all_data/train/hamburger'.\n",
            "There are 0 directories and 750 images in '10_food_classes_all_data/train/chicken_wings'.\n",
            "There are 0 directories and 750 images in '10_food_classes_all_data/train/grilled_salmon'.\n",
            "There are 0 directories and 750 images in '10_food_classes_all_data/train/ice_cream'.\n"
          ]
        }
      ],
      "source": [
        "# how many image have each of this directory\n",
        "walk_through_dir(dir_path=\"10_food_classes_all_data\")"
      ]
    },
    {
      "cell_type": "markdown",
      "metadata": {
        "id": "1XRhp_ifp3Ur"
      },
      "source": [
        "The test dataset we've loaded in is the same as what we've been using for previous experiments (all experiments have used the same test dataset).\n",
        "\n",
        "Let's verify this...\n",
        "\n"
      ]
    },
    {
      "cell_type": "code",
      "execution_count": null,
      "metadata": {
        "id": "6uAA_AYKtOXE",
        "colab": {
          "base_uri": "https://localhost:8080/"
        },
        "outputId": "caf0ac65-e0ca-4276-f549-0844fabb2940"
      },
      "outputs": [
        {
          "output_type": "stream",
          "name": "stdout",
          "text": [
            "79/79 [==============================] - 22s 270ms/step - loss: 0.7887 - accuracy: 0.7772\n"
          ]
        },
        {
          "output_type": "execute_result",
          "data": {
            "text/plain": [
              "[0.7887449860572815, 0.7771999835968018]"
            ]
          },
          "metadata": {},
          "execution_count": 83
        }
      ],
      "source": [
        "# Evaluate model 2 (this is the fine-tuned on 10 percent of data version)\n",
        "model_2.evaluate(test_all_data)"
      ]
    },
    {
      "cell_type": "code",
      "execution_count": null,
      "metadata": {
        "id": "4EKcEFyVtTkv",
        "colab": {
          "base_uri": "https://localhost:8080/"
        },
        "outputId": "af577a95-788f-4bcb-d4e5-708791445a2b"
      },
      "outputs": [
        {
          "output_type": "execute_result",
          "data": {
            "text/plain": [
              "[0.7909864783287048, 0.774399995803833]"
            ]
          },
          "metadata": {},
          "execution_count": 84
        }
      ],
      "source": [
        "result_fine_10_percent"
      ]
    },
    {
      "cell_type": "code",
      "execution_count": null,
      "metadata": {
        "id": "a97XFjEUtX3Y",
        "colab": {
          "base_uri": "https://localhost:8080/"
        },
        "outputId": "caab7229-6892-4391-dfa5-7304e5a1278b"
      },
      "outputs": [
        {
          "output_type": "execute_result",
          "data": {
            "text/plain": [
              "<tensorflow.python.training.tracking.util.CheckpointLoadStatus at 0x7fa1dcefaf50>"
            ]
          },
          "metadata": {},
          "execution_count": 85
        }
      ],
      "source": [
        "# Load weights from checkpoint, that way we can fine-tune from \n",
        "# the same stage the 10 percent data model was fine-tuned from\n",
        "model_2.load_weights(checkpoint_path)"
      ]
    },
    {
      "cell_type": "code",
      "execution_count": null,
      "metadata": {
        "id": "Uw5cG-v_4l-d",
        "colab": {
          "base_uri": "https://localhost:8080/"
        },
        "outputId": "79316c86-ba9c-4fad-d3cd-7fee3d55347e"
      },
      "outputs": [
        {
          "output_type": "stream",
          "name": "stdout",
          "text": [
            "79/79 [==============================] - 20s 247ms/step - loss: 0.7866 - accuracy: 0.7812\n"
          ]
        },
        {
          "output_type": "execute_result",
          "data": {
            "text/plain": [
              "[0.7866238951683044, 0.7811999917030334]"
            ]
          },
          "metadata": {},
          "execution_count": 86
        }
      ],
      "source": [
        "# Let's see model evaluate\n",
        "model_2.evaluate(test_all_data)"
      ]
    },
    {
      "cell_type": "code",
      "execution_count": null,
      "metadata": {
        "id": "KKvycRUC4v1a",
        "colab": {
          "base_uri": "https://localhost:8080/"
        },
        "outputId": "51eb78c3-f128-4630-b671-42e96a204237"
      },
      "outputs": [
        {
          "output_type": "execute_result",
          "data": {
            "text/plain": [
              "[0.7989773750305176, 0.769599974155426]"
            ]
          },
          "metadata": {},
          "execution_count": 88
        }
      ],
      "source": [
        "#  Check to see if our model_2 has been reverted back to feature extraction results\n",
        "model_2_results"
      ]
    },
    {
      "cell_type": "markdown",
      "metadata": {
        "id": "G0_mLRMZ4z72"
      },
      "source": [
        "Alright, the previous steps might seem quite confusing but all we've done is:\n",
        "\n",
        "1. Trained a feature extraction transfer learning model for 5 epochs on 10% of the data with data augmentation (model_2) and we saved the model's weights using ModelCheckpoint callback.\n",
        "2. Fine-tuned the same model on the same 10% of the data for a further 5 epochs with the top 10 layers of the base model unfrozen (model_3).\n",
        "3. Saved the results and training logs each time.\n",
        "4. Reloaded the model from step 1 to do the same steps as step 2 except this time we're going to use all of the data (model_4)."
      ]
    },
    {
      "cell_type": "code",
      "execution_count": null,
      "metadata": {
        "id": "F1QP3t0Q5ky3",
        "colab": {
          "base_uri": "https://localhost:8080/"
        },
        "outputId": "ac45eb25-d415-4edf-a571-31f7ca51427e"
      },
      "outputs": [
        {
          "output_type": "stream",
          "name": "stdout",
          "text": [
            "0 inputs_layers True\n",
            "1 data_augmentation True\n",
            "2 efficientnetb0 True\n",
            "3 global_avarege_pooling_2D True\n",
            "4 output_layers True\n"
          ]
        }
      ],
      "source": [
        "# check which layer are trainable \n",
        "for layer_number,layers in  enumerate(model_2.layers):\n",
        "    print(layer_number,layers.name,layers.trainable)"
      ]
    },
    {
      "cell_type": "code",
      "execution_count": null,
      "metadata": {
        "id": "PpxxcsTk59kN",
        "colab": {
          "base_uri": "https://localhost:8080/"
        },
        "outputId": "875bac0b-6ced-480e-b369-e057f5623336"
      },
      "outputs": [
        {
          "output_type": "stream",
          "name": "stdout",
          "text": [
            "0 input_3 False\n",
            "1 rescaling_2 False\n",
            "2 normalization_2 False\n",
            "3 stem_conv_pad False\n",
            "4 stem_conv False\n",
            "5 stem_bn False\n",
            "6 stem_activation False\n",
            "7 block1a_dwconv False\n",
            "8 block1a_bn False\n",
            "9 block1a_activation False\n",
            "10 block1a_se_squeeze False\n",
            "11 block1a_se_reshape False\n",
            "12 block1a_se_reduce False\n",
            "13 block1a_se_expand False\n",
            "14 block1a_se_excite False\n",
            "15 block1a_project_conv False\n",
            "16 block1a_project_bn False\n",
            "17 block2a_expand_conv False\n",
            "18 block2a_expand_bn False\n",
            "19 block2a_expand_activation False\n",
            "20 block2a_dwconv_pad False\n",
            "21 block2a_dwconv False\n",
            "22 block2a_bn False\n",
            "23 block2a_activation False\n",
            "24 block2a_se_squeeze False\n",
            "25 block2a_se_reshape False\n",
            "26 block2a_se_reduce False\n",
            "27 block2a_se_expand False\n",
            "28 block2a_se_excite False\n",
            "29 block2a_project_conv False\n",
            "30 block2a_project_bn False\n",
            "31 block2b_expand_conv False\n",
            "32 block2b_expand_bn False\n",
            "33 block2b_expand_activation False\n",
            "34 block2b_dwconv False\n",
            "35 block2b_bn False\n",
            "36 block2b_activation False\n",
            "37 block2b_se_squeeze False\n",
            "38 block2b_se_reshape False\n",
            "39 block2b_se_reduce False\n",
            "40 block2b_se_expand False\n",
            "41 block2b_se_excite False\n",
            "42 block2b_project_conv False\n",
            "43 block2b_project_bn False\n",
            "44 block2b_drop False\n",
            "45 block2b_add False\n",
            "46 block3a_expand_conv False\n",
            "47 block3a_expand_bn False\n",
            "48 block3a_expand_activation False\n",
            "49 block3a_dwconv_pad False\n",
            "50 block3a_dwconv False\n",
            "51 block3a_bn False\n",
            "52 block3a_activation False\n",
            "53 block3a_se_squeeze False\n",
            "54 block3a_se_reshape False\n",
            "55 block3a_se_reduce False\n",
            "56 block3a_se_expand False\n",
            "57 block3a_se_excite False\n",
            "58 block3a_project_conv False\n",
            "59 block3a_project_bn False\n",
            "60 block3b_expand_conv False\n",
            "61 block3b_expand_bn False\n",
            "62 block3b_expand_activation False\n",
            "63 block3b_dwconv False\n",
            "64 block3b_bn False\n",
            "65 block3b_activation False\n",
            "66 block3b_se_squeeze False\n",
            "67 block3b_se_reshape False\n",
            "68 block3b_se_reduce False\n",
            "69 block3b_se_expand False\n",
            "70 block3b_se_excite False\n",
            "71 block3b_project_conv False\n",
            "72 block3b_project_bn False\n",
            "73 block3b_drop False\n",
            "74 block3b_add False\n",
            "75 block4a_expand_conv False\n",
            "76 block4a_expand_bn False\n",
            "77 block4a_expand_activation False\n",
            "78 block4a_dwconv_pad False\n",
            "79 block4a_dwconv False\n",
            "80 block4a_bn False\n",
            "81 block4a_activation False\n",
            "82 block4a_se_squeeze False\n",
            "83 block4a_se_reshape False\n",
            "84 block4a_se_reduce False\n",
            "85 block4a_se_expand False\n",
            "86 block4a_se_excite False\n",
            "87 block4a_project_conv False\n",
            "88 block4a_project_bn False\n",
            "89 block4b_expand_conv False\n",
            "90 block4b_expand_bn False\n",
            "91 block4b_expand_activation False\n",
            "92 block4b_dwconv False\n",
            "93 block4b_bn False\n",
            "94 block4b_activation False\n",
            "95 block4b_se_squeeze False\n",
            "96 block4b_se_reshape False\n",
            "97 block4b_se_reduce False\n",
            "98 block4b_se_expand False\n",
            "99 block4b_se_excite False\n",
            "100 block4b_project_conv False\n",
            "101 block4b_project_bn False\n",
            "102 block4b_drop False\n",
            "103 block4b_add False\n",
            "104 block4c_expand_conv False\n",
            "105 block4c_expand_bn False\n",
            "106 block4c_expand_activation False\n",
            "107 block4c_dwconv False\n",
            "108 block4c_bn False\n",
            "109 block4c_activation False\n",
            "110 block4c_se_squeeze False\n",
            "111 block4c_se_reshape False\n",
            "112 block4c_se_reduce False\n",
            "113 block4c_se_expand False\n",
            "114 block4c_se_excite False\n",
            "115 block4c_project_conv False\n",
            "116 block4c_project_bn False\n",
            "117 block4c_drop False\n",
            "118 block4c_add False\n",
            "119 block5a_expand_conv False\n",
            "120 block5a_expand_bn False\n",
            "121 block5a_expand_activation False\n",
            "122 block5a_dwconv False\n",
            "123 block5a_bn False\n",
            "124 block5a_activation False\n",
            "125 block5a_se_squeeze False\n",
            "126 block5a_se_reshape False\n",
            "127 block5a_se_reduce False\n",
            "128 block5a_se_expand False\n",
            "129 block5a_se_excite False\n",
            "130 block5a_project_conv False\n",
            "131 block5a_project_bn False\n",
            "132 block5b_expand_conv False\n",
            "133 block5b_expand_bn False\n",
            "134 block5b_expand_activation False\n",
            "135 block5b_dwconv False\n",
            "136 block5b_bn False\n",
            "137 block5b_activation False\n",
            "138 block5b_se_squeeze False\n",
            "139 block5b_se_reshape False\n",
            "140 block5b_se_reduce False\n",
            "141 block5b_se_expand False\n",
            "142 block5b_se_excite False\n",
            "143 block5b_project_conv False\n",
            "144 block5b_project_bn False\n",
            "145 block5b_drop False\n",
            "146 block5b_add False\n",
            "147 block5c_expand_conv False\n",
            "148 block5c_expand_bn False\n",
            "149 block5c_expand_activation False\n",
            "150 block5c_dwconv False\n",
            "151 block5c_bn False\n",
            "152 block5c_activation False\n",
            "153 block5c_se_squeeze False\n",
            "154 block5c_se_reshape False\n",
            "155 block5c_se_reduce False\n",
            "156 block5c_se_expand False\n",
            "157 block5c_se_excite False\n",
            "158 block5c_project_conv False\n",
            "159 block5c_project_bn False\n",
            "160 block5c_drop False\n",
            "161 block5c_add False\n",
            "162 block6a_expand_conv False\n",
            "163 block6a_expand_bn False\n",
            "164 block6a_expand_activation False\n",
            "165 block6a_dwconv_pad False\n",
            "166 block6a_dwconv False\n",
            "167 block6a_bn False\n",
            "168 block6a_activation False\n",
            "169 block6a_se_squeeze False\n",
            "170 block6a_se_reshape False\n",
            "171 block6a_se_reduce False\n",
            "172 block6a_se_expand False\n",
            "173 block6a_se_excite False\n",
            "174 block6a_project_conv False\n",
            "175 block6a_project_bn False\n",
            "176 block6b_expand_conv False\n",
            "177 block6b_expand_bn False\n",
            "178 block6b_expand_activation False\n",
            "179 block6b_dwconv False\n",
            "180 block6b_bn False\n",
            "181 block6b_activation False\n",
            "182 block6b_se_squeeze False\n",
            "183 block6b_se_reshape False\n",
            "184 block6b_se_reduce False\n",
            "185 block6b_se_expand False\n",
            "186 block6b_se_excite False\n",
            "187 block6b_project_conv False\n",
            "188 block6b_project_bn False\n",
            "189 block6b_drop False\n",
            "190 block6b_add False\n",
            "191 block6c_expand_conv False\n",
            "192 block6c_expand_bn False\n",
            "193 block6c_expand_activation False\n",
            "194 block6c_dwconv False\n",
            "195 block6c_bn False\n",
            "196 block6c_activation False\n",
            "197 block6c_se_squeeze False\n",
            "198 block6c_se_reshape False\n",
            "199 block6c_se_reduce False\n",
            "200 block6c_se_expand False\n",
            "201 block6c_se_excite False\n",
            "202 block6c_project_conv False\n",
            "203 block6c_project_bn False\n",
            "204 block6c_drop False\n",
            "205 block6c_add False\n",
            "206 block6d_expand_conv False\n",
            "207 block6d_expand_bn False\n",
            "208 block6d_expand_activation False\n",
            "209 block6d_dwconv False\n",
            "210 block6d_bn False\n",
            "211 block6d_activation False\n",
            "212 block6d_se_squeeze False\n",
            "213 block6d_se_reshape False\n",
            "214 block6d_se_reduce False\n",
            "215 block6d_se_expand False\n",
            "216 block6d_se_excite False\n",
            "217 block6d_project_conv False\n",
            "218 block6d_project_bn False\n",
            "219 block6d_drop False\n",
            "220 block6d_add False\n",
            "221 block7a_expand_conv False\n",
            "222 block7a_expand_bn False\n",
            "223 block7a_expand_activation False\n",
            "224 block7a_dwconv False\n",
            "225 block7a_bn False\n",
            "226 block7a_activation False\n",
            "227 block7a_se_squeeze True\n",
            "228 block7a_se_reshape True\n",
            "229 block7a_se_reduce True\n",
            "230 block7a_se_expand True\n",
            "231 block7a_se_excite True\n",
            "232 block7a_project_conv True\n",
            "233 block7a_project_bn True\n",
            "234 top_conv True\n",
            "235 top_bn True\n",
            "236 top_activation True\n"
          ]
        }
      ],
      "source": [
        "# Let's drill our base_model and see what layers are trainable\n",
        "for layer_number , layers in enumerate(model_2.layers[2].layers):\n",
        "    print(layer_number,layers.name,layers.trainable)"
      ]
    },
    {
      "cell_type": "code",
      "execution_count": null,
      "metadata": {
        "id": "WOoU9YZO9DIe",
        "colab": {
          "base_uri": "https://localhost:8080/"
        },
        "outputId": "f630cda6-65f1-49aa-a95c-1e210d3197c9"
      },
      "outputs": [
        {
          "output_type": "stream",
          "name": "stderr",
          "text": [
            "/usr/local/lib/python3.7/dist-packages/keras/optimizer_v2/adam.py:105: UserWarning: The `lr` argument is deprecated, use `learning_rate` instead.\n",
            "  super(Adam, self).__init__(name, **kwargs)\n"
          ]
        }
      ],
      "source": [
        "# when any change our model than recompile our model.\n",
        "model_2.compile(loss=tf.keras.losses.CategoricalCrossentropy(),\n",
        "                optimizer=tf.keras.optimizers.Adam(lr=0.0001),\n",
        "                metrics=[\"accuracy\"])"
      ]
    },
    {
      "cell_type": "code",
      "source": [
        "# now fit the model with all data\n",
        "fine_tuned_epoch = initial_epoch + 5\n",
        "histoy_fine_tuned_all_data = model_2.fit(train_all_data,\n",
        "                                         epochs=fine_tuned_epoch,\n",
        "                                         validation_data=test_all_data,\n",
        "                                         validation_steps= int(0.25 * len(test_all_data)),\n",
        "                                         initial_epoch=model_2_history.epoch[-1],\n",
        "                                         callbacks=[create_tensorboard_callback(\"tensorflow_hub\",\"fine_tuned_model_4_tensorboard\")])"
      ],
      "metadata": {
        "colab": {
          "base_uri": "https://localhost:8080/"
        },
        "id": "bQE15jF7CNZ5",
        "outputId": "317ed910-233a-4f7f-d46e-3f2b3d37feaa"
      },
      "execution_count": null,
      "outputs": [
        {
          "output_type": "stream",
          "name": "stdout",
          "text": [
            "Saving TensorBoard log files to: tensorflow_hub/fine_tuned_model_4_tensorboard/20220508-144052\n",
            "Epoch 5/10\n",
            "235/235 [==============================] - 63s 263ms/step - loss: 0.3800 - accuracy: 0.8791 - val_loss: 0.3607 - val_accuracy: 0.8783\n",
            "Epoch 6/10\n",
            "235/235 [==============================] - 51s 216ms/step - loss: 0.3506 - accuracy: 0.8872 - val_loss: 0.3521 - val_accuracy: 0.8832\n",
            "Epoch 7/10\n",
            "235/235 [==============================] - 51s 214ms/step - loss: 0.3262 - accuracy: 0.8971 - val_loss: 0.3514 - val_accuracy: 0.8882\n",
            "Epoch 8/10\n",
            "235/235 [==============================] - 49s 208ms/step - loss: 0.3206 - accuracy: 0.8984 - val_loss: 0.3589 - val_accuracy: 0.8799\n",
            "Epoch 9/10\n",
            "235/235 [==============================] - 46s 196ms/step - loss: 0.2914 - accuracy: 0.9057 - val_loss: 0.3436 - val_accuracy: 0.8882\n",
            "Epoch 10/10\n",
            "235/235 [==============================] - 48s 203ms/step - loss: 0.2750 - accuracy: 0.9164 - val_loss: 0.3310 - val_accuracy: 0.8832\n",
            "Saving TensorBoard log files to: tensorflow_hub/fine_tuned_model_4_tensorboard/20220508-144725\n",
            "Epoch 5/10\n",
            "235/235 [==============================] - 50s 209ms/step - loss: 0.2607 - accuracy: 0.9145 - val_loss: 0.3200 - val_accuracy: 0.8997\n",
            "Epoch 6/10\n",
            "235/235 [==============================] - 48s 203ms/step - loss: 0.2524 - accuracy: 0.9208 - val_loss: 0.3216 - val_accuracy: 0.8947\n",
            "Epoch 7/10\n",
            "235/235 [==============================] - 46s 194ms/step - loss: 0.2318 - accuracy: 0.9239 - val_loss: 0.3474 - val_accuracy: 0.8898\n",
            "Epoch 8/10\n",
            "235/235 [==============================] - 47s 198ms/step - loss: 0.2194 - accuracy: 0.9319 - val_loss: 0.3428 - val_accuracy: 0.8865\n",
            "Epoch 9/10\n",
            "235/235 [==============================] - 43s 181ms/step - loss: 0.2106 - accuracy: 0.9328 - val_loss: 0.3399 - val_accuracy: 0.8816\n",
            "Epoch 10/10\n",
            "235/235 [==============================] - 45s 187ms/step - loss: 0.2081 - accuracy: 0.9380 - val_loss: 0.3275 - val_accuracy: 0.8914\n"
          ]
        }
      ]
    },
    {
      "cell_type": "code",
      "source": [
        "fine_tuned_all_data_result = model_2.evaluate(test_all_data)\n",
        "fine_tuned_all_data_result"
      ],
      "metadata": {
        "colab": {
          "base_uri": "https://localhost:8080/"
        },
        "id": "IkXhlqQ_Dabe",
        "outputId": "2da152da-c398-468c-edd4-4d5c7753b539"
      },
      "execution_count": null,
      "outputs": [
        {
          "output_type": "stream",
          "name": "stdout",
          "text": [
            "79/79 [==============================] - 14s 170ms/step - loss: 0.3681 - accuracy: 0.8792\n"
          ]
        },
        {
          "output_type": "execute_result",
          "data": {
            "text/plain": [
              "[0.368095338344574, 0.8791999816894531]"
            ]
          },
          "metadata": {},
          "execution_count": 101
        }
      ]
    },
    {
      "cell_type": "code",
      "source": [
        "# let's did fine-tunning with more data?\n",
        "compare_history(model_2_history,histoy_fine_tuned_all_data,epochs=5)"
      ],
      "metadata": {
        "colab": {
          "base_uri": "https://localhost:8080/",
          "height": 507
        },
        "id": "HyFFDvXWE5WN",
        "outputId": "388f5bce-dfea-43fb-85c3-52adf67e8cc2"
      },
      "execution_count": null,
      "outputs": [
        {
          "output_type": "display_data",
          "data": {
            "text/plain": [
              "<Figure size 576x576 with 1 Axes>"
            ],
            "image/png": "[encoded data removed]"
          },
          "metadata": {
            "needs_background": "light"
          }
        },
        {
          "output_type": "display_data",
          "data": {
            "text/plain": [
              "<Figure size 576x576 with 1 Axes>"
            ],
            "image/png": "[encoded data removed]"
          },
          "metadata": {
            "needs_background": "light"
          }
        }
      ]
    },
    {
      "cell_type": "markdown",
      "source": [
        "##Viewing on tenosor board call back"
      ],
      "metadata": {
        "id": "-n0ge85tIGbZ"
      }
    },
    {
      "cell_type": "code",
      "source": [
        "!tensorboard dev upload --logdir ./tensorflow_hub\\\n",
        "  --name \"transfer-learning experiment with 10 percent data\"\\\n",
        "  --description \"A series of different transfer learning experiments with varying amounts of data and fine-tuning.\" \\\n",
        "  --one_shot # exist onece upload was finised"
      ],
      "metadata": {
        "id": "HEA9qpQGMX5I"
      },
      "execution_count": null,
      "outputs": []
    },
    {
      "cell_type": "markdown",
      "source": [
        "My experiment avalible on : https://tensorboard.dev/experiment/la91SxfATgCq1NVqKYx0SA/"
      ],
      "metadata": {
        "id": "mLo_o35aNyhx"
      }
    },
    {
      "cell_type": "code",
      "source": [
        ""
      ],
      "metadata": {
        "id": "_n1CVOo4OJmO"
      },
      "execution_count": null,
      "outputs": []
    }
  ],
  "metadata": {
    "colab": {
      "collapsed_sections": [],
      "name": "05_transfer_learning_in_tensorflow_part2_fine_tunning.ipynb",
      "provenance": [],
      "toc_visible": true
    },
    "kernelspec": {
      "display_name": "Python 3",
      "name": "python3"
    },
    "language_info": {
      "name": "python"
    },
    "accelerator": "GPU"
  },
  "nbformat": 4,
  "nbformat_minor": 0
}